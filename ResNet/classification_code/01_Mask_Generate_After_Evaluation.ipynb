{
 "cells": [
  {
   "cell_type": "code",
   "execution_count": 1,
   "metadata": {},
   "outputs": [],
   "source": [
    "import os\n",
    "import numpy as np\n",
    "import time, os, copy, datetime, glob\n",
    "from tqdm import tqdm\n",
    "from skimage import io\n",
    "from PIL import Image\n",
    "Image.MAX_IMAGE_PIXELS = None\n",
    "# PRE_PATH = '/BrainSeg/Classify_Results/GMBData/'\n",
    "# pred_names = os.listdir(PRE_PATH)\n",
    "# print(len(pred_names))"
   ]
  },
  {
   "cell_type": "markdown",
   "metadata": {},
   "source": [
    "## Generate Mask for comparison"
   ]
  },
  {
   "cell_type": "code",
   "execution_count": 2,
   "metadata": {},
   "outputs": [],
   "source": [
    "# Helper function to convert PyVips Image to numpy array\n",
    "# map vips formats to np dtypes\n",
    "format_to_dtype = {\n",
    "    'uchar': np.uint8,\n",
    "    'char': np.int8,\n",
    "    'ushort': np.uint16,\n",
    "    'short': np.int16,\n",
    "    'uint': np.uint32,\n",
    "    'int': np.int32,\n",
    "    'float': np.float32,\n",
    "    'double': np.float64,\n",
    "    'complex': np.complex64,\n",
    "    'dpcomplex': np.complex128,\n",
    "}\n",
    "\n",
    "# vips image to numpy array\n",
    "def vips2numpy(vi):\n",
    "    return np.ndarray(buffer=vi.write_to_memory(),\n",
    "                      dtype=format_to_dtype[vi.format],\n",
    "                      shape=[vi.height, vi.width, vi.bands])\n",
    "\n",
    "def img_frombytes(data):\n",
    "    size = data.shape[::-1]\n",
    "    databytes = np.packbits(data, axis=1)\n",
    "    return Image.frombytes(mode='1', size=size, data=databytes)"
   ]
  },
  {
   "cell_type": "code",
   "execution_count": 3,
   "metadata": {},
   "outputs": [
    {
     "name": "stdout",
     "output_type": "stream",
     "text": [
      "Run for the following 30 images out of 30 images:\n",
      " ['NA3777-02_AB.png', 'NA4077-02_AB.png', 'NA4092-02_AB.png', 'NA4107-02_AB.png', 'NA4160-02_AB.png', 'NA4195-02_AB.png', 'NA4256-02_AB.png', 'NA4299-02_AB.png', 'NA4391-02_AB.png', 'NA4450-02_AB.png', 'NA4463-02_AB.png', 'NA4471-02_AB.png', 'NA4553-02_AB.png', 'NA4626-02_AB.png', 'NA4672-02_AB.png', 'NA4675-02_AB.png', 'NA4691-02_AB.png', 'NA4695-02_AB.png', 'NA4894-02_AB17-24.png', 'NA4907-02_AB17-24.png', 'NA4944-02_AB17-24.png', 'NA4945-02_AB17-24.png', 'NA4967-02_AB17-24.png', 'NA4971-02_AB17-24.png', 'NA4972-02_AB17-24.png', 'NA4992-02_AB17-24.png', 'NA4993-02_AB17-24.png', 'NA5010-02_AB17-24.png', 'NA5015-02_AB17-24.png', 'NA5029-02_AB17-24.png']\n"
     ]
    }
   ],
   "source": [
    "# Specify images to run\n",
    "IMG_DIR = '/BrainSeg/norm_png/'\n",
    "SAVE_DATA_DIR = '/BrainSeg/Classify_Results/ResNet_Aug/GMBData/'\n",
    "SAVE_IMG_DIR = '/BrainSeg/Classify_Results/ResNet_Aug/GMBMasks/'\n",
    "\n",
    "filenames = glob.glob(IMG_DIR + '*.png')\n",
    "filenames = [filename.split('/')[-1] for filename in filenames]\n",
    "filenames = sorted(filenames)\n",
    "total_image_num = len(filenames)\n",
    "\n",
    "idx_image_to_eval = slice(0,30)      # Modify this line to select images to eval\n",
    "filenames = filenames[idx_image_to_eval]\n",
    "print('Run for the following %d images out of %d images:\\n' % (len(filenames), total_image_num), filenames)\n"
   ]
  },
  {
   "cell_type": "markdown",
   "metadata": {},
   "source": [
    "__GM and WM__"
   ]
  },
  {
   "cell_type": "code",
   "execution_count": 4,
   "metadata": {},
   "outputs": [
    {
     "name": "stderr",
     "output_type": "stream",
     "text": [
      "Image NA3777-02_AB.png:   0%|          | 0/30 [00:00<?, ?it/s]"
     ]
    },
    {
     "name": "stdout",
     "output_type": "stream",
     "text": [
      " "
     ]
    },
    {
     "name": "stderr",
     "output_type": "stream",
     "text": [
      "                                                                       "
     ]
    },
    {
     "name": "stdout",
     "output_type": "stream",
     "text": [
      "              "
     ]
    },
    {
     "name": "stderr",
     "output_type": "stream",
     "text": [
      "Image NA5029-02_AB17-24.png: 100%|██████████| 30/30 [00:00<00:00, 50.73it/s]"
     ]
    },
    {
     "name": "stdout",
     "output_type": "stream",
     "text": [
      "               "
     ]
    },
    {
     "name": "stderr",
     "output_type": "stream",
     "text": [
      "\n"
     ]
    }
   ],
   "source": [
    "# Start evaluating\n",
    "t = tqdm(total=len(filenames))\n",
    "for filename in filenames:\n",
    "    t.set_description_str(\"Image \" + filename + \": \")\n",
    "    t.refresh()\n",
    "    t.write(\"\", end=' ')\n",
    "\n",
    "    # Load data\n",
    "    data = np.load(SAVE_DATA_DIR + filename.split('.')[-2] + '.npy')\n",
    "\n",
    "    # Create grey white arrays\n",
    "    grey_arr = np.zeros_like(data, dtype='bool')\n",
    "    white_arr = np.zeros_like(data, dtype='bool')\n",
    "\n",
    "    # Set white matter to 1 for white_arr\n",
    "    white_arr[data == 1] = True\n",
    "    # Set grey matter to 2 for grey_arr\n",
    "    grey_arr[data == 2] = True\n",
    "    \n",
    "\n",
    "    # Create save images\n",
    "    save_img_grey = img_frombytes(grey_arr)\n",
    "    save_img_white = img_frombytes(white_arr)\n",
    "\n",
    "    # Save the images\n",
    "    save_img_grey.save(SAVE_IMG_DIR + filename.split('.')[-2] + '-Grey.png')\n",
    "    save_img_white.save(SAVE_IMG_DIR + filename.split('.')[-2] + '-White.png')\n",
    "\n",
    "    t.update()\n",
    "t.close()"
   ]
  },
  {
   "cell_type": "markdown",
   "metadata": {},
   "source": [
    "__Background__"
   ]
  },
  {
   "cell_type": "code",
   "execution_count": 5,
   "metadata": {},
   "outputs": [
    {
     "name": "stderr",
     "output_type": "stream",
     "text": [
      "Image NA5029-02_AB17-24.png: 100%|██████████| 30/30 [00:00<00:00, 211.10it/s]"
     ]
    },
    {
     "name": "stdout",
     "output_type": "stream",
     "text": [
      "                              "
     ]
    },
    {
     "name": "stderr",
     "output_type": "stream",
     "text": [
      "\n"
     ]
    }
   ],
   "source": [
    "# Start evaluating\n",
    "t = tqdm(total=len(filenames))\n",
    "for filename in filenames:\n",
    "    t.set_description_str(\"Image \" + filename + \": \")\n",
    "    t.refresh()\n",
    "    t.write(\"\", end=' ')\n",
    "\n",
    "    # Load data\n",
    "    data = np.load(SAVE_DATA_DIR + filename.split('.')[-2] + '.npy')\n",
    "\n",
    "    # Create background array\n",
    "    back_arr = np.zeros_like(data, dtype='bool')\n",
    "\n",
    "    # Set background to 1 for back_arr\n",
    "    back_arr[data == 0] = True\n",
    "\n",
    "    # Create save image\n",
    "    save_img_back = img_frombytes(back_arr)\n",
    "\n",
    "    # Save the image\n",
    "    save_img_back.save(SAVE_IMG_DIR + filename.split('.')[-2] + '-Background.png')\n",
    "\n",
    "    t.update()\n",
    "t.close()"
   ]
  },
  {
   "cell_type": "markdown",
   "metadata": {},
   "source": [
    "## Accuracy"
   ]
  },
  {
   "cell_type": "code",
   "execution_count": null,
   "metadata": {},
   "outputs": [],
   "source": []
  }
 ],
 "metadata": {
  "kernelspec": {
   "display_name": "Python 3",
   "language": "python",
   "name": "python3"
  },
  "language_info": {
   "codemirror_mode": {
    "name": "ipython",
    "version": 3
   },
   "file_extension": ".py",
   "mimetype": "text/x-python",
   "name": "python",
   "nbconvert_exporter": "python",
   "pygments_lexer": "ipython3",
   "version": "3.6.9"
  }
 },
 "nbformat": 4,
 "nbformat_minor": 4
}
