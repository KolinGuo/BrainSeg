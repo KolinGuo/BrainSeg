{
 "cells": [
  {
   "cell_type": "code",
   "execution_count": 6,
   "metadata": {},
   "outputs": [],
   "source": [
    "import os\n",
    "import time\n",
    "import pyvips\n",
    "import glob\n",
    "import numpy as np\n",
    "import pyvips\n",
    "from tqdm import tqdm\n",
    "import re\n",
    "from PIL import Image\n",
    "import random\n",
    "Image.MAX_IMAGE_PIXELS = None"
   ]
  },
  {
   "cell_type": "code",
   "execution_count": 7,
   "metadata": {},
   "outputs": [],
   "source": [
    "GT_ADDR = '/BrainSeg/ground_truth/'\n",
    "WSI_ADDR = '/BrainSeg/norm_png/'\n",
    "TRAIN_ADDR = '/BrainSeg/classify_train_dataset/'\n",
    "if not os.path.exists(TRAIN_ADDR):\n",
    "    os.makedirs(TRAIN_ADDR)"
   ]
  },
  {
   "cell_type": "code",
   "execution_count": 10,
   "metadata": {},
   "outputs": [
    {
     "data": {
      "text/plain": [
       "['NA4894-02_AB17-24.npy',\n",
       " 'NA4944-02_AB17-24.npy',\n",
       " 'NA4967-02_AB17-24.npy',\n",
       " 'NA4971-02_AB17-24.npy',\n",
       " 'NA4972-02_AB17-24.npy',\n",
       " 'NA4992-02_AB17-24.npy',\n",
       " 'NA4993-02_AB17-24.npy',\n",
       " 'NA5010-02_AB17-24.npy']"
      ]
     },
     "execution_count": 10,
     "metadata": {},
     "output_type": "execute_result"
    }
   ],
   "source": [
    "ground_truth = sorted(os.listdir(GT_ADDR))\n",
    "# ground_truth = ground_truth[-5:-4]\n",
    "ground_truth"
   ]
  },
  {
   "cell_type": "code",
   "execution_count": 9,
   "metadata": {},
   "outputs": [],
   "source": [
    "!rm -rf /BrainSeg/ground_truth/.ipynb_checkpoints"
   ]
  },
  {
   "cell_type": "code",
   "execution_count": 5,
   "metadata": {},
   "outputs": [
    {
     "data": {
      "text/plain": [
       "array([[1, 1, 1, ..., 1, 1, 1],\n",
       "       [1, 1, 1, ..., 1, 1, 1],\n",
       "       [1, 1, 1, ..., 1, 1, 1],\n",
       "       ...,\n",
       "       [1, 1, 1, ..., 1, 1, 1],\n",
       "       [1, 1, 1, ..., 1, 1, 1],\n",
       "       [1, 1, 1, ..., 1, 1, 1]], dtype=int8)"
      ]
     },
     "execution_count": 5,
     "metadata": {},
     "output_type": "execute_result"
    }
   ],
   "source": [
    "gt = np.load(GT_ADDR + ground_truth[0])\n",
    "gt"
   ]
  },
  {
   "cell_type": "code",
   "execution_count": 6,
   "metadata": {},
   "outputs": [
    {
     "data": {
      "text/plain": [
       "'NA4971-02_AB17-24'"
      ]
     },
     "execution_count": 6,
     "metadata": {},
     "output_type": "execute_result"
    }
   ],
   "source": [
    "ground_truth[0].split('.')[0]"
   ]
  },
  {
   "cell_type": "code",
   "execution_count": 11,
   "metadata": {},
   "outputs": [
    {
     "name": "stdout",
     "output_type": "stream",
     "text": [
      "<pyvips.Image 59760x44874 uchar, 3 bands, srgb>\n",
      "NA4894-02_AB17-24.npy width: 59760 width_num: 116 height: 44874 height_num: 87\n",
      "NA4894-02_AB17-24.npy 362.16374158859253\n",
      "<pyvips.Image 47808x36870 uchar, 3 bands, srgb>\n",
      "NA4944-02_AB17-24.npy width: 47808 width_num: 93 height: 36870 height_num: 72\n",
      "NA4944-02_AB17-24.npy 192.34869647026062\n",
      "<pyvips.Image 47808x35729 uchar, 3 bands, srgb>\n",
      "NA4967-02_AB17-24.npy width: 47808 width_num: 93 height: 35729 height_num: 69\n",
      "NA4967-02_AB17-24.npy 183.88225984573364\n",
      "<pyvips.Image 61752x38443 uchar, 3 bands, srgb>\n",
      "NA4971-02_AB17-24.npy width: 61752 width_num: 120 height: 38443 height_num: 75\n",
      "NA4971-02_AB17-24.npy 258.7615315914154\n",
      "<pyvips.Image 47808x39068 uchar, 3 bands, srgb>\n",
      "NA4972-02_AB17-24.npy width: 47808 width_num: 93 height: 39068 height_num: 76\n",
      "NA4972-02_AB17-24.npy 195.72688484191895\n",
      "<pyvips.Image 37848x37641 uchar, 3 bands, srgb>\n",
      "NA4992-02_AB17-24.npy width: 37848 width_num: 73 height: 37641 height_num: 73\n",
      "NA4992-02_AB17-24.npy 165.8953731060028\n",
      "<pyvips.Image 39840x41543 uchar, 3 bands, srgb>\n",
      "NA4993-02_AB17-24.npy width: 39840 width_num: 77 height: 41543 height_num: 81\n",
      "NA4993-02_AB17-24.npy 211.1761772632599\n",
      "<pyvips.Image 75695x77386 uchar, 3 bands, srgb>\n",
      "NA5010-02_AB17-24.npy width: 75695 width_num: 147 height: 77386 height_num: 151\n",
      "NA5010-02_AB17-24.npy 902.981369972229\n"
     ]
    }
   ],
   "source": [
    "# 1: background\n",
    "# 2: GM\n",
    "# 4: WM\n",
    "\n",
    "\n",
    "for truth in ground_truth:\n",
    "    start = time.time()\n",
    "    truth_name = truth.split('.')[0]\n",
    "#     WSI_ADDR = WSI_ADDR + truth_name + '.png'\n",
    "    WSI = pyvips.Image.new_from_file(WSI_ADDR + truth_name + '.png')\n",
    "    print(WSI)\n",
    "    truth_npy = np.load(GT_ADDR + truth)\n",
    "    \n",
    "    width = WSI.width\n",
    "    height = WSI.height\n",
    "    \n",
    "    \n",
    "    step = 512\n",
    "    width_num = width // step\n",
    "    height_num = height // step\n",
    "    print(truth, 'width:', width, 'width_num:', width_num, 'height:', height, 'height_num:', height_num)\n",
    "    SAVE_GM_DIR = TRAIN_ADDR + 'GM/' + truth_name\n",
    "    if not os.path.exists(SAVE_GM_DIR):\n",
    "        os.makedirs(SAVE_GM_DIR) \n",
    "\n",
    "    SAVE_WM_DIR = TRAIN_ADDR + 'WM/' + truth_name\n",
    "    if not os.path.exists(SAVE_WM_DIR):\n",
    "        os.makedirs(SAVE_WM_DIR)\n",
    "\n",
    "    SAVE_BG_DIR = TRAIN_ADDR + 'background/' + truth_name\n",
    "    if not os.path.exists(SAVE_BG_DIR):\n",
    "        os.makedirs(SAVE_BG_DIR)\n",
    "    \n",
    "    NUM_GM = 0\n",
    "    NUM_WM = 0\n",
    "    NUM_BG = 0\n",
    "    for i in range(1, width_num - 1):\n",
    "        for j in range(1, height_num - 1):\n",
    "            rd = random.randint(0,128)\n",
    "            x = i * step + rd \n",
    "            y = j * step + rd \n",
    "            patch = WSI.extract_area(x-128, y-128, 256, 256)\n",
    "            index_value = truth_npy[x,y]\n",
    "            if index_value == 2:\n",
    "                patch_name = SAVE_GM_DIR + '/' + 'g' + str(NUM_GM) + '.png'\n",
    "                NUM_GM = NUM_GM + 1\n",
    "            elif index_value == 4:\n",
    "                patch_name = SAVE_WM_DIR + '/' + 'w' + str(NUM_WM) + '.png'\n",
    "                NUM_WM = NUM_WM + 1\n",
    "            else:\n",
    "                patch_name = SAVE_BG_DIR + '/' + 'b' + str(NUM_BG) + '.png'\n",
    "                NUM_BG = NUM_BG + 1\n",
    "#             patch_name = SAVE_GM_DIR + '/'+ Tile_Name + str(i) + '.png'\n",
    "    \n",
    "            patch.write_to_file(patch_name)\n",
    "    end = time.time()\n",
    "    print(truth, end - start)"
   ]
  },
  {
   "cell_type": "code",
   "execution_count": null,
   "metadata": {},
   "outputs": [],
   "source": []
  }
 ],
 "metadata": {
  "kernelspec": {
   "display_name": "Python 3",
   "language": "python",
   "name": "python3"
  },
  "language_info": {
   "codemirror_mode": {
    "name": "ipython",
    "version": 3
   },
   "file_extension": ".py",
   "mimetype": "text/x-python",
   "name": "python",
   "nbconvert_exporter": "python",
   "pygments_lexer": "ipython3",
   "version": "3.6.9"
  }
 },
 "nbformat": 4,
 "nbformat_minor": 4
}
