{
 "cells": [
  {
   "cell_type": "code",
   "execution_count": 1,
   "metadata": {},
   "outputs": [],
   "source": [
    "TRUTH_DIR = '/BrainSeg/ground_truth_masks/'\n",
    "TEST_DIR = '/BrainSeg/Classify_Results/ResNet/GMBMasks/'\n",
    "SAVE_FILENAME = 'AccuracyResults.csv' # Under TEST_DIR\n",
    "SAVE_FILENAME_LATEX = 'AccuracyResults.txt' # Under TEST_DIR"
   ]
  },
  {
   "cell_type": "code",
   "execution_count": 2,
   "metadata": {},
   "outputs": [],
   "source": [
    "import os\n",
    "import glob\n",
    "import numpy as np\n",
    "import pyvips\n",
    "from tqdm import tqdm\n",
    "import re\n",
    "from PIL import Image\n",
    "Image.MAX_IMAGE_PIXELS = None"
   ]
  },
  {
   "cell_type": "code",
   "execution_count": 3,
   "metadata": {},
   "outputs": [],
   "source": [
    "!rm /BrainSeg/ground_truth_masks/.ipynb_checkpoints -rf"
   ]
  },
  {
   "cell_type": "code",
   "execution_count": 4,
   "metadata": {
    "scrolled": true
   },
   "outputs": [
    {
     "name": "stdout",
     "output_type": "stream",
     "text": [
      "[[53784 47177]\n",
      " [73704 46200]\n",
      " [65736 45178]\n",
      " [67728 36459]\n",
      " [59760 41787]\n",
      " [55776 39849]\n",
      " [61752 46410]\n",
      " [57768 43740]\n",
      " [49800 47520]\n",
      " [57768 47481]\n",
      " [53784 45142]\n",
      " [71712 47426]\n",
      " [67728 47200]\n",
      " [47808 41668]\n",
      " [49800 36131]\n",
      " [53784 45548]\n",
      " [53784 41073]\n",
      " [55776 41634]\n",
      " [59760 44874]\n",
      " [55776 44644]\n",
      " [47808 36870]\n",
      " [49800 43128]\n",
      " [47808 35729]\n",
      " [61752 38443]\n",
      " [47808 39068]\n",
      " [37848 37641]\n",
      " [39840 41543]\n",
      " [75695 77386]\n",
      " [55776 40419]\n",
      " [53784 43598]]\n",
      "(30, 2)\n"
     ]
    }
   ],
   "source": [
    "truth_images = sorted(os.listdir(TRUTH_DIR))\n",
    "IMAGEDIMNORM = np.zeros((30,2), np.int)\n",
    "for i in range(0, len(truth_images), 3):\n",
    "    img = pyvips.Image.new_from_file(TRUTH_DIR + truth_images[i])\n",
    "    width = img.width\n",
    "    height = img.height\n",
    "    IMAGEDIMNORM[i//3,0] = width\n",
    "    IMAGEDIMNORM[i//3,1] = height\n",
    "print(IMAGEDIMNORM)\n",
    "downscale = 128\n",
    "print(IMAGEDIMNORM.shape)"
   ]
  },
  {
   "cell_type": "code",
   "execution_count": 8,
   "metadata": {},
   "outputs": [
    {
     "data": {
      "text/plain": [
       "420.1875"
      ]
     },
     "execution_count": 8,
     "metadata": {},
     "output_type": "execute_result"
    }
   ],
   "source": [
    "53784/128"
   ]
  },
  {
   "cell_type": "code",
   "execution_count": 5,
   "metadata": {},
   "outputs": [
    {
     "data": {
      "text/plain": [
       "(30, 2)"
      ]
     },
     "execution_count": 5,
     "metadata": {},
     "output_type": "execute_result"
    }
   ],
   "source": [
    "IMAGEDIMNORM.shape"
   ]
  },
  {
   "cell_type": "code",
   "execution_count": 6,
   "metadata": {},
   "outputs": [
    {
     "name": "stdout",
     "output_type": "stream",
     "text": [
      "30\n"
     ]
    }
   ],
   "source": [
    "image_names = glob.glob(TRUTH_DIR + \"*Grey.png\")\n",
    "image_names = [imagename.split('/')[-1] for imagename in image_names]\n",
    "image_names = [imagename.split('-Grey')[0] for imagename in image_names]\n",
    "image_names = sorted(image_names)\n",
    "print(len(image_names))"
   ]
  },
  {
   "cell_type": "code",
   "execution_count": 7,
   "metadata": {},
   "outputs": [
    {
     "name": "stderr",
     "output_type": "stream",
     "text": [
      "Image NA3777-02_AB, Test ((368, 420)), Ground Truth ((368, 420)):   0%|          | 0/30 [00:03<?, ?it/s]"
     ]
    },
    {
     "name": "stdout",
     "output_type": "stream",
     "text": [
      " "
     ]
    },
    {
     "name": "stderr",
     "output_type": "stream",
     "text": [
      "Image NA4077-02_AB, Test ((360, 575)), Ground Truth ((360, 575)):   3%|▎         | 1/30 [00:10<02:59,  6.19s/it]"
     ]
    },
    {
     "name": "stdout",
     "output_type": "stream",
     "text": [
      " "
     ]
    },
    {
     "name": "stderr",
     "output_type": "stream",
     "text": [
      "Image NA4092-02_AB, Test ((352, 513)), Ground Truth ((352, 513)):   7%|▋         | 2/30 [00:18<03:10,  6.80s/it]"
     ]
    },
    {
     "name": "stdout",
     "output_type": "stream",
     "text": [
      " "
     ]
    },
    {
     "name": "stderr",
     "output_type": "stream",
     "text": [
      "Image NA4107-02_AB, Test ((284, 529)), Ground Truth ((284, 529)):  10%|█         | 3/30 [00:24<03:07,  6.93s/it]"
     ]
    },
    {
     "name": "stdout",
     "output_type": "stream",
     "text": [
      " "
     ]
    },
    {
     "name": "stderr",
     "output_type": "stream",
     "text": [
      "Image NA4160-02_AB, Test ((326, 466)), Ground Truth ((326, 466)):  13%|█▎        | 4/30 [00:30<02:52,  6.65s/it]"
     ]
    },
    {
     "name": "stdout",
     "output_type": "stream",
     "text": [
      " "
     ]
    },
    {
     "name": "stderr",
     "output_type": "stream",
     "text": [
      "Image NA4195-02_AB, Test ((311, 435)), Ground Truth ((311, 435)):  17%|█▋        | 5/30 [00:36<02:41,  6.47s/it]"
     ]
    },
    {
     "name": "stdout",
     "output_type": "stream",
     "text": [
      " "
     ]
    },
    {
     "name": "stderr",
     "output_type": "stream",
     "text": [
      "Image NA4256-02_AB, Test ((362, 482)), Ground Truth ((362, 482)):  20%|██        | 6/30 [00:42<02:27,  6.15s/it]"
     ]
    },
    {
     "name": "stdout",
     "output_type": "stream",
     "text": [
      " "
     ]
    },
    {
     "name": "stderr",
     "output_type": "stream",
     "text": [
      "Image NA4299-02_AB, Test ((341, 451)), Ground Truth ((341, 451)):  23%|██▎       | 7/30 [00:49<02:27,  6.40s/it]"
     ]
    },
    {
     "name": "stdout",
     "output_type": "stream",
     "text": [
      " "
     ]
    },
    {
     "name": "stderr",
     "output_type": "stream",
     "text": [
      "Image NA4391-02_AB, Test ((371, 389)), Ground Truth ((371, 389)):  27%|██▋       | 8/30 [00:55<02:19,  6.33s/it]"
     ]
    },
    {
     "name": "stdout",
     "output_type": "stream",
     "text": [
      " "
     ]
    },
    {
     "name": "stderr",
     "output_type": "stream",
     "text": [
      "Image NA4450-02_AB, Test ((370, 451)), Ground Truth ((370, 451)):  30%|███       | 9/30 [01:01<02:09,  6.16s/it]"
     ]
    },
    {
     "name": "stdout",
     "output_type": "stream",
     "text": [
      " "
     ]
    },
    {
     "name": "stderr",
     "output_type": "stream",
     "text": [
      "Image NA4463-02_AB, Test ((352, 420)), Ground Truth ((352, 420)):  33%|███▎      | 10/30 [01:07<02:06,  6.30s/it]"
     ]
    },
    {
     "name": "stdout",
     "output_type": "stream",
     "text": [
      " "
     ]
    },
    {
     "name": "stderr",
     "output_type": "stream",
     "text": [
      "Image NA4471-02_AB, Test ((370, 560)), Ground Truth ((370, 560)):  37%|███▋      | 11/30 [01:14<01:57,  6.20s/it]"
     ]
    },
    {
     "name": "stdout",
     "output_type": "stream",
     "text": [
      " "
     ]
    },
    {
     "name": "stderr",
     "output_type": "stream",
     "text": [
      "Image NA4553-02_AB, Test ((368, 529)), Ground Truth ((368, 529)):  40%|████      | 12/30 [01:22<02:01,  6.77s/it]"
     ]
    },
    {
     "name": "stdout",
     "output_type": "stream",
     "text": [
      " "
     ]
    },
    {
     "name": "stderr",
     "output_type": "stream",
     "text": [
      "Image NA4626-02_AB, Test ((325, 373)), Ground Truth ((325, 373)):  43%|████▎     | 13/30 [01:28<01:59,  7.05s/it]"
     ]
    },
    {
     "name": "stdout",
     "output_type": "stream",
     "text": [
      " "
     ]
    },
    {
     "name": "stderr",
     "output_type": "stream",
     "text": [
      "Image NA4672-02_AB, Test ((282, 389)), Ground Truth ((282, 389)):  47%|████▋     | 14/30 [01:33<01:42,  6.39s/it]"
     ]
    },
    {
     "name": "stdout",
     "output_type": "stream",
     "text": [
      " "
     ]
    },
    {
     "name": "stderr",
     "output_type": "stream",
     "text": [
      "Image NA4675-02_AB, Test ((355, 420)), Ground Truth ((355, 420)):  50%|█████     | 15/30 [01:38<01:26,  5.77s/it]"
     ]
    },
    {
     "name": "stdout",
     "output_type": "stream",
     "text": [
      " "
     ]
    },
    {
     "name": "stderr",
     "output_type": "stream",
     "text": [
      "Image NA4691-02_AB, Test ((320, 420)), Ground Truth ((320, 420)):  53%|█████▎    | 16/30 [01:44<01:21,  5.83s/it]"
     ]
    },
    {
     "name": "stdout",
     "output_type": "stream",
     "text": [
      " "
     ]
    },
    {
     "name": "stderr",
     "output_type": "stream",
     "text": [
      "Image NA4695-02_AB, Test ((325, 435)), Ground Truth ((325, 435)):  57%|█████▋    | 17/30 [01:49<01:14,  5.72s/it]"
     ]
    },
    {
     "name": "stdout",
     "output_type": "stream",
     "text": [
      " "
     ]
    },
    {
     "name": "stderr",
     "output_type": "stream",
     "text": [
      "Image NA4894-02_AB17-24, Test ((350, 466)), Ground Truth ((350, 466)):  60%|██████    | 18/30 [01:55<01:08,  5.71s/it]"
     ]
    },
    {
     "name": "stdout",
     "output_type": "stream",
     "text": [
      " "
     ]
    },
    {
     "name": "stderr",
     "output_type": "stream",
     "text": [
      "Image NA4907-02_AB17-24, Test ((348, 435)), Ground Truth ((348, 435)):  63%|██████▎   | 19/30 [02:02<01:05,  5.96s/it]"
     ]
    },
    {
     "name": "stdout",
     "output_type": "stream",
     "text": [
      " "
     ]
    },
    {
     "name": "stderr",
     "output_type": "stream",
     "text": [
      "Image NA4944-02_AB17-24, Test ((288, 373)), Ground Truth ((288, 373)):  67%|██████▋   | 20/30 [02:07<00:59,  5.99s/it]"
     ]
    },
    {
     "name": "stdout",
     "output_type": "stream",
     "text": [
      " "
     ]
    },
    {
     "name": "stderr",
     "output_type": "stream",
     "text": [
      "Image NA4945-02_AB17-24, Test ((336, 389)), Ground Truth ((336, 389)):  70%|███████   | 21/30 [02:12<00:49,  5.46s/it]"
     ]
    },
    {
     "name": "stdout",
     "output_type": "stream",
     "text": [
      " "
     ]
    },
    {
     "name": "stderr",
     "output_type": "stream",
     "text": [
      "Image NA4967-02_AB17-24, Test ((279, 373)), Ground Truth ((279, 373)):  73%|███████▎  | 22/30 [02:16<00:43,  5.39s/it]"
     ]
    },
    {
     "name": "stdout",
     "output_type": "stream",
     "text": [
      " "
     ]
    },
    {
     "name": "stderr",
     "output_type": "stream",
     "text": [
      "Image NA4971-02_AB17-24, Test ((300, 482)), Ground Truth ((300, 482)):  77%|███████▋  | 23/30 [02:21<00:35,  5.01s/it]"
     ]
    },
    {
     "name": "stdout",
     "output_type": "stream",
     "text": [
      " "
     ]
    },
    {
     "name": "stderr",
     "output_type": "stream",
     "text": [
      "Image NA4972-02_AB17-24, Test ((305, 373)), Ground Truth ((305, 373)):  80%|████████  | 24/30 [02:26<00:31,  5.23s/it]"
     ]
    },
    {
     "name": "stdout",
     "output_type": "stream",
     "text": [
      " "
     ]
    },
    {
     "name": "stderr",
     "output_type": "stream",
     "text": [
      "Image NA4992-02_AB17-24, Test ((294, 295)), Ground Truth ((294, 295)):  83%|████████▎ | 25/30 [02:30<00:25,  5.01s/it]"
     ]
    },
    {
     "name": "stdout",
     "output_type": "stream",
     "text": [
      " "
     ]
    },
    {
     "name": "stderr",
     "output_type": "stream",
     "text": [
      "Image NA4993-02_AB17-24, Test ((324, 311)), Ground Truth ((324, 311)):  87%|████████▋ | 26/30 [02:34<00:18,  4.54s/it]"
     ]
    },
    {
     "name": "stdout",
     "output_type": "stream",
     "text": [
      " "
     ]
    },
    {
     "name": "stderr",
     "output_type": "stream",
     "text": [
      "Image NA5010-02_AB17-24, Test ((604, 591)), Ground Truth ((604, 591)):  90%|█████████ | 27/30 [02:43<00:13,  4.40s/it]"
     ]
    },
    {
     "name": "stdout",
     "output_type": "stream",
     "text": [
      " "
     ]
    },
    {
     "name": "stderr",
     "output_type": "stream",
     "text": [
      "Image NA5015-02_AB17-24, Test ((315, 435)), Ground Truth ((315, 435)):  93%|█████████▎| 28/30 [02:53<00:14,  7.31s/it]"
     ]
    },
    {
     "name": "stdout",
     "output_type": "stream",
     "text": [
      " "
     ]
    },
    {
     "name": "stderr",
     "output_type": "stream",
     "text": [
      "Image NA5029-02_AB17-24, Test ((340, 420)), Ground Truth ((340, 420)):  97%|█████████▋| 29/30 [02:59<00:06,  6.77s/it]"
     ]
    },
    {
     "name": "stdout",
     "output_type": "stream",
     "text": [
      " "
     ]
    },
    {
     "name": "stderr",
     "output_type": "stream",
     "text": [
      "Image NA5029-02_AB17-24, Test ((340, 420)), Ground Truth ((340, 420)): 100%|██████████| 30/30 [03:01<00:00,  6.07s/it]"
     ]
    },
    {
     "name": "stdout",
     "output_type": "stream",
     "text": [
      "Done!\n"
     ]
    },
    {
     "name": "stderr",
     "output_type": "stream",
     "text": [
      "\n"
     ]
    }
   ],
   "source": [
    "#@title\n",
    "# Stores results: grey_TN, grey_FP, grey_FN, grey_TP, white_TN, white_FP, white_FN, white_TP\n",
    "results = np.zeros((len(image_names), 8), dtype='int')\n",
    "\n",
    "t = tqdm(total=len(image_names))\n",
    "for i, imagename in enumerate(image_names):\n",
    "    # Filename for testing and ground truth images\n",
    "    test_grey_img_name = imagename + \"-Grey.png\"\n",
    "    test_white_img_name = imagename + \"-White.png\"\n",
    "    truth_grey_img_name = imagename + \"-Grey.png\"\n",
    "    truth_white_img_name = imagename + \"-White.png\"\n",
    "\n",
    "    ##### Testing Grey Matter Mask #####\n",
    "    # Load images\n",
    "    test_img = np.array(Image.open(TEST_DIR + test_grey_img_name))\n",
    "    truth_img = Image.open(TRUTH_DIR + truth_grey_img_name)\n",
    "    (width, height) = (IMAGEDIMNORM[i, 0] // downscale, IMAGEDIMNORM[i, 1] // downscale)\n",
    "    truth_img = truth_img.resize((width, height), Image.BILINEAR)\n",
    "    truth_img = np.array(truth_img)\n",
    "\n",
    "    # Check dimensions\n",
    "    if not (test_img.shape[0] == IMAGEDIMNORM[i, 1]//downscale and test_img.shape[1] == IMAGEDIMNORM[i, 0]//downscale):\n",
    "        print('\\t' + imagename + ' grey dimension WRONG!!!')\n",
    "\n",
    "    # Update tqdm descriptions\n",
    "    t.set_description_str(\"Image {}, Test ({}), Ground Truth ({})\".format(\n",
    "      imagename, str(test_img.shape), str(truth_img.shape)) )\n",
    "    t.refresh()\n",
    "    t.write(\"\", end=' ')\n",
    "\n",
    "    # Clip test_img to 1\n",
    "    test_img[test_img>=1] = 1\n",
    "\n",
    "    # Calculate true and false segmentations\n",
    "    width = truth_img.shape[1]\n",
    "    height = truth_img.shape[0]\n",
    "    grey_TP = np.multiply(test_img, truth_img).sum()\n",
    "    grey_FP = np.multiply(test_img, np.logical_not(truth_img)).sum()\n",
    "    grey_FN = np.multiply(np.logical_not(test_img), truth_img).sum()\n",
    "    grey_TN = np.multiply(np.logical_not(test_img), np.logical_not(truth_img)).sum()\n",
    "\n",
    "    # Check results\n",
    "    grey_total = width*height\n",
    "    if not (grey_total == grey_TP+grey_FP+grey_FN+grey_TN):\n",
    "        print('\\t' + imagename + ' grey matter results WRONG!!!')\n",
    "\n",
    "    ##### Testing White Matter Mask #####\n",
    "    # Load images\n",
    "    test_img = np.array(Image.open(TEST_DIR + test_white_img_name))\n",
    "    truth_img = Image.open(TRUTH_DIR + truth_white_img_name)\n",
    "    (width, height) = (IMAGEDIMNORM[i, 0] // downscale, IMAGEDIMNORM[i, 1] // downscale)\n",
    "    truth_img = truth_img.resize((width, height), Image.BILINEAR)\n",
    "    truth_img = np.array(truth_img)\n",
    "\n",
    "    # Check dimensions\n",
    "    if not (test_img.shape[0] == IMAGEDIMNORM[i, 1]//downscale and test_img.shape[1] == IMAGEDIMNORM[i, 0]//downscale):\n",
    "        print('\\t' + imagename + ' white dimension WRONG!!!')\n",
    "\n",
    "    # Clip test_img to 1\n",
    "    test_img[test_img>=1] = 1\n",
    "\n",
    "    # Calculate true and false segmentations\n",
    "    width = truth_img.shape[1]\n",
    "    height = truth_img.shape[0]\n",
    "    white_TP = np.multiply(test_img, truth_img).sum()\n",
    "    white_FP = np.multiply(test_img, np.logical_not(truth_img)).sum()\n",
    "    white_FN = np.multiply(np.logical_not(test_img), truth_img).sum()\n",
    "    white_TN = np.multiply(np.logical_not(test_img), np.logical_not(truth_img)).sum()\n",
    "\n",
    "    # Check results\n",
    "    white_total = width*height\n",
    "    if not (white_total == white_TN+white_FP+white_FN+white_TP):\n",
    "        print('\\t' + imagename + ' white matter results WRONG!!!')\n",
    "\n",
    "    # Save results: grey_TN, grey_FP, grey_FN, grey_TP, white_TN, white_FP, white_FN, white_TP\n",
    "    results[i, :] = [grey_TN, grey_FP, grey_FN, grey_TP, white_TN, white_FP, white_FN, white_TP]\n",
    "\n",
    "    t.update()\n",
    "t.close()\n",
    "\n",
    "# Generate results file\n",
    "with open(TEST_DIR + SAVE_FILENAME, \"w\") as f:\n",
    "    f.write('Image Name,Grey_TN (px),Grey_FP (px),Grey_FN (px),Grey_TP (px),' +\n",
    "          'White_TN (px),White_FP (px),White_FN (px),White_TP (px),' + \n",
    "          'G_Accuracy (%),G_Misclassification Rate (%),G_Sensitivity (%),' +\n",
    "          'G_Specificity (%),G_Precision (%),G_Prevalence (%),' + \n",
    "          'W_Accuracy (%),W_Misclassification Rate (%),W_Sensitivity (%),' +\n",
    "          'W_Specificity (%),W_Precision (%),W_Prevalence (%)\\n') \n",
    "    accu_result = np.zeros((len(image_names), 12))\n",
    "    for i, imagename in enumerate(image_names):\n",
    "        total = results[i, 0]+results[i, 1]+results[i, 2]+results[i, 3]\n",
    "        accu_result[i, 0]  = (results[i, 0]+results[i, 3])/total*100\n",
    "        accu_result[i, 1]  = (results[i, 1]+results[i, 2])/total*100\n",
    "        accu_result[i, 2]  = (results[i, 3]/(results[i, 2]+results[i, 3]))*100\n",
    "        accu_result[i, 3]  = (results[i, 0]/(results[i, 0]+results[i, 1]))*100\n",
    "        accu_result[i, 4]  = (results[i, 3]/(results[i, 1]+results[i, 3]))*100\n",
    "        accu_result[i, 5]  = (results[i, 2]+results[i, 3])/total*100\n",
    "        total = results[i, 4]+results[i, 5]+results[i, 6]+results[i, 7]\n",
    "        accu_result[i, 6]  = (results[i, 4]+results[i, 7])/total*100\n",
    "        accu_result[i, 7]  = (results[i, 5]+results[i, 6])/total*100\n",
    "        accu_result[i, 8]  = (results[i, 7]/(results[i, 6]+results[i, 7]))*100\n",
    "        accu_result[i, 9]  = (results[i, 4]/(results[i, 4]+results[i, 5]))*100\n",
    "        accu_result[i, 10] = (results[i, 7]/(results[i, 5]+results[i, 7]))*100\n",
    "        accu_result[i, 11] = (results[i, 6]+results[i, 7])/total*100\n",
    "        f.write('%s,%d,%d,%d,%d,%d,%d,%d,%d,%.2f,%.2f,%.2f,%.2f,%.2f,%.2f,%.2f,%.2f,%.2f,%.2f,%.2f,%.2f\\n' % \n",
    "            (imagename, results[i, 0], results[i, 1], results[i, 2], results[i, 3], \n",
    "                results[i, 4], results[i, 5], results[i, 6], results[i, 7], \n",
    "                accu_result[i, 0], accu_result[i, 1], accu_result[i, 2], \n",
    "                accu_result[i, 3], accu_result[i, 4], accu_result[i, 5], \n",
    "                accu_result[i, 6], accu_result[i, 7], accu_result[i, 8], \n",
    "                accu_result[i, 9], accu_result[i, 10], accu_result[i, 11]))\n",
    "    f.write('-' * 230 + '\\n')\n",
    "    f.write('Average,%d,%d,%d,%d,%d,%d,%d,%d,%.2f,%.2f,%.2f,%.2f,%.2f,%.2f,%.2f,%.2f,%.2f,%.2f,%.2f,%.2f\\n' % \n",
    "          (np.mean(results[:, 0]), np.mean(results[:, 1]), np.mean(results[:, 2]), np.mean(results[:, 3]), \n",
    "              np.mean(results[:, 4]), np.mean(results[:, 5]), np.mean(results[:, 6]), np.mean(results[:, 7]), \n",
    "              np.mean(accu_result[:, 0]), np.mean(accu_result[:, 1]), np.mean(accu_result[:, 2]), \n",
    "              np.mean(accu_result[:, 3]), np.mean(accu_result[:, 4]), np.mean(accu_result[:, 5]), \n",
    "              np.mean(accu_result[:, 6]), np.mean(accu_result[:, 7]), np.mean(accu_result[:, 8]), \n",
    "              np.mean(accu_result[:, 9]), np.mean(accu_result[:, 10]), np.mean(accu_result[:, 11])))\n",
    "\n",
    "# # Generate results file for LaTeX\n",
    "# with open(TEST_DIR + SAVE_FILENAME_LATEX, \"w\") as f:\n",
    "#     # Grey Matter\n",
    "#     f.write('Image Name,Grey_TN (px),Grey_FP (px),Grey_FN (px),Grey_TP (px),' +\n",
    "#           'G_Accuracy (%),G_Sensitivity (%),G_Specificity (%),G_Precision (%)\\n')\n",
    "#     accu_result = np.zeros((len(image_names), 4))\n",
    "#     for i, imagename in enumerate(image_names):\n",
    "#     total = results[i, 0]+results[i, 1]+results[i, 2]+results[i, 3]\n",
    "#     accu_result[i, 0]  = (results[i, 0]+results[i, 3])/total*100\n",
    "#     accu_result[i, 1]  = (results[i, 3]/(results[i, 2]+results[i, 3]))*100\n",
    "#     accu_result[i, 2]  = (results[i, 0]/(results[i, 0]+results[i, 1]))*100\n",
    "#     accu_result[i, 3]  = (results[i, 3]/(results[i, 1]+results[i, 3]))*100\n",
    "#     f.write('%s & %d & %d & %d & %d & %.2f\\\\%% & %.2f\\\\%% & %.2f\\\\%% & %.2f\\\\%%\\\\\\\\\\n\\\\hline\\n' % \n",
    "#         (imagename.split('-')[0], results[i, 0], results[i, 1], results[i, 2], results[i, 3], \n",
    "#             accu_result[i, 0], accu_result[i, 1], accu_result[i, 2], accu_result[i, 3]))\n",
    "#     f.write('Average & %d & %d & %d & %d & %.2f\\\\%% & %.2f\\\\%% & %.2f\\\\%% & %.2f\\\\%%\\\\\\\\\\n\\n' % \n",
    "#           (np.mean(results[:, 0]), np.mean(results[:, 1]), np.mean(results[:, 2]), np.mean(results[:, 3]), \n",
    "#               np.mean(accu_result[:, 0]), np.mean(accu_result[:, 1]), \n",
    "#               np.mean(accu_result[:, 2]), np.mean(accu_result[:, 3])))\n",
    "\n",
    "#     # White Matter\n",
    "#     f.write('Image Name,White_TN (px),White_FP (px),White_FN (px),White_TP (px),' +\n",
    "#           'W_Accuracy (%),W_Sensitivity (%),W_Specificity (%),W_Precision (%)\\n')\n",
    "#     accu_result = np.zeros((len(image_names), 4))\n",
    "#     for i, imagename in enumerate(image_names):\n",
    "#     total = results[i, 4]+results[i, 5]+results[i, 6]+results[i, 7] \n",
    "#     accu_result[i, 0]  = (results[i, 4]+results[i, 7])/total*100\n",
    "#     accu_result[i, 1]  = (results[i, 7]/(results[i, 6]+results[i, 7]))*100\n",
    "#     accu_result[i, 2]  = (results[i, 4]/(results[i, 4]+results[i, 5]))*100\n",
    "#     accu_result[i, 3] = (results[i, 7]/(results[i, 5]+results[i, 7]))*100\n",
    "#     f.write('%s & %d & %d & %d & %d & %.2f\\\\%% & %.2f\\\\%% & %.2f\\\\%% & %.2f\\\\%%\\\\\\\\\\n\\\\hline\\n' % \n",
    "#         (imagename.split('-')[0], results[i, 4], results[i, 5], results[i, 6], results[i, 7], \n",
    "#             accu_result[i, 0], accu_result[i, 1], accu_result[i, 2], accu_result[i, 3]))\n",
    "#     f.write('Average & %d & %d & %d & %d & %.2f\\\\%% & %.2f\\\\%% & %.2f\\\\%% & %.2f\\\\%%\\\\\\\\\\n\\n' % \n",
    "#           (np.mean(results[:, 4]), np.mean(results[:, 5]), np.mean(results[:, 6]), np.mean(results[:, 7]), \n",
    "#               np.mean(accu_result[:, 0]), np.mean(accu_result[:, 1]), \n",
    "#               np.mean(accu_result[:, 2]), np.mean(accu_result[:, 3])))\n",
    "print('Done!')"
   ]
  },
  {
   "cell_type": "code",
   "execution_count": 4,
   "metadata": {},
   "outputs": [
    {
     "name": "stdout",
     "output_type": "stream",
     "text": [
      "Sun May 17 23:49:53 2020       \r\n",
      "+-----------------------------------------------------------------------------+\r\n",
      "| NVIDIA-SMI 418.56       Driver Version: 418.56       CUDA Version: 10.1     |\r\n",
      "|-------------------------------+----------------------+----------------------+\r\n",
      "| GPU  Name        Persistence-M| Bus-Id        Disp.A | Volatile Uncorr. ECC |\r\n",
      "| Fan  Temp  Perf  Pwr:Usage/Cap|         Memory-Usage | GPU-Util  Compute M. |\r\n",
      "|===============================+======================+======================|\r\n",
      "|   0  TITAN Xp            Off  | 00000000:65:00.0 Off |                  N/A |\r\n",
      "| 31%   53C    P2    64W / 250W |   1309MiB / 12194MiB |      0%      Default |\r\n",
      "+-------------------------------+----------------------+----------------------+\r\n",
      "                                                                               \r\n",
      "+-----------------------------------------------------------------------------+\r\n",
      "| Processes:                                                       GPU Memory |\r\n",
      "|  GPU       PID   Type   Process name                             Usage      |\r\n",
      "|=============================================================================|\r\n",
      "+-----------------------------------------------------------------------------+\r\n"
     ]
    }
   ],
   "source": [
    "!nvidia-smi"
   ]
  }
 ],
 "metadata": {
  "kernelspec": {
   "display_name": "Python 3",
   "language": "python",
   "name": "python3"
  },
  "language_info": {
   "codemirror_mode": {
    "name": "ipython",
    "version": 3
   },
   "file_extension": ".py",
   "mimetype": "text/x-python",
   "name": "python",
   "nbconvert_exporter": "python",
   "pygments_lexer": "ipython3",
   "version": "3.6.9"
  }
 },
 "nbformat": 4,
 "nbformat_minor": 4
}
