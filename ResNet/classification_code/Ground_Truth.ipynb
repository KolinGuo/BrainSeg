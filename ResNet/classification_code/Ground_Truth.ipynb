{
 "cells": [
  {
   "cell_type": "code",
   "execution_count": 1,
   "metadata": {},
   "outputs": [],
   "source": [
    "import os\n",
    "import time\n",
    "import pyvips\n",
    "import glob\n",
    "import numpy as np\n",
    "from tqdm import tqdm\n",
    "import re\n",
    "from PIL import Image\n",
    "import random\n",
    "Image.MAX_IMAGE_PIXELS = None"
   ]
  },
  {
   "cell_type": "code",
   "execution_count": 2,
   "metadata": {},
   "outputs": [],
   "source": [
    "# Helper function to convert PyVips Image to numpy array\n",
    "# map vips formats to np dtypes\n",
    "format_to_dtype = {\n",
    "    'uchar': np.uint8,\n",
    "    'char': np.int8,\n",
    "    'ushort': np.uint16,\n",
    "    'short': np.int16,\n",
    "    'uint': np.uint32,\n",
    "    'int': np.int32,\n",
    "    'float': np.float32,\n",
    "    'double': np.float64,\n",
    "    'complex': np.complex64,\n",
    "    'dpcomplex': np.complex128,\n",
    "}\n",
    "\n",
    "# vips image to numpy array\n",
    "def vips2numpy(vi):\n",
    "    return np.ndarray(buffer=vi.write_to_memory(),\n",
    "                      dtype=format_to_dtype[vi.format],\n",
    "                      shape=[vi.height, vi.width, vi.bands])\n",
    "\n",
    "def img_frombytes(data):\n",
    "    size = data.shape[::-1]\n",
    "    databytes = np.packbits(data, axis=1)\n",
    "    return Image.frombytes(mode='1', size=size, data=databytes)\n"
   ]
  },
  {
   "cell_type": "code",
   "execution_count": 5,
   "metadata": {},
   "outputs": [
    {
     "name": "stdout",
     "output_type": "stream",
     "text": [
      "image_names: ['NA3777-02_AB.png', 'NA4077-02_AB.png', 'NA4092-02_AB.png', 'NA4107-02_AB.png', 'NA4160-02_AB.png', 'NA4195-02_AB.png', 'NA4256-02_AB.png', 'NA4299-02_AB.png', 'NA4391-02_AB.png', 'NA4450-02_AB.png', 'NA4463-02_AB.png', 'NA4471-02_AB.png', 'NA4553-02_AB.png', 'NA4626-02_AB.png', 'NA4672-02_AB.png', 'NA4675-02_AB.png', 'NA4691-02_AB.png', 'NA4695-02_AB.png', 'NA4894-02_AB17-24.png', 'NA4907-02_AB17-24.png', 'NA4944-02_AB17-24.png', 'NA4945-02_AB17-24.png', 'NA4967-02_AB17-24.png', 'NA4971-02_AB17-24.png', 'NA4972-02_AB17-24.png', 'NA4992-02_AB17-24.png', 'NA4993-02_AB17-24.png', 'NA5010-02_AB17-24.png', 'NA5015-02_AB17-24.png', 'NA5029-02_AB17-24.png']\n"
     ]
    }
   ],
   "source": [
    "PATH = '/BrainSeg/norm_png/'\n",
    "# GROUND_TRUTH = '/BrainSeg/ground_truth_images/'\n",
    "GROUND_TRUTH = '/BrainSeg/ground_truth_masks/'\n",
    "image_names = sorted(os.listdir(PATH))[0:30]\n",
    "\n",
    "print('image_names:',image_names)\n",
    "# ground_truth = sorted(os.listdir(GROUND_TRUTH))\n",
    "# print(ground_truth)\n",
    "# truth = np.array(Image.open(GROUND_TRUTH + ground_truth[0])).T\n",
    "# # truth = ~truth\n",
    "# truth = truth.astype(int)\n",
    "# print(truth)\n",
    "# print(truth.shape)\n",
    "# image_names.split('.')[0]\n"
   ]
  },
  {
   "cell_type": "code",
   "execution_count": null,
   "metadata": {},
   "outputs": [
    {
     "name": "stdout",
     "output_type": "stream",
     "text": [
      "NA3777-02_AB 25.633039712905884\n",
      "NA4077-02_AB 35.1768684387207\n",
      "NA4092-02_AB 36.028566122055054\n",
      "NA4107-02_AB 29.64302158355713\n",
      "NA4160-02_AB 27.989070892333984\n",
      "NA4195-02_AB 28.520904064178467\n",
      "NA4256-02_AB 31.706681489944458\n",
      "NA4299-02_AB 27.73975896835327\n",
      "NA4391-02_AB 25.506919145584106\n",
      "NA4450-02_AB 34.141332387924194\n",
      "NA4463-02_AB 26.425824403762817\n",
      "NA4471-02_AB 37.953551054000854\n",
      "NA4553-02_AB 36.214925050735474\n",
      "NA4626-02_AB 25.848212718963623\n",
      "NA4672-02_AB 21.49352240562439\n",
      "NA4675-02_AB 29.70433759689331\n",
      "NA4691-02_AB 26.914854049682617\n",
      "NA4695-02_AB 29.873117208480835\n",
      "NA4894-02_AB17-24 28.889761209487915\n",
      "NA4907-02_AB17-24 28.153392553329468\n",
      "NA4944-02_AB17-24 20.519590616226196\n"
     ]
    }
   ],
   "source": [
    "GT = '/BrainSeg/ground_truth/'\n",
    "if not os.path.exists(GT):\n",
    "    os.makedirs(GT) \n",
    "for image_name in image_names:\n",
    "    start = time.time()\n",
    "    img_name = image_name.split('.')[0]\n",
    "    grey_path = GROUND_TRUTH + img_name + '-Grey.png'\n",
    "    white_path = GROUND_TRUTH + img_name + '-White.png'\n",
    "    background_path = GROUND_TRUTH + img_name + '-Background.png'\n",
    "    \n",
    "    grey = np.array(Image.open(grey_path)).astype(np.int8).T * 2\n",
    "    white = np.array(Image.open(white_path)).astype(np.int8).T * 4\n",
    "    \n",
    "    background = np.array(Image.open(background_path)).astype(np.int8).T    \n",
    "    g_t = grey + white + background\n",
    "    np.save(GT + img_name + '.npy',g_t)\n",
    "    end = time.time()\n",
    "    print(img_name, end - start)\n",
    "#     grey = np.array(Image.open(GROUND_TRUTH + ground_truth[4])).astype(int)"
   ]
  },
  {
   "cell_type": "code",
   "execution_count": 9,
   "metadata": {},
   "outputs": [
    {
     "name": "stdout",
     "output_type": "stream",
     "text": [
      "NA3777-02_AB.png\n",
      "<pyvips.Image 53784x47177 uchar, 3 bands, srgb>\n",
      "53784 47177\n"
     ]
    }
   ],
   "source": [
    "# for WSI in WSI_AD:\n",
    "#     image = pyvips.Image.new_from_file(PATH + WSI)\n",
    "#     image_name = WSI.split('.')[0]\n",
    "# image = pyvips.Image.new_from_file(PATH + image_names[0])\n",
    "# print(image_names[0])\n",
    "# print(image)\n",
    "# print(image.width, image.height)"
   ]
  },
  {
   "cell_type": "code",
   "execution_count": 10,
   "metadata": {},
   "outputs": [
    {
     "name": "stdout",
     "output_type": "stream",
     "text": [
      "NA3777-02_AB.png <pyvips.Image 53784x47177 uchar, 3 bands, srgb> 53784 47177\n",
      "NA4077-02_AB.png <pyvips.Image 73704x46200 uchar, 3 bands, srgb> 73704 46200\n",
      "NA4092-02_AB.png <pyvips.Image 65736x45178 uchar, 3 bands, srgb> 65736 45178\n",
      "NA4107-02_AB.png <pyvips.Image 67728x36459 uchar, 3 bands, srgb> 67728 36459\n",
      "NA4160-02_AB.png <pyvips.Image 59760x41787 uchar, 3 bands, srgb> 59760 41787\n",
      "NA4195-02_AB.png <pyvips.Image 55776x39849 uchar, 3 bands, srgb> 55776 39849\n",
      "NA4256-02_AB.png <pyvips.Image 61752x46410 uchar, 3 bands, srgb> 61752 46410\n",
      "NA4299-02_AB.png <pyvips.Image 57768x43740 uchar, 3 bands, srgb> 57768 43740\n",
      "NA4391-02_AB.png <pyvips.Image 49800x47520 uchar, 3 bands, srgb> 49800 47520\n",
      "NA4450-02_AB.png <pyvips.Image 57768x47481 uchar, 3 bands, srgb> 57768 47481\n",
      "NA4463-02_AB.png <pyvips.Image 53784x45142 uchar, 3 bands, srgb> 53784 45142\n",
      "NA4471-02_AB.png <pyvips.Image 71712x47426 uchar, 3 bands, srgb> 71712 47426\n",
      "NA4553-02_AB.png <pyvips.Image 67728x47200 uchar, 3 bands, srgb> 67728 47200\n",
      "NA4626-02_AB.png <pyvips.Image 47808x41668 uchar, 3 bands, srgb> 47808 41668\n",
      "NA4672-02_AB.png <pyvips.Image 49800x36131 uchar, 3 bands, srgb> 49800 36131\n",
      "NA4675-02_AB.png <pyvips.Image 53784x45548 uchar, 3 bands, srgb> 53784 45548\n",
      "NA4691-02_AB.png <pyvips.Image 53784x41073 uchar, 3 bands, srgb> 53784 41073\n",
      "NA4695-02_AB.png <pyvips.Image 55776x41634 uchar, 3 bands, srgb> 55776 41634\n",
      "NA4894-02_AB17-24.png <pyvips.Image 59760x44874 uchar, 3 bands, srgb> 59760 44874\n",
      "NA4907-02_AB17-24.png <pyvips.Image 55776x44644 uchar, 3 bands, srgb> 55776 44644\n",
      "NA4944-02_AB17-24.png <pyvips.Image 47808x36870 uchar, 3 bands, srgb> 47808 36870\n",
      "NA4945-02_AB17-24.png <pyvips.Image 49800x43128 uchar, 3 bands, srgb> 49800 43128\n",
      "NA4967-02_AB17-24.png <pyvips.Image 47808x35729 uchar, 3 bands, srgb> 47808 35729\n",
      "NA4971-02_AB17-24.png <pyvips.Image 61752x38443 uchar, 3 bands, srgb> 61752 38443\n",
      "NA4972-02_AB17-24.png <pyvips.Image 47808x39068 uchar, 3 bands, srgb> 47808 39068\n",
      "NA4992-02_AB17-24.png <pyvips.Image 37848x37641 uchar, 3 bands, srgb> 37848 37641\n",
      "NA4993-02_AB17-24.png <pyvips.Image 39840x41543 uchar, 3 bands, srgb> 39840 41543\n",
      "NA5010-02_AB17-24.png <pyvips.Image 75695x77386 uchar, 3 bands, srgb> 75695 77386\n",
      "NA5015-02_AB17-24.png <pyvips.Image 55776x40419 uchar, 3 bands, srgb> 55776 40419\n",
      "NA5029-02_AB17-24.png <pyvips.Image 53784x43598 uchar, 3 bands, srgb> 53784 43598\n"
     ]
    }
   ],
   "source": [
    "# for WSI in image_names:\n",
    "#     image = pyvips.Image.new_from_file(PATH + WSI)\n",
    "#     print(WSI, image, image.width, image.height)\n",
    "    "
   ]
  },
  {
   "cell_type": "code",
   "execution_count": null,
   "metadata": {},
   "outputs": [],
   "source": []
  }
 ],
 "metadata": {
  "kernelspec": {
   "display_name": "Python 3",
   "language": "python",
   "name": "python3"
  },
  "language_info": {
   "codemirror_mode": {
    "name": "ipython",
    "version": 3
   },
   "file_extension": ".py",
   "mimetype": "text/x-python",
   "name": "python",
   "nbconvert_exporter": "python",
   "pygments_lexer": "ipython3",
   "version": "3.6.9"
  }
 },
 "nbformat": 4,
 "nbformat_minor": 4
}
