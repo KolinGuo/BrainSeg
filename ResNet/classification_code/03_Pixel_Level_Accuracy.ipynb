{
 "cells": [
  {
   "cell_type": "code",
   "execution_count": 1,
   "metadata": {},
   "outputs": [],
   "source": [
    "import os\n",
    "import glob\n",
    "import numpy as np\n",
    "import pyvips\n",
    "from tqdm import tqdm\n",
    "import re\n",
    "from PIL import Image\n",
    "Image.MAX_IMAGE_PIXELS = None"
   ]
  },
  {
   "cell_type": "code",
   "execution_count": 2,
   "metadata": {},
   "outputs": [],
   "source": [
    "!rm /BrainSeg/ground_truth_masks/.ipynb_checkpoints -rf"
   ]
  },
  {
   "cell_type": "code",
   "execution_count": 3,
   "metadata": {},
   "outputs": [],
   "source": [
    "TRUTH_DIR = '/BrainSeg/ground_truth_masks/'\n",
    "TEST_DIR = '/BrainSeg/Classify_Results/ResNet/GMBMasks/'\n",
    "SAVE_FILENAME = 'AccuracyResults_pixel.csv' # Under TEST_DIR\n",
    "SAVE_FILENAME_LATEX = 'AccuracyResults_pixel.txt' # Under TEST_DIR"
   ]
  },
  {
   "cell_type": "code",
   "execution_count": 4,
   "metadata": {},
   "outputs": [
    {
     "name": "stdout",
     "output_type": "stream",
     "text": [
      "(30, 2)\n"
     ]
    }
   ],
   "source": [
    "truth_images = sorted(os.listdir(TRUTH_DIR))\n",
    "IMAGEDIMNORM = np.zeros((30,2), np.int)\n",
    "for i in range(0, len(truth_images), 3):\n",
    "    img = pyvips.Image.new_from_file(TRUTH_DIR + truth_images[i])\n",
    "    width = img.width\n",
    "    height = img.height\n",
    "    IMAGEDIMNORM[i//3,0] = width\n",
    "    IMAGEDIMNORM[i//3,1] = height\n",
    "# print(IMAGEDIMNORM)\n",
    "print(IMAGEDIMNORM.shape)"
   ]
  },
  {
   "cell_type": "code",
   "execution_count": 5,
   "metadata": {},
   "outputs": [
    {
     "name": "stdout",
     "output_type": "stream",
     "text": [
      "30\n"
     ]
    }
   ],
   "source": [
    "image_names = glob.glob(TRUTH_DIR + \"*Grey.png\")\n",
    "image_names = [imagename.split('/')[-1] for imagename in image_names]\n",
    "image_names = [imagename.split('-Grey')[0] for imagename in image_names]\n",
    "image_names = sorted(image_names)\n",
    "print(len(image_names))"
   ]
  },
  {
   "cell_type": "code",
   "execution_count": 6,
   "metadata": {},
   "outputs": [
    {
     "name": "stderr",
     "output_type": "stream",
     "text": [
      "Image NA3777-02_AB, Test ((47177, 53784)), Ground Truth ((47177, 53784)):   0%|          | 0/30 [00:08<?, ?it/s]"
     ]
    },
    {
     "name": "stdout",
     "output_type": "stream",
     "text": [
      " "
     ]
    },
    {
     "name": "stderr",
     "output_type": "stream",
     "text": [
      "Image NA4077-02_AB, Test ((46200, 73704)), Ground Truth ((46200, 73704)):   3%|▎         | 1/30 [05:20<2:18:11, 285.92s/it]"
     ]
    },
    {
     "name": "stdout",
     "output_type": "stream",
     "text": [
      " "
     ]
    },
    {
     "name": "stderr",
     "output_type": "stream",
     "text": [
      "Image NA4092-02_AB, Test ((45178, 65736)), Ground Truth ((45178, 65736)):   7%|▋         | 2/30 [10:46<2:22:34, 305.53s/it]"
     ]
    },
    {
     "name": "stdout",
     "output_type": "stream",
     "text": [
      " "
     ]
    },
    {
     "name": "stderr",
     "output_type": "stream",
     "text": [
      "Image NA4107-02_AB, Test ((36459, 67728)), Ground Truth ((36459, 67728)):  10%|█         | 3/30 [15:36<2:15:36, 301.34s/it]"
     ]
    },
    {
     "name": "stdout",
     "output_type": "stream",
     "text": [
      " "
     ]
    },
    {
     "name": "stderr",
     "output_type": "stream",
     "text": [
      "Image NA4160-02_AB, Test ((41787, 59760)), Ground Truth ((41787, 59760)):  13%|█▎        | 4/30 [19:18<2:00:18, 277.62s/it]"
     ]
    },
    {
     "name": "stdout",
     "output_type": "stream",
     "text": [
      " "
     ]
    },
    {
     "name": "stderr",
     "output_type": "stream",
     "text": [
      "Image NA4195-02_AB, Test ((39849, 55776)), Ground Truth ((39849, 55776)):  17%|█▋        | 5/30 [22:56<1:48:19, 259.96s/it]"
     ]
    },
    {
     "name": "stdout",
     "output_type": "stream",
     "text": [
      " "
     ]
    },
    {
     "name": "stderr",
     "output_type": "stream",
     "text": [
      "Image NA4256-02_AB, Test ((46410, 61752)), Ground Truth ((46410, 61752)):  20%|██        | 6/30 [23:46<1:18:33, 196.41s/it]"
     ]
    },
    {
     "name": "stdout",
     "output_type": "stream",
     "text": [
      " "
     ]
    },
    {
     "name": "stderr",
     "output_type": "stream",
     "text": [
      "Image NA4299-02_AB, Test ((43740, 57768)), Ground Truth ((43740, 57768)):  23%|██▎       | 7/30 [24:58<1:01:03, 159.30s/it]"
     ]
    },
    {
     "name": "stdout",
     "output_type": "stream",
     "text": [
      " "
     ]
    },
    {
     "name": "stderr",
     "output_type": "stream",
     "text": [
      "Image NA4391-02_AB, Test ((47520, 49800)), Ground Truth ((47520, 49800)):  27%|██▋       | 8/30 [25:52<46:52, 127.85s/it]  "
     ]
    },
    {
     "name": "stdout",
     "output_type": "stream",
     "text": [
      " "
     ]
    },
    {
     "name": "stderr",
     "output_type": "stream",
     "text": [
      "Image NA4450-02_AB, Test ((47481, 57768)), Ground Truth ((47481, 57768)):  30%|███       | 9/30 [26:44<36:39, 104.72s/it]"
     ]
    },
    {
     "name": "stdout",
     "output_type": "stream",
     "text": [
      " "
     ]
    },
    {
     "name": "stderr",
     "output_type": "stream",
     "text": [
      "Image NA4463-02_AB, Test ((45142, 53784)), Ground Truth ((45142, 53784)):  33%|███▎      | 10/30 [28:13<33:26, 100.34s/it]"
     ]
    },
    {
     "name": "stdout",
     "output_type": "stream",
     "text": [
      " "
     ]
    },
    {
     "name": "stderr",
     "output_type": "stream",
     "text": [
      "Image NA4471-02_AB, Test ((47426, 71712)), Ground Truth ((47426, 71712)):  37%|███▋      | 11/30 [29:21<28:29, 89.96s/it] "
     ]
    },
    {
     "name": "stdout",
     "output_type": "stream",
     "text": [
      " "
     ]
    },
    {
     "name": "stderr",
     "output_type": "stream",
     "text": [
      "Image NA4553-02_AB, Test ((47200, 67728)), Ground Truth ((47200, 67728)):  40%|████      | 12/30 [32:43<37:04, 123.56s/it]"
     ]
    },
    {
     "name": "stdout",
     "output_type": "stream",
     "text": [
      " "
     ]
    },
    {
     "name": "stderr",
     "output_type": "stream",
     "text": [
      "Image NA4626-02_AB, Test ((41668, 47808)), Ground Truth ((41668, 47808)):  43%|████▎     | 13/30 [35:39<39:45, 140.32s/it]"
     ]
    },
    {
     "name": "stdout",
     "output_type": "stream",
     "text": [
      " "
     ]
    },
    {
     "name": "stderr",
     "output_type": "stream",
     "text": [
      "Image NA4672-02_AB, Test ((36131, 49800)), Ground Truth ((36131, 49800)):  47%|████▋     | 14/30 [36:24<29:52, 112.05s/it]"
     ]
    },
    {
     "name": "stdout",
     "output_type": "stream",
     "text": [
      " "
     ]
    },
    {
     "name": "stderr",
     "output_type": "stream",
     "text": [
      "Image NA4675-02_AB, Test ((45548, 53784)), Ground Truth ((45548, 53784)):  50%|█████     | 15/30 [37:04<22:27, 89.81s/it] "
     ]
    },
    {
     "name": "stdout",
     "output_type": "stream",
     "text": [
      " "
     ]
    },
    {
     "name": "stderr",
     "output_type": "stream",
     "text": [
      "Image NA4691-02_AB, Test ((41073, 53784)), Ground Truth ((41073, 53784)):  53%|█████▎    | 16/30 [38:23<20:14, 86.75s/it]"
     ]
    },
    {
     "name": "stdout",
     "output_type": "stream",
     "text": [
      " "
     ]
    },
    {
     "name": "stderr",
     "output_type": "stream",
     "text": [
      "Image NA4695-02_AB, Test ((41634, 55776)), Ground Truth ((41634, 55776)):  57%|█████▋    | 17/30 [39:28<17:22, 80.17s/it]"
     ]
    },
    {
     "name": "stdout",
     "output_type": "stream",
     "text": [
      " "
     ]
    },
    {
     "name": "stderr",
     "output_type": "stream",
     "text": [
      "Image NA4894-02_AB17-24, Test ((44874, 59760)), Ground Truth ((44874, 59760)):  60%|██████    | 18/30 [40:41<15:33, 77.77s/it]"
     ]
    },
    {
     "name": "stdout",
     "output_type": "stream",
     "text": [
      " "
     ]
    },
    {
     "name": "stderr",
     "output_type": "stream",
     "text": [
      "Image NA4907-02_AB17-24, Test ((44644, 55776)), Ground Truth ((44644, 55776)):  63%|██████▎   | 19/30 [42:35<16:15, 88.69s/it]"
     ]
    },
    {
     "name": "stdout",
     "output_type": "stream",
     "text": [
      " "
     ]
    },
    {
     "name": "stderr",
     "output_type": "stream",
     "text": [
      "Image NA4944-02_AB17-24, Test ((36870, 47808)), Ground Truth ((36870, 47808)):  67%|██████▋   | 20/30 [44:01<14:44, 88.48s/it]"
     ]
    },
    {
     "name": "stdout",
     "output_type": "stream",
     "text": [
      " "
     ]
    },
    {
     "name": "stderr",
     "output_type": "stream",
     "text": [
      "Image NA4945-02_AB17-24, Test ((43128, 49800)), Ground Truth ((43128, 49800)):  70%|███████   | 21/30 [44:39<10:57, 73.08s/it]"
     ]
    },
    {
     "name": "stdout",
     "output_type": "stream",
     "text": [
      " "
     ]
    },
    {
     "name": "stderr",
     "output_type": "stream",
     "text": [
      "Image NA4967-02_AB17-24, Test ((35729, 47808)), Ground Truth ((35729, 47808)):  73%|███████▎  | 22/30 [45:37<09:10, 68.81s/it]"
     ]
    },
    {
     "name": "stdout",
     "output_type": "stream",
     "text": [
      " "
     ]
    },
    {
     "name": "stderr",
     "output_type": "stream",
     "text": [
      "Image NA4971-02_AB17-24, Test ((38443, 61752)), Ground Truth ((38443, 61752)):  77%|███████▋  | 23/30 [46:14<06:50, 58.68s/it]"
     ]
    },
    {
     "name": "stdout",
     "output_type": "stream",
     "text": [
      " "
     ]
    },
    {
     "name": "stderr",
     "output_type": "stream",
     "text": [
      "Image NA4972-02_AB17-24, Test ((39068, 47808)), Ground Truth ((39068, 47808)):  80%|████████  | 24/30 [47:26<06:19, 63.33s/it]"
     ]
    },
    {
     "name": "stdout",
     "output_type": "stream",
     "text": [
      " "
     ]
    },
    {
     "name": "stderr",
     "output_type": "stream",
     "text": [
      "Image NA4992-02_AB17-24, Test ((37641, 37848)), Ground Truth ((37641, 37848)):  83%|████████▎ | 25/30 [48:05<04:42, 56.49s/it]"
     ]
    },
    {
     "name": "stdout",
     "output_type": "stream",
     "text": [
      " "
     ]
    },
    {
     "name": "stderr",
     "output_type": "stream",
     "text": [
      "Image NA4993-02_AB17-24, Test ((41543, 39840)), Ground Truth ((41543, 39840)):  87%|████████▋ | 26/30 [48:36<03:13, 48.49s/it]"
     ]
    },
    {
     "name": "stdout",
     "output_type": "stream",
     "text": [
      " "
     ]
    },
    {
     "name": "stderr",
     "output_type": "stream",
     "text": [
      "Image NA5010-02_AB17-24, Test ((77386, 75695)), Ground Truth ((77386, 75695)):  90%|█████████ | 27/30 [49:25<02:12, 44.22s/it]"
     ]
    },
    {
     "name": "stdout",
     "output_type": "stream",
     "text": [
      " "
     ]
    },
    {
     "name": "stderr",
     "output_type": "stream",
     "text": [
      "Image NA5015-02_AB17-24, Test ((40419, 55776)), Ground Truth ((40419, 55776)):  93%|█████████▎| 28/30 [58:34<06:38, 199.43s/it]"
     ]
    },
    {
     "name": "stdout",
     "output_type": "stream",
     "text": [
      " "
     ]
    },
    {
     "name": "stderr",
     "output_type": "stream",
     "text": [
      "Image NA5029-02_AB17-24, Test ((43598, 53784)), Ground Truth ((43598, 53784)):  97%|█████████▋| 29/30 [59:23<02:34, 154.25s/it]"
     ]
    },
    {
     "name": "stdout",
     "output_type": "stream",
     "text": [
      " "
     ]
    },
    {
     "name": "stderr",
     "output_type": "stream",
     "text": [
      "Image NA5029-02_AB17-24, Test ((43598, 53784)), Ground Truth ((43598, 53784)): 100%|██████████| 30/30 [1:00:06<00:00, 120.22s/it]\n"
     ]
    }
   ],
   "source": [
    "results = np.zeros((len(image_names), 8), dtype='int')\n",
    "\n",
    "t = tqdm(total=len(image_names))\n",
    "for i, imagename in enumerate(image_names):\n",
    "    # Filename for testing and ground truth images\n",
    "    test_grey_img_name = imagename + \"-Grey.png\"\n",
    "    test_white_img_name = imagename + \"-White.png\"\n",
    "    truth_grey_img_name = imagename + \"-Grey.png\"\n",
    "    truth_white_img_name = imagename + \"-White.png\"\n",
    "\n",
    "    ##### Testing Grey Matter Mask #####\n",
    "    # Load images\n",
    "    TEST_img = np.array(Image.open(TEST_DIR + test_grey_img_name))\n",
    "    truth_img = Image.open(TRUTH_DIR + truth_grey_img_name)\n",
    "#     (width, height) = (IMAGEDIMNORM[i, 0] // downscale, IMAGEDIMNORM[i, 1] // downscale)\n",
    "#     truth_img = truth_img.resize((width, height), Image.BILINEAR)\n",
    "    truth_img = np.array(truth_img)\n",
    "    truth_width = truth_img.shape[0]\n",
    "    truth_height = truth_img.shape[1]\n",
    "    \n",
    "    test_img = np.zeros([truth_width,truth_height], bool)\n",
    "    for w in range(0,truth_width-128,128):\n",
    "        for h in range(0,truth_height-128,128):\n",
    "            test_img[w:w+128, h:h+128] = TEST_img[w//128,h//128]\n",
    "    \n",
    "    # Check dimensions\n",
    "    if not (test_img.shape[0] == IMAGEDIMNORM[i, 1] and test_img.shape[1] == IMAGEDIMNORM[i, 0]):\n",
    "        print('\\t' + imagename + ' grey dimension WRONG!!!')\n",
    "\n",
    "    # Update tqdm descriptions\n",
    "    t.set_description_str(\"Image {}, Test ({}), Ground Truth ({})\".format(\n",
    "      imagename, str(test_img.shape), str(truth_img.shape)) )\n",
    "    t.refresh()\n",
    "    t.write(\"\", end=' ')\n",
    "\n",
    "    # Clip test_img to 1\n",
    "    test_img[test_img>=1] = 1\n",
    "\n",
    "    # Calculate true and false segmentations\n",
    "    width = truth_img.shape[1]\n",
    "    height = truth_img.shape[0]\n",
    "    grey_TP = np.multiply(test_img, truth_img).sum()\n",
    "    grey_FP = np.multiply(test_img, np.logical_not(truth_img)).sum()\n",
    "    grey_FN = np.multiply(np.logical_not(test_img), truth_img).sum()\n",
    "    grey_TN = np.multiply(np.logical_not(test_img), np.logical_not(truth_img)).sum()\n",
    "\n",
    "    # Check results\n",
    "    grey_total = width*height\n",
    "    if not (grey_total == grey_TP+grey_FP+grey_FN+grey_TN):\n",
    "        print('\\t' + imagename + ' grey matter results WRONG!!!')\n",
    "\n",
    "    ##### Testing White Matter Mask #####\n",
    "    # Load images\n",
    "    TEST_img = np.array(Image.open(TEST_DIR + test_white_img_name))\n",
    "    truth_img = Image.open(TRUTH_DIR + truth_white_img_name)\n",
    "    truth_img = np.array(truth_img)\n",
    "    \n",
    "    truth_img = np.array(truth_img)\n",
    "    truth_width = truth_img.shape[0]\n",
    "    truth_height = truth_img.shape[1]\n",
    "    \n",
    "    test_img = np.zeros([truth_width,truth_height], bool)\n",
    "    for w in range(0,truth_width-128,128):\n",
    "        for h in range(0,truth_height-128,128):\n",
    "            test_img[w:w+128, h:h+128] = TEST_img[w//128,h//128]\n",
    "\n",
    "    # Check dimensions\n",
    "    if not (test_img.shape[0] == IMAGEDIMNORM[i, 1] and test_img.shape[1] == IMAGEDIMNORM[i, 0]):\n",
    "        print('\\t' + imagename + ' white dimension WRONG!!!')\n",
    "\n",
    "    # Clip test_img to 1\n",
    "    test_img[test_img>=1] = 1\n",
    "\n",
    "    # Calculate true and false segmentations\n",
    "    width = truth_img.shape[1]\n",
    "    height = truth_img.shape[0]\n",
    "    white_TP = np.multiply(test_img, truth_img).sum()\n",
    "    white_FP = np.multiply(test_img, np.logical_not(truth_img)).sum()\n",
    "    white_FN = np.multiply(np.logical_not(test_img), truth_img).sum()\n",
    "    white_TN = np.multiply(np.logical_not(test_img), np.logical_not(truth_img)).sum()\n",
    "\n",
    "    # Check results\n",
    "    white_total = width*height\n",
    "    if not (white_total == white_TN+white_FP+white_FN+white_TP):\n",
    "        print('\\t' + imagename + ' white matter results WRONG!!!')\n",
    "\n",
    "    # Save results: grey_TN, grey_FP, grey_FN, grey_TP, white_TN, white_FP, white_FN, white_TP\n",
    "    results[i, :] = [grey_TN, grey_FP, grey_FN, grey_TP, white_TN, white_FP, white_FN, white_TP]\n",
    "\n",
    "    t.update()\n",
    "t.close()\n",
    "\n",
    "with open(TEST_DIR + SAVE_FILENAME, \"w\") as f:\n",
    "    f.write('Image Name,Grey_TN (px),Grey_FP (px),Grey_FN (px),Grey_TP (px),' +\n",
    "          'White_TN (px),White_FP (px),White_FN (px),White_TP (px),' + \n",
    "          'G_Accuracy (%),G_Misclassification Rate (%),G_Sensitivity (%),' +\n",
    "          'G_Specificity (%),G_Precision (%),G_Prevalence (%),' + \n",
    "          'W_Accuracy (%),W_Misclassification Rate (%),W_Sensitivity (%),' +\n",
    "          'W_Specificity (%),W_Precision (%),W_Prevalence (%)\\n') \n",
    "    accu_result = np.zeros((len(image_names), 12))\n",
    "    for i, imagename in enumerate(image_names):\n",
    "        total = results[i, 0]+results[i, 1]+results[i, 2]+results[i, 3]\n",
    "        accu_result[i, 0]  = (results[i, 0]+results[i, 3])/total*100\n",
    "        accu_result[i, 1]  = (results[i, 1]+results[i, 2])/total*100\n",
    "        accu_result[i, 2]  = (results[i, 3]/(results[i, 2]+results[i, 3]))*100\n",
    "        accu_result[i, 3]  = (results[i, 0]/(results[i, 0]+results[i, 1]))*100\n",
    "        accu_result[i, 4]  = (results[i, 3]/(results[i, 1]+results[i, 3]))*100\n",
    "        accu_result[i, 5]  = (results[i, 2]+results[i, 3])/total*100\n",
    "        total = results[i, 4]+results[i, 5]+results[i, 6]+results[i, 7]\n",
    "        accu_result[i, 6]  = (results[i, 4]+results[i, 7])/total*100\n",
    "        accu_result[i, 7]  = (results[i, 5]+results[i, 6])/total*100\n",
    "        accu_result[i, 8]  = (results[i, 7]/(results[i, 6]+results[i, 7]))*100\n",
    "        accu_result[i, 9]  = (results[i, 4]/(results[i, 4]+results[i, 5]))*100\n",
    "        accu_result[i, 10] = (results[i, 7]/(results[i, 5]+results[i, 7]))*100\n",
    "        accu_result[i, 11] = (results[i, 6]+results[i, 7])/total*100\n",
    "        f.write('%s,%d,%d,%d,%d,%d,%d,%d,%d,%.2f,%.2f,%.2f,%.2f,%.2f,%.2f,%.2f,%.2f,%.2f,%.2f,%.2f,%.2f\\n' % \n",
    "            (imagename, results[i, 0], results[i, 1], results[i, 2], results[i, 3], \n",
    "                results[i, 4], results[i, 5], results[i, 6], results[i, 7], \n",
    "                accu_result[i, 0], accu_result[i, 1], accu_result[i, 2], \n",
    "                accu_result[i, 3], accu_result[i, 4], accu_result[i, 5], \n",
    "                accu_result[i, 6], accu_result[i, 7], accu_result[i, 8], \n",
    "                accu_result[i, 9], accu_result[i, 10], accu_result[i, 11]))\n",
    "    f.write('-' * 230 + '\\n')\n",
    "    f.write('Average,%d,%d,%d,%d,%d,%d,%d,%d,%.2f,%.2f,%.2f,%.2f,%.2f,%.2f,%.2f,%.2f,%.2f,%.2f,%.2f,%.2f\\n' % \n",
    "          (np.mean(results[:, 0]), np.mean(results[:, 1]), np.mean(results[:, 2]), np.mean(results[:, 3]), \n",
    "              np.mean(results[:, 4]), np.mean(results[:, 5]), np.mean(results[:, 6]), np.mean(results[:, 7]), \n",
    "              np.mean(accu_result[:, 0]), np.mean(accu_result[:, 1]), np.mean(accu_result[:, 2]), \n",
    "              np.mean(accu_result[:, 3]), np.mean(accu_result[:, 4]), np.mean(accu_result[:, 5]), \n",
    "              np.mean(accu_result[:, 6]), np.mean(accu_result[:, 7]), np.mean(accu_result[:, 8]), \n",
    "              np.mean(accu_result[:, 9]), np.mean(accu_result[:, 10]), np.mean(accu_result[:, 11])))\n"
   ]
  },
  {
   "cell_type": "code",
   "execution_count": null,
   "metadata": {},
   "outputs": [],
   "source": []
  },
  {
   "cell_type": "markdown",
   "metadata": {},
   "source": [
    "## IoU"
   ]
  },
  {
   "cell_type": "code",
   "execution_count": 7,
   "metadata": {
    "scrolled": true
   },
   "outputs": [
    {
     "name": "stderr",
     "output_type": "stream",
     "text": [
      "Image NA3777-02_AB, Test ((47177, 53784)), Ground Truth ((47177, 53784)):   0%|          | 0/30 [00:07<?, ?it/s]"
     ]
    },
    {
     "name": "stdout",
     "output_type": "stream",
     "text": [
      " "
     ]
    },
    {
     "name": "stderr",
     "output_type": "stream",
     "text": [
      "Image NA4077-02_AB, Test ((46200, 73704)), Ground Truth ((46200, 73704)):   3%|▎         | 1/30 [02:14<1:00:00, 124.15s/it]"
     ]
    },
    {
     "name": "stdout",
     "output_type": "stream",
     "text": [
      " "
     ]
    },
    {
     "name": "stderr",
     "output_type": "stream",
     "text": [
      "Image NA4092-02_AB, Test ((45178, 65736)), Ground Truth ((45178, 65736)):   7%|▋         | 2/30 [05:30<1:08:11, 146.11s/it]"
     ]
    },
    {
     "name": "stdout",
     "output_type": "stream",
     "text": [
      " "
     ]
    },
    {
     "name": "stderr",
     "output_type": "stream",
     "text": [
      "Image NA4107-02_AB, Test ((36459, 67728)), Ground Truth ((36459, 67728)):  10%|█         | 3/30 [07:56<1:05:54, 146.48s/it]"
     ]
    },
    {
     "name": "stdout",
     "output_type": "stream",
     "text": [
      " "
     ]
    },
    {
     "name": "stderr",
     "output_type": "stream",
     "text": [
      "Image NA4160-02_AB, Test ((41787, 59760)), Ground Truth ((41787, 59760)):  13%|█▎        | 4/30 [09:57<1:00:14, 139.00s/it]"
     ]
    },
    {
     "name": "stdout",
     "output_type": "stream",
     "text": [
      " "
     ]
    },
    {
     "name": "stderr",
     "output_type": "stream",
     "text": [
      "Image NA4195-02_AB, Test ((39849, 55776)), Ground Truth ((39849, 55776)):  17%|█▋        | 5/30 [12:00<56:00, 134.42s/it]  "
     ]
    },
    {
     "name": "stdout",
     "output_type": "stream",
     "text": [
      " "
     ]
    },
    {
     "name": "stderr",
     "output_type": "stream",
     "text": [
      "Image NA4256-02_AB, Test ((46410, 61752)), Ground Truth ((46410, 61752)):  20%|██        | 6/30 [13:50<50:31, 126.29s/it]"
     ]
    },
    {
     "name": "stdout",
     "output_type": "stream",
     "text": [
      " "
     ]
    },
    {
     "name": "stderr",
     "output_type": "stream",
     "text": [
      "Image NA4299-02_AB, Test ((43740, 57768)), Ground Truth ((43740, 57768)):  23%|██▎       | 7/30 [16:13<50:29, 131.71s/it]"
     ]
    },
    {
     "name": "stdout",
     "output_type": "stream",
     "text": [
      " "
     ]
    },
    {
     "name": "stderr",
     "output_type": "stream",
     "text": [
      "Image NA4391-02_AB, Test ((47520, 49800)), Ground Truth ((47520, 49800)):  27%|██▋       | 8/30 [18:18<47:37, 129.89s/it]"
     ]
    },
    {
     "name": "stdout",
     "output_type": "stream",
     "text": [
      " "
     ]
    },
    {
     "name": "stderr",
     "output_type": "stream",
     "text": [
      "Image NA4450-02_AB, Test ((47481, 57768)), Ground Truth ((47481, 57768)):  30%|███       | 9/30 [20:16<44:03, 125.89s/it]"
     ]
    },
    {
     "name": "stdout",
     "output_type": "stream",
     "text": [
      " "
     ]
    },
    {
     "name": "stderr",
     "output_type": "stream",
     "text": [
      "Image NA4463-02_AB, Test ((45142, 53784)), Ground Truth ((45142, 53784)):  33%|███▎      | 10/30 [22:31<42:58, 128.90s/it]"
     ]
    },
    {
     "name": "stdout",
     "output_type": "stream",
     "text": [
      " "
     ]
    },
    {
     "name": "stderr",
     "output_type": "stream",
     "text": [
      "Image NA4471-02_AB, Test ((47426, 71712)), Ground Truth ((47426, 71712)):  37%|███▋      | 11/30 [24:35<40:08, 126.75s/it]"
     ]
    },
    {
     "name": "stdout",
     "output_type": "stream",
     "text": [
      " "
     ]
    },
    {
     "name": "stderr",
     "output_type": "stream",
     "text": [
      "Image NA4553-02_AB, Test ((47200, 67728)), Ground Truth ((47200, 67728)):  40%|████      | 12/30 [27:55<44:38, 148.82s/it]"
     ]
    },
    {
     "name": "stdout",
     "output_type": "stream",
     "text": [
      " "
     ]
    },
    {
     "name": "stderr",
     "output_type": "stream",
     "text": [
      "Image NA4626-02_AB, Test ((41668, 47808)), Ground Truth ((41668, 47808)):  43%|████▎     | 13/30 [30:35<43:23, 153.17s/it]"
     ]
    },
    {
     "name": "stdout",
     "output_type": "stream",
     "text": [
      " "
     ]
    },
    {
     "name": "stderr",
     "output_type": "stream",
     "text": [
      "Image NA4672-02_AB, Test ((36131, 49800)), Ground Truth ((36131, 49800)):  47%|████▋     | 14/30 [32:09<36:08, 135.54s/it]"
     ]
    },
    {
     "name": "stdout",
     "output_type": "stream",
     "text": [
      " "
     ]
    },
    {
     "name": "stderr",
     "output_type": "stream",
     "text": [
      "Image NA4675-02_AB, Test ((45548, 53784)), Ground Truth ((45548, 53784)):  50%|█████     | 15/30 [33:38<30:16, 121.12s/it]"
     ]
    },
    {
     "name": "stdout",
     "output_type": "stream",
     "text": [
      " "
     ]
    },
    {
     "name": "stderr",
     "output_type": "stream",
     "text": [
      "Image NA4691-02_AB, Test ((41073, 53784)), Ground Truth ((41073, 53784)):  53%|█████▎    | 16/30 [35:32<27:49, 119.28s/it]"
     ]
    },
    {
     "name": "stdout",
     "output_type": "stream",
     "text": [
      " "
     ]
    },
    {
     "name": "stderr",
     "output_type": "stream",
     "text": [
      "Image NA4695-02_AB, Test ((41634, 55776)), Ground Truth ((41634, 55776)):  57%|█████▋    | 17/30 [37:19<24:59, 115.31s/it]"
     ]
    },
    {
     "name": "stdout",
     "output_type": "stream",
     "text": [
      " "
     ]
    },
    {
     "name": "stderr",
     "output_type": "stream",
     "text": [
      "Image NA4894-02_AB17-24, Test ((44874, 59760)), Ground Truth ((44874, 59760)):  60%|██████    | 18/30 [39:10<22:44, 113.69s/it]"
     ]
    },
    {
     "name": "stdout",
     "output_type": "stream",
     "text": [
      " "
     ]
    },
    {
     "name": "stderr",
     "output_type": "stream",
     "text": [
      "Image NA4907-02_AB17-24, Test ((44644, 55776)), Ground Truth ((44644, 55776)):  63%|██████▎   | 19/30 [41:16<21:33, 117.57s/it]"
     ]
    },
    {
     "name": "stdout",
     "output_type": "stream",
     "text": [
      " "
     ]
    },
    {
     "name": "stderr",
     "output_type": "stream",
     "text": [
      "Image NA4944-02_AB17-24, Test ((36870, 47808)), Ground Truth ((36870, 47808)):  67%|██████▋   | 20/30 [43:11<19:36, 117.62s/it]"
     ]
    },
    {
     "name": "stdout",
     "output_type": "stream",
     "text": [
      " "
     ]
    },
    {
     "name": "stderr",
     "output_type": "stream",
     "text": [
      "Image NA4945-02_AB17-24, Test ((43128, 49800)), Ground Truth ((43128, 49800)):  70%|███████   | 21/30 [44:38<16:11, 107.90s/it]"
     ]
    },
    {
     "name": "stdout",
     "output_type": "stream",
     "text": [
      " "
     ]
    },
    {
     "name": "stderr",
     "output_type": "stream",
     "text": [
      "Image NA4967-02_AB17-24, Test ((35729, 47808)), Ground Truth ((35729, 47808)):  73%|███████▎  | 22/30 [46:18<14:08, 106.06s/it]"
     ]
    },
    {
     "name": "stdout",
     "output_type": "stream",
     "text": [
      " "
     ]
    },
    {
     "name": "stderr",
     "output_type": "stream",
     "text": [
      "Image NA4971-02_AB17-24, Test ((38443, 61752)), Ground Truth ((38443, 61752)):  77%|███████▋  | 23/30 [47:41<11:29, 98.54s/it] "
     ]
    },
    {
     "name": "stdout",
     "output_type": "stream",
     "text": [
      " "
     ]
    },
    {
     "name": "stderr",
     "output_type": "stream",
     "text": [
      "Image NA4972-02_AB17-24, Test ((39068, 47808)), Ground Truth ((39068, 47808)):  80%|████████  | 24/30 [49:32<10:15, 102.66s/it]"
     ]
    },
    {
     "name": "stdout",
     "output_type": "stream",
     "text": [
      " "
     ]
    },
    {
     "name": "stderr",
     "output_type": "stream",
     "text": [
      "Image NA4992-02_AB17-24, Test ((37641, 37848)), Ground Truth ((37641, 37848)):  83%|████████▎ | 25/30 [51:00<08:13, 98.77s/it] "
     ]
    },
    {
     "name": "stdout",
     "output_type": "stream",
     "text": [
      " "
     ]
    },
    {
     "name": "stderr",
     "output_type": "stream",
     "text": [
      "Image NA4993-02_AB17-24, Test ((41543, 39840)), Ground Truth ((41543, 39840)):  87%|████████▋ | 26/30 [52:11<06:01, 90.28s/it]"
     ]
    },
    {
     "name": "stdout",
     "output_type": "stream",
     "text": [
      " "
     ]
    },
    {
     "name": "stderr",
     "output_type": "stream",
     "text": [
      "Image NA5010-02_AB17-24, Test ((77386, 75695)), Ground Truth ((77386, 75695)):  90%|█████████ | 27/30 [53:45<04:22, 87.48s/it]"
     ]
    },
    {
     "name": "stdout",
     "output_type": "stream",
     "text": [
      " "
     ]
    },
    {
     "name": "stderr",
     "output_type": "stream",
     "text": [
      "Image NA5015-02_AB17-24, Test ((40419, 55776)), Ground Truth ((40419, 55776)):  93%|█████████▎| 28/30 [1:06:54<10:02, 301.25s/it]"
     ]
    },
    {
     "name": "stdout",
     "output_type": "stream",
     "text": [
      " "
     ]
    },
    {
     "name": "stderr",
     "output_type": "stream",
     "text": [
      "Image NA5029-02_AB17-24, Test ((43598, 53784)), Ground Truth ((43598, 53784)):  97%|█████████▋| 29/30 [1:08:48<04:04, 244.99s/it]"
     ]
    },
    {
     "name": "stdout",
     "output_type": "stream",
     "text": [
      " "
     ]
    },
    {
     "name": "stderr",
     "output_type": "stream",
     "text": [
      "Image NA5029-02_AB17-24, Test ((43598, 53784)), Ground Truth ((43598, 53784)): 100%|██████████| 30/30 [1:10:39<00:00, 141.32s/it]"
     ]
    },
    {
     "name": "stdout",
     "output_type": "stream",
     "text": [
      "Done!\n"
     ]
    },
    {
     "name": "stderr",
     "output_type": "stream",
     "text": [
      "\n"
     ]
    }
   ],
   "source": [
    "#@title\n",
    "SAVE_FILENAME = 'IoUResults.csv' # Under TEST_DIR\n",
    "SAVE_FILENAME_LATEX = 'IoUResults.txt' # Under TEST_DIR\n",
    "\n",
    "# Stores results: back_TN, back_FP, back_FN, back_TP, grey_TN, grey_FP, grey_FN, grey_TP, white_TN, white_FP, white_FN, white_TP\n",
    "conf_mat = np.zeros((len(image_names), 12), dtype='int')\n",
    "# Stores accuracy results: back_IoU, back_F1, grey_IoU, grey_F1, white_IoU, white_F1\n",
    "results = np.zeros((len(image_names), 6))\n",
    "# Stores accuracy results: back_IoU_conf, back_F1_conf, grey_IoU_conf, grey_F1_conf, white_IoU_conf, white_F1_conf\n",
    "results_conf = np.zeros((len(image_names), 6))\n",
    "\n",
    "t = tqdm(total=len(image_names))\n",
    "for i, imagename in enumerate(image_names):\n",
    "    # Filename for testing and ground truth images\n",
    "    test_grey_img_name = imagename + \"-Grey.png\"\n",
    "    test_white_img_name = imagename + \"-White.png\"\n",
    "    test_back_img_name = imagename + \"-Background.png\"\n",
    "    truth_grey_img_name = imagename + \"-Grey.png\"\n",
    "    truth_white_img_name = imagename + \"-White.png\"\n",
    "    truth_back_img_name = imagename + \"-Background.png\"\n",
    "\n",
    "    ##### Testing Background Mask #####\n",
    "    # Load images\n",
    "    TEST_img = np.array(Image.open(TEST_DIR + test_back_img_name))\n",
    "    truth_img = Image.open(TRUTH_DIR + truth_back_img_name)\n",
    "    (width, height) = (IMAGEDIMNORM[i, 0], IMAGEDIMNORM[i, 1])\n",
    "    truth_img = np.array(truth_img)\n",
    "    truth_width = truth_img.shape[0]\n",
    "    truth_height = truth_img.shape[1]\n",
    "    \n",
    "    test_img = np.zeros([truth_width,truth_height], bool)\n",
    "    for w in range(0,truth_width-128,128):\n",
    "        for h in range(0,truth_height-128,128):\n",
    "            test_img[w:w+128, h:h+128] = TEST_img[w//128,h//128]\n",
    "    \n",
    "    # Check dimensions and dtype\n",
    "    if not (test_img.shape[0] == IMAGEDIMNORM[i, 1] and test_img.shape[1] == IMAGEDIMNORM[i, 0]):\n",
    "        print('\\t' + imagename + ' background dimension WRONG!!!')\n",
    "    assert(truth_img.dtype == np.bool)\n",
    "\n",
    "  # Update tqdm descriptions\n",
    "    t.set_description_str(\"Image {}, Test ({}), Ground Truth ({})\".format(\n",
    "        imagename, str(test_img.shape), str(truth_img.shape)) )\n",
    "    t.refresh()\n",
    "    t.write(\"\", end=' ')\n",
    "\n",
    "    # Clip test_img to 1\n",
    "    test_img[test_img>=1] = 1\n",
    "\n",
    "    # Calculate true and false segmentations\n",
    "    width = truth_img.shape[1]\n",
    "    height = truth_img.shape[0]\n",
    "    back_TP = np.multiply(test_img, truth_img).sum()\n",
    "    back_FP = np.multiply(test_img, np.logical_not(truth_img)).sum()\n",
    "    back_FN = np.multiply(np.logical_not(test_img), truth_img).sum()\n",
    "    back_TN = np.multiply(np.logical_not(test_img), np.logical_not(truth_img)).sum()\n",
    "\n",
    "    # Check results\n",
    "    back_total = width*height\n",
    "    if not (back_total == back_TP+back_FP+back_FN+back_TN):\n",
    "        print('\\t' + imagename + ' background results WRONG!!!')\n",
    "\n",
    "    # Calculate IoU and F1 score\n",
    "    back_IoU = np.logical_and(test_img, truth_img).sum() / np.logical_or(test_img, truth_img).sum()\n",
    "    back_F1 = np.logical_and(test_img, truth_img).sum() * 2 / (test_img.sum() + truth_img.sum())\n",
    "\n",
    "    # Calculate IoU and F1 score using TP FP FN\n",
    "    back_IoU_conf = back_TP / (back_TP+back_FP+back_FN)\n",
    "    back_F1_conf = 2*back_TP / (2*back_TP+back_FP+back_FN)\n",
    "\n",
    "    ##### Testing Grey Matter Mask #####\n",
    "    # Load images\n",
    "    TEST_img = np.array(Image.open(TEST_DIR + test_grey_img_name))\n",
    "    truth_img = Image.open(TRUTH_DIR + truth_grey_img_name)\n",
    "    (width, height) = (IMAGEDIMNORM[i, 0], IMAGEDIMNORM[i, 1])\n",
    "    truth_img = np.array(truth_img)\n",
    "    \n",
    "    truth_width = truth_img.shape[0]\n",
    "    truth_height = truth_img.shape[1]\n",
    "    \n",
    "    test_img = np.zeros([truth_width,truth_height], bool)\n",
    "    for w in range(0,truth_width-128,128):\n",
    "        for h in range(0,truth_height-128,128):\n",
    "            test_img[w:w+128, h:h+128] = TEST_img[w//128,h//128]\n",
    "\n",
    "    # Check dimensions and dtype\n",
    "    if not (test_img.shape[0] == IMAGEDIMNORM[i, 1] and test_img.shape[1] == IMAGEDIMNORM[i, 0]):\n",
    "        print('\\t' + imagename + ' grey dimension WRONG!!!')\n",
    "    assert(truth_img.dtype == np.bool)\n",
    "\n",
    "    # Clip test_img to 1\n",
    "    test_img[test_img>=1] = 1\n",
    "\n",
    "    # Calculate true and false segmentations\n",
    "    width = truth_img.shape[1]\n",
    "    height = truth_img.shape[0]\n",
    "    grey_TP = np.multiply(test_img, truth_img).sum()\n",
    "    grey_FP = np.multiply(test_img, np.logical_not(truth_img)).sum()\n",
    "    grey_FN = np.multiply(np.logical_not(test_img), truth_img).sum()\n",
    "    grey_TN = np.multiply(np.logical_not(test_img), np.logical_not(truth_img)).sum()\n",
    "\n",
    "    # Check results\n",
    "    grey_total = width*height\n",
    "    if not (grey_total == grey_TP+grey_FP+grey_FN+grey_TN):\n",
    "        print('\\t' + imagename + ' grey matter results WRONG!!!')\n",
    "\n",
    "    # Calculate IoU and F1 score\n",
    "    grey_IoU = np.logical_and(test_img, truth_img).sum() / np.logical_or(test_img, truth_img).sum()\n",
    "    grey_F1 = np.logical_and(test_img, truth_img).sum() * 2 / (test_img.sum() + truth_img.sum())\n",
    "\n",
    "    # Calculate IoU and F1 score using TP FP FN\n",
    "    grey_IoU_conf = grey_TP / (grey_TP+grey_FP+grey_FN)\n",
    "    grey_F1_conf = 2*grey_TP / (2*grey_TP+grey_FP+grey_FN)\n",
    "\n",
    "    ##### Testing White Matter Mask #####\n",
    "    # Load images\n",
    "    TEST_img = np.array(Image.open(TEST_DIR + test_white_img_name))\n",
    "    truth_img = Image.open(TRUTH_DIR + truth_white_img_name)\n",
    "    (width, height) = (IMAGEDIMNORM[i, 0], IMAGEDIMNORM[i, 1])\n",
    "    truth_img = np.array(truth_img)\n",
    "\n",
    "    truth_width = truth_img.shape[0]\n",
    "    truth_height = truth_img.shape[1]\n",
    "    \n",
    "    test_img = np.zeros([truth_width,truth_height], bool)\n",
    "    for w in range(0,truth_width-128,128):\n",
    "        for h in range(0,truth_height-128,128):\n",
    "            test_img[w:w+128, h:h+128] = TEST_img[w//128,h//128]\n",
    "            \n",
    "    # Check dimensions and dtype\n",
    "    if not (test_img.shape[0] == IMAGEDIMNORM[i, 1] and test_img.shape[1] == IMAGEDIMNORM[i, 0]):\n",
    "        print('\\t' + imagename + ' white dimension WRONG!!!')\n",
    "    assert(truth_img.dtype == np.bool)\n",
    "\n",
    "    # Clip test_img to 1\n",
    "    test_img[test_img>=1] = 1\n",
    "\n",
    "    # Calculate true and false segmentations\n",
    "    width = truth_img.shape[1]\n",
    "    height = truth_img.shape[0]\n",
    "    white_TP = np.multiply(test_img, truth_img).sum()\n",
    "    white_FP = np.multiply(test_img, np.logical_not(truth_img)).sum()\n",
    "    white_FN = np.multiply(np.logical_not(test_img), truth_img).sum()\n",
    "    white_TN = np.multiply(np.logical_not(test_img), np.logical_not(truth_img)).sum()\n",
    "\n",
    "    # Check results\n",
    "    white_total = width*height\n",
    "    if not (white_total == white_TN+white_FP+white_FN+white_TP):\n",
    "        print('\\t' + imagename + ' white matter results WRONG!!!')\n",
    "\n",
    "    # Calculate IoU and F1 score\n",
    "    white_IoU = np.logical_and(test_img, truth_img).sum() / np.logical_or(test_img, truth_img).sum()\n",
    "    white_F1 = np.logical_and(test_img, truth_img).sum() * 2 / (test_img.sum() + truth_img.sum())\n",
    "\n",
    "    # Calculate IoU and F1 score using TP FP FN\n",
    "    white_IoU_conf = white_TP / (white_TP+white_FP+white_FN)\n",
    "    white_F1_conf = 2*white_TP / (2*white_TP+white_FP+white_FN)\n",
    "\n",
    "    # Save results: back_TN, back_FP, back_FN, back_TP, grey_TN, grey_FP, grey_FN, grey_TP, white_TN, white_FP, white_FN, white_TP\n",
    "    conf_mat[i, :] = [back_TN, back_FP, back_FN, back_TP, grey_TN, grey_FP, grey_FN, grey_TP, white_TN, white_FP, white_FN, white_TP]\n",
    "    # Stores accuracy results: back_IoU, back_F1, grey_IoU, grey_F1, white_IoU, white_F1\n",
    "    results[i, :] = [back_IoU, back_F1, grey_IoU, grey_F1, white_IoU, white_F1]\n",
    "    # Stores accuracy results: back_IoU_conf, back_F1_conf, grey_IoU_conf, grey_F1_conf, white_IoU_conf, white_F1_conf\n",
    "    results_conf[i, :] = [back_IoU_conf, back_F1_conf, grey_IoU_conf, grey_F1_conf, white_IoU_conf, white_F1_conf]\n",
    "\n",
    "    t.update()\n",
    "t.close()\n",
    "\n",
    "################################################################################\n",
    "# Multiply results and results_conf by 100 (%)\n",
    "results *= 100\n",
    "results_conf *= 100\n",
    "\n",
    "# Average results: Avg_IoU (%),Avg_IoU_conf (%),Avg_F1 (%),Avg_F1_conf (%)\n",
    "avg_result = np.zeros((len(image_names), 4))\n",
    "avg_result[:, 0] = np.mean(results[:, 0:6:2], axis=1)\n",
    "avg_result[:, 1] = np.mean(results_conf[:, 0:6:2], axis=1)\n",
    "avg_result[:, 2] = np.mean(results[:, 1:6:2], axis=1)\n",
    "avg_result[:, 3] = np.mean(results_conf[:, 1:6:2], axis=1)\n",
    "\n",
    "# Generate results file\n",
    "with open(TEST_DIR + SAVE_FILENAME, \"w\") as f:\n",
    "    f.write('Image Name,Back_TN (px),Back_FP (px),Back_FN (px),Back_TP (px),' +\n",
    "          'Grey_TN (px),Grey_FP (px),Grey_FN (px),Grey_TP (px),' +\n",
    "          'White_TN (px),White_FP (px),White_FN (px),White_TP (px),' + \n",
    "          'Back_IoU (%),Back_IoU_conf (%),Back_F1 (%),Back_F1_conf (%),' +\n",
    "          'Grey_IoU (%),Grey_IoU_conf (%),Grey_F1 (%),Grey_F1_conf (%),' +\n",
    "          'White_IoU (%),White_IoU_conf (%),White_F1 (%),White_F1_conf (%),' +\n",
    "          'Avg_IoU (%),Avg_IoU_conf (%),Avg_F1 (%),Avg_F1_conf (%)\\n') \n",
    "\n",
    "    for i, imagename in enumerate(image_names):\n",
    "        f.write('%s,%d,%d,%d,%d,%d,%d,%d,%d,%d,%d,%d,%d,%.2f,%.2f,%.2f,%.2f,%.2f,%.2f,%.2f,%.2f,%.2f,%.2f,%.2f,%.2f,%.2f,%.2f,%.2f,%.2f\\n' % \n",
    "            (imagename, conf_mat[i, 0], conf_mat[i, 1], conf_mat[i, 2], conf_mat[i, 3], \n",
    "                conf_mat[i, 4], conf_mat[i, 5], conf_mat[i, 6], conf_mat[i, 7], \n",
    "                conf_mat[i, 8], conf_mat[i, 9], conf_mat[i, 10], conf_mat[i, 11], \n",
    "                results[i, 0], results_conf[i, 0], results[i, 1], results_conf[i, 1], \n",
    "                results[i, 2], results_conf[i, 2], results[i, 3], results_conf[i, 3], \n",
    "                results[i, 4], results_conf[i, 4], results[i, 5], results_conf[i, 5],\n",
    "                avg_result[i, 0], avg_result[i, 1], avg_result[i, 2], avg_result[i, 3])) \n",
    "    f.write('-' * 230 + '\\n')\n",
    "    f.write('Average,%d,%d,%d,%d,%d,%d,%d,%d,%d,%d,%d,%d,%.2f,%.2f,%.2f,%.2f,%.2f,%.2f,%.2f,%.2f,%.2f,%.2f,%.2f,%.2f,%.2f,%.2f,%.2f,%.2f\\n' % \n",
    "          (np.mean(conf_mat[:, 0]), np.mean(conf_mat[:, 1]), np.mean(conf_mat[:, 2]), np.mean(conf_mat[:, 3]), \n",
    "              np.mean(conf_mat[:, 4]), np.mean(conf_mat[:, 5]), np.mean(conf_mat[:, 6]), np.mean(conf_mat[:, 7]), \n",
    "              np.mean(conf_mat[:, 8]), np.mean(conf_mat[:, 9]), np.mean(conf_mat[:, 10]), np.mean(conf_mat[:, 11]), \n",
    "              np.mean(results[:, 0]), np.mean(results_conf[:, 0]), np.mean(results[:, 1]), np.mean(results_conf[:, 1]), \n",
    "              np.mean(results[:, 2]), np.mean(results_conf[:, 2]), np.mean(results[:, 3]), np.mean(results_conf[:, 3]), \n",
    "              np.mean(results[:, 4]), np.mean(results_conf[:, 4]), np.mean(results[:, 5]), np.mean(results_conf[:, 5]),\n",
    "              np.mean(avg_result[:, 0]), np.mean(avg_result[:, 1]), np.mean(avg_result[:, 2]), np.mean(avg_result[:, 3])))\n",
    "\n",
    "# Generate results file for LaTeX\n",
    "# with open(TEST_DIR + SAVE_FILENAME_LATEX, \"w\") as f:\n",
    "#     f.write('Image Name,Back_IoU (%),Back_F1 (%),Grey_IoU (%),Grey_F1 (%),White_IoU (%),White_F1 (%),Avg_IoU (%),Avg_F1 (%)\\n')\n",
    "#     for i, imagename in enumerate(image_names):\n",
    "#         f.write('%s & %.2f\\\\%% & %.2f\\\\%% & %.2f\\\\%% & %.2f\\\\%% & %.2f\\\\%% & %.2f\\\\%% & %.2f\\\\%% & %.2f\\\\%%\\\\\\\\\\n\\\\hline\\n' % \n",
    "#             (imagename.split('-')[0], results[i, 0], results[i, 1], results[i, 2], \n",
    "#                 results[i, 3], results[i, 4], results[i, 5], \n",
    "#                 avg_result[i, 0], avg_result[i, 2]))\n",
    "#     f.write('Average & %.2f\\\\%% & %.2f\\\\%% & %.2f\\\\%% & %.2f\\\\%% & %.2f\\\\%% & %.2f\\\\%% & %.2f\\\\%% & %.2f\\\\%%\\\\\\\\\\n\\n' % \n",
    "#             (np.mean(results[:, 0]), np.mean(results[:, 1]), np.mean(results[:, 2]), \n",
    "#              np.mean(results[:, 3]), np.mean(results[:, 4]), np.mean(results[:, 5]),\n",
    "#              np.mean(avg_result[:, 0]), np.mean(avg_result[:, 2])))\n",
    "print('Done!')"
   ]
  },
  {
   "cell_type": "code",
   "execution_count": 54,
   "metadata": {},
   "outputs": [],
   "source": [
    "import pandas as pd\n",
    "csv = pd.read_csv(TEST_DIR + SAVE_FILENAME)"
   ]
  },
  {
   "cell_type": "code",
   "execution_count": 55,
   "metadata": {},
   "outputs": [
    {
     "data": {
      "text/html": [
       "<div>\n",
       "<style scoped>\n",
       "    .dataframe tbody tr th:only-of-type {\n",
       "        vertical-align: middle;\n",
       "    }\n",
       "\n",
       "    .dataframe tbody tr th {\n",
       "        vertical-align: top;\n",
       "    }\n",
       "\n",
       "    .dataframe thead th {\n",
       "        text-align: right;\n",
       "    }\n",
       "</style>\n",
       "<table border=\"1\" class=\"dataframe\">\n",
       "  <thead>\n",
       "    <tr style=\"text-align: right;\">\n",
       "      <th></th>\n",
       "      <th>Image Name</th>\n",
       "      <th>Back_TN (px)</th>\n",
       "      <th>Back_FP (px)</th>\n",
       "      <th>Back_FN (px)</th>\n",
       "      <th>Back_TP (px)</th>\n",
       "      <th>Grey_TN (px)</th>\n",
       "      <th>Grey_FP (px)</th>\n",
       "      <th>Grey_FN (px)</th>\n",
       "      <th>Grey_TP (px)</th>\n",
       "      <th>White_TN (px)</th>\n",
       "      <th>...</th>\n",
       "      <th>Grey_F1 (%)</th>\n",
       "      <th>Grey_F1_conf (%)</th>\n",
       "      <th>White_IoU (%)</th>\n",
       "      <th>White_IoU_conf (%)</th>\n",
       "      <th>White_F1 (%)</th>\n",
       "      <th>White_F1_conf (%)</th>\n",
       "      <th>Avg_IoU (%)</th>\n",
       "      <th>Avg_IoU_conf (%)</th>\n",
       "      <th>Avg_F1 (%)</th>\n",
       "      <th>Avg_F1_conf (%)</th>\n",
       "    </tr>\n",
       "  </thead>\n",
       "  <tbody>\n",
       "    <tr>\n",
       "      <th>0</th>\n",
       "      <td>NA3777-02_AB</td>\n",
       "      <td>1.391187e+09</td>\n",
       "      <td>17096437.0</td>\n",
       "      <td>62952878.0</td>\n",
       "      <td>1.066132e+09</td>\n",
       "      <td>1.495174e+09</td>\n",
       "      <td>68761632.0</td>\n",
       "      <td>38084246.0</td>\n",
       "      <td>935348192.0</td>\n",
       "      <td>2.078641e+09</td>\n",
       "      <td>...</td>\n",
       "      <td>94.6</td>\n",
       "      <td>94.6</td>\n",
       "      <td>91.8</td>\n",
       "      <td>91.8</td>\n",
       "      <td>95.72</td>\n",
       "      <td>95.72</td>\n",
       "      <td>91.52</td>\n",
       "      <td>91.52</td>\n",
       "      <td>95.57</td>\n",
       "      <td>95.57</td>\n",
       "    </tr>\n",
       "    <tr>\n",
       "      <th>1</th>\n",
       "      <td>----------------------------------------------...</td>\n",
       "      <td>NaN</td>\n",
       "      <td>NaN</td>\n",
       "      <td>NaN</td>\n",
       "      <td>NaN</td>\n",
       "      <td>NaN</td>\n",
       "      <td>NaN</td>\n",
       "      <td>NaN</td>\n",
       "      <td>NaN</td>\n",
       "      <td>NaN</td>\n",
       "      <td>...</td>\n",
       "      <td>NaN</td>\n",
       "      <td>NaN</td>\n",
       "      <td>NaN</td>\n",
       "      <td>NaN</td>\n",
       "      <td>NaN</td>\n",
       "      <td>NaN</td>\n",
       "      <td>NaN</td>\n",
       "      <td>NaN</td>\n",
       "      <td>NaN</td>\n",
       "      <td>NaN</td>\n",
       "    </tr>\n",
       "    <tr>\n",
       "      <th>2</th>\n",
       "      <td>Average</td>\n",
       "      <td>1.391187e+09</td>\n",
       "      <td>17096437.0</td>\n",
       "      <td>62952878.0</td>\n",
       "      <td>1.066132e+09</td>\n",
       "      <td>1.495174e+09</td>\n",
       "      <td>68761632.0</td>\n",
       "      <td>38084246.0</td>\n",
       "      <td>935348192.0</td>\n",
       "      <td>2.078641e+09</td>\n",
       "      <td>...</td>\n",
       "      <td>94.6</td>\n",
       "      <td>94.6</td>\n",
       "      <td>91.8</td>\n",
       "      <td>91.8</td>\n",
       "      <td>95.72</td>\n",
       "      <td>95.72</td>\n",
       "      <td>91.52</td>\n",
       "      <td>91.52</td>\n",
       "      <td>95.57</td>\n",
       "      <td>95.57</td>\n",
       "    </tr>\n",
       "  </tbody>\n",
       "</table>\n",
       "<p>3 rows × 29 columns</p>\n",
       "</div>"
      ],
      "text/plain": [
       "                                          Image Name  Back_TN (px)  \\\n",
       "0                                       NA3777-02_AB  1.391187e+09   \n",
       "1  ----------------------------------------------...           NaN   \n",
       "2                                            Average  1.391187e+09   \n",
       "\n",
       "   Back_FP (px)  Back_FN (px)  Back_TP (px)  Grey_TN (px)  Grey_FP (px)  \\\n",
       "0    17096437.0    62952878.0  1.066132e+09  1.495174e+09    68761632.0   \n",
       "1           NaN           NaN           NaN           NaN           NaN   \n",
       "2    17096437.0    62952878.0  1.066132e+09  1.495174e+09    68761632.0   \n",
       "\n",
       "   Grey_FN (px)  Grey_TP (px)  White_TN (px)  ...  Grey_F1 (%)  \\\n",
       "0    38084246.0   935348192.0   2.078641e+09  ...         94.6   \n",
       "1           NaN           NaN            NaN  ...          NaN   \n",
       "2    38084246.0   935348192.0   2.078641e+09  ...         94.6   \n",
       "\n",
       "   Grey_F1_conf (%)  White_IoU (%)  White_IoU_conf (%)  White_F1 (%)  \\\n",
       "0              94.6           91.8                91.8         95.72   \n",
       "1               NaN            NaN                 NaN           NaN   \n",
       "2              94.6           91.8                91.8         95.72   \n",
       "\n",
       "   White_F1_conf (%)  Avg_IoU (%)  Avg_IoU_conf (%)  Avg_F1 (%)  \\\n",
       "0              95.72        91.52             91.52       95.57   \n",
       "1                NaN          NaN               NaN         NaN   \n",
       "2              95.72        91.52             91.52       95.57   \n",
       "\n",
       "   Avg_F1_conf (%)  \n",
       "0            95.57  \n",
       "1              NaN  \n",
       "2            95.57  \n",
       "\n",
       "[3 rows x 29 columns]"
      ]
     },
     "execution_count": 55,
     "metadata": {},
     "output_type": "execute_result"
    }
   ],
   "source": [
    "csv"
   ]
  },
  {
   "cell_type": "code",
   "execution_count": null,
   "metadata": {},
   "outputs": [],
   "source": []
  }
 ],
 "metadata": {
  "kernelspec": {
   "display_name": "Python 3",
   "language": "python",
   "name": "python3"
  },
  "language_info": {
   "codemirror_mode": {
    "name": "ipython",
    "version": 3
   },
   "file_extension": ".py",
   "mimetype": "text/x-python",
   "name": "python",
   "nbconvert_exporter": "python",
   "pygments_lexer": "ipython3",
   "version": "3.6.9"
  }
 },
 "nbformat": 4,
 "nbformat_minor": 4
}
