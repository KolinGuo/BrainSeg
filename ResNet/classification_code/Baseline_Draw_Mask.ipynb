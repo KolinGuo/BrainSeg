{
 "cells": [
  {
   "cell_type": "code",
   "execution_count": 1,
   "metadata": {},
   "outputs": [],
   "source": [
    "import os\n",
    "import glob\n",
    "import numpy as np\n",
    "import pyvips\n",
    "from tqdm import tqdm\n",
    "import re\n",
    "from PIL import Image\n",
    "Image.MAX_IMAGE_PIXELS = None"
   ]
  },
  {
   "cell_type": "code",
   "execution_count": 4,
   "metadata": {},
   "outputs": [
    {
     "name": "stdout",
     "output_type": "stream",
     "text": [
      "/BrainSeg/Classify_Results/ResNet/GMBMasks_2/\n"
     ]
    }
   ],
   "source": [
    "TRUTH_DIR = '/BrainSeg/norm_png/'\n",
    "BASE_DIR = '/BrainSeg/'\n",
    "TEST_DIR = '/BrainSeg/Classify_Results/ResNet/GMBData/'\n",
    "SAVE_IMG_DIR = BASE_DIR + 'Classify_Results/ResNet/GMBMasks_2/'\n",
    "if not os.path.exists(SAVE_IMG_DIR):\n",
    "    os.makedirs(SAVE_IMG_DIR)\n",
    "print(SAVE_IMG_DIR)"
   ]
  },
  {
   "cell_type": "code",
   "execution_count": 5,
   "metadata": {},
   "outputs": [
    {
     "data": {
      "text/plain": [
       "['NA3777-02_AB',\n",
       " 'NA4077-02_AB',\n",
       " 'NA4092-02_AB',\n",
       " 'NA4107-02_AB',\n",
       " 'NA4160-02_AB',\n",
       " 'NA4195-02_AB',\n",
       " 'NA4256-02_AB',\n",
       " 'NA4299-02_AB',\n",
       " 'NA4391-02_AB',\n",
       " 'NA4450-02_AB',\n",
       " 'NA4463-02_AB',\n",
       " 'NA4471-02_AB',\n",
       " 'NA4553-02_AB',\n",
       " 'NA4626-02_AB',\n",
       " 'NA4672-02_AB',\n",
       " 'NA4675-02_AB',\n",
       " 'NA4691-02_AB',\n",
       " 'NA4695-02_AB',\n",
       " 'NA4894-02_AB17-24',\n",
       " 'NA4907-02_AB17-24',\n",
       " 'NA4944-02_AB17-24',\n",
       " 'NA4945-02_AB17-24',\n",
       " 'NA4967-02_AB17-24',\n",
       " 'NA4971-02_AB17-24',\n",
       " 'NA4972-02_AB17-24',\n",
       " 'NA4992-02_AB17-24',\n",
       " 'NA4993-02_AB17-24',\n",
       " 'NA5010-02_AB17-24',\n",
       " 'NA5015-02_AB17-24',\n",
       " 'NA5029-02_AB17-24']"
      ]
     },
     "execution_count": 5,
     "metadata": {},
     "output_type": "execute_result"
    }
   ],
   "source": [
    "test_img = sorted(os.listdir(TRUTH_DIR))\n",
    "image_names = [imagename.split('.')[0] for imagename in test_img]\n",
    "image_names"
   ]
  },
  {
   "cell_type": "code",
   "execution_count": 6,
   "metadata": {},
   "outputs": [],
   "source": [
    "for img in image_names:\n",
    "    nums = np.load(TEST_DIR + img + '.npy')\n",
    "    nums = np.repeat(nums[:, :, np.newaxis], 3, axis=2)\n",
    "    #print(nums.shape, nums.dtype)\n",
    "\n",
    "    # nums[:,:,0] = RED, nums[:,:,1] = Green, nums[:,:,2] = Blue\n",
    "    idx_1 = np.where(nums[:,:,0] == 2)  # Index of label 1 (WM)\n",
    "    idx_2 = np.where(nums[:,:,0] == 1)  # Index of label 2 (GM)\n",
    "\n",
    "    # For label 0, leave as black color\n",
    "    # For label 1, set to cyan color: R0G255B255\n",
    "    nums[:,:,0].flat[np.ravel_multi_index(idx_1, nums[:,:,0].shape)] = 0\n",
    "    nums[:,:,1].flat[np.ravel_multi_index(idx_1, nums[:,:,1].shape)] = 255\n",
    "    nums[:,:,2].flat[np.ravel_multi_index(idx_1, nums[:,:,2].shape)] = 255\n",
    "    # For label 2, set to yellow color: R255G255B0\n",
    "    nums[:,:,0].flat[np.ravel_multi_index(idx_2, nums[:,:,0].shape)] = 255\n",
    "    nums[:,:,1].flat[np.ravel_multi_index(idx_2, nums[:,:,1].shape)] = 255\n",
    "    nums[:,:,2].flat[np.ravel_multi_index(idx_2, nums[:,:,2].shape)] = 0\n",
    "\n",
    "    save_img = Image.fromarray(nums, 'RGB')\n",
    "    save_img.save(SAVE_IMG_DIR + img + '.png')"
   ]
  },
  {
   "cell_type": "code",
   "execution_count": null,
   "metadata": {},
   "outputs": [],
   "source": []
  }
 ],
 "metadata": {
  "kernelspec": {
   "display_name": "Python 3",
   "language": "python",
   "name": "python3"
  },
  "language_info": {
   "codemirror_mode": {
    "name": "ipython",
    "version": 3
   },
   "file_extension": ".py",
   "mimetype": "text/x-python",
   "name": "python",
   "nbconvert_exporter": "python",
   "pygments_lexer": "ipython3",
   "version": "3.6.9"
  }
 },
 "nbformat": 4,
 "nbformat_minor": 4
}
