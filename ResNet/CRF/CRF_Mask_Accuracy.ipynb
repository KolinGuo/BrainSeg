{
 "cells": [
  {
   "cell_type": "code",
   "execution_count": 23,
   "metadata": {},
   "outputs": [],
   "source": [
    "import os\n",
    "import numpy as np\n",
    "import time, os, copy, datetime, glob\n",
    "from tqdm import tqdm\n",
    "from skimage import io\n",
    "from PIL import Image\n",
    "Image.MAX_IMAGE_PIXELS = None\n",
    "format_to_dtype = {\n",
    "    'uchar': np.uint8,\n",
    "    'char': np.int8,\n",
    "    'ushort': np.uint16,\n",
    "    'short': np.int16,\n",
    "    'uint': np.uint32,\n",
    "    'int': np.int32,\n",
    "    'float': np.float32,\n",
    "    'double': np.float64,\n",
    "    'complex': np.complex64,\n",
    "    'dpcomplex': np.complex128,\n",
    "}\n",
    "\n",
    "# vips image to numpy array\n",
    "def vips2numpy(vi):\n",
    "    return np.ndarray(buffer=vi.write_to_memory(),\n",
    "                      dtype=format_to_dtype[vi.format],\n",
    "                      shape=[vi.height, vi.width, vi.bands])\n",
    "\n",
    "def img_frombytes(data):\n",
    "    size = data.shape[::-1]\n",
    "    databytes = np.packbits(data, axis=1)\n",
    "    return Image.frombytes(mode='1', size=size, data=databytes)"
   ]
  },
  {
   "cell_type": "code",
   "execution_count": 9,
   "metadata": {},
   "outputs": [
    {
     "name": "stdout",
     "output_type": "stream",
     "text": [
      "Run for the following 30 images out of 30 images:\n",
      " ['NA3777-02_AB.png', 'NA4077-02_AB.png', 'NA4092-02_AB.png', 'NA4107-02_AB.png', 'NA4160-02_AB.png', 'NA4195-02_AB.png', 'NA4256-02_AB.png', 'NA4299-02_AB.png', 'NA4391-02_AB.png', 'NA4450-02_AB.png', 'NA4463-02_AB.png', 'NA4471-02_AB.png', 'NA4553-02_AB.png', 'NA4626-02_AB.png', 'NA4672-02_AB.png', 'NA4675-02_AB.png', 'NA4691-02_AB.png', 'NA4695-02_AB.png', 'NA4894-02_AB17-24.png', 'NA4907-02_AB17-24.png', 'NA4944-02_AB17-24.png', 'NA4945-02_AB17-24.png', 'NA4967-02_AB17-24.png', 'NA4971-02_AB17-24.png', 'NA4972-02_AB17-24.png', 'NA4992-02_AB17-24.png', 'NA4993-02_AB17-24.png', 'NA5010-02_AB17-24.png', 'NA5015-02_AB17-24.png', 'NA5029-02_AB17-24.png']\n"
     ]
    }
   ],
   "source": [
    "IMG_DIR = '/BrainSeg/norm_png/'\n",
    "SAVE_DATA_DIR = '/BrainSeg/Classify_Results/CRF_0914/GMBData/'\n",
    "SAVE_IMG_DIR = '/BrainSeg/Classify_Results/CRF_0914/GMBMasks/'\n",
    "\n",
    "filenames = glob.glob(IMG_DIR + '*.png')\n",
    "filenames = [filename.split('/')[-1] for filename in filenames]\n",
    "filenames = sorted(filenames)\n",
    "total_image_num = len(filenames)\n",
    "\n",
    "idx_image_to_eval = slice(0,30)     # Modify this line to select images to eval\n",
    "filenames = filenames[idx_image_to_eval]\n",
    "print('Run for the following %d images out of %d images:\\n' % (len(filenames), total_image_num), filenames)\n"
   ]
  },
  {
   "cell_type": "code",
   "execution_count": 10,
   "metadata": {},
   "outputs": [
    {
     "name": "stderr",
     "output_type": "stream",
     "text": [
      "\n",
      "  0%|          | 0/30 [00:00<?, ?it/s]\u001b[A\n",
      "Image NA3777-02_AB.png:   0%|          | 0/30 [00:00<?, ?it/s]\u001b[A\n",
      "                                                              \u001b[A\n",
      "Image NA3777-02_AB.png:   0%|          | 0/30 [03:04<?, ?it/s]\n",
      "Image NA3777-02_AB.png:   0%|          | 0/30 [00:00<?, ?it/s]\u001b[A\n",
      "Image NA4077-02_AB.png:   3%|▎         | 1/30 [00:00<00:00, 34.45it/s]\u001b[A\n",
      "                                                              .56it/s]\u001b[A\n",
      "Image NA3777-02_AB.png:   0%|          | 0/30 [03:04<?, ?it/s]        \n",
      "Image NA4077-02_AB.png:   3%|▎         | 1/30 [00:00<00:01, 27.63it/s]\u001b[A\n",
      "Image NA4092-02_AB.png:   7%|▋         | 2/30 [00:00<00:00, 41.63it/s]\u001b[A\n",
      "                                                              .15it/s]\u001b[A\n",
      "Image NA3777-02_AB.png:   0%|          | 0/30 [03:04<?, ?it/s]        \n",
      "Image NA4092-02_AB.png:   7%|▋         | 2/30 [00:00<00:00, 35.68it/s]\u001b[A\n",
      "Image NA4107-02_AB.png:  10%|█         | 3/30 [00:00<00:00, 45.04it/s]\u001b[A\n",
      "                                                              .02it/s]\u001b[A\n",
      "Image NA3777-02_AB.png:   0%|          | 0/30 [03:04<?, ?it/s]        \n",
      "Image NA4107-02_AB.png:  10%|█         | 3/30 [00:00<00:00, 40.50it/s]\u001b[A\n",
      "Image NA4160-02_AB.png:  13%|█▎        | 4/30 [00:00<00:00, 47.32it/s]\u001b[A\n",
      "                                                              .45it/s]\u001b[A\n",
      "Image NA3777-02_AB.png:   0%|          | 0/30 [03:04<?, ?it/s]        \n",
      "Image NA4160-02_AB.png:  13%|█▎        | 4/30 [00:00<00:00, 43.66it/s]\u001b[A\n",
      "Image NA4160-02_AB.png:  17%|█▋        | 5/30 [00:00<00:00, 49.50it/s]\u001b[A\n",
      "Image NA4195-02_AB.png:  17%|█▋        | 5/30 [00:00<00:00, 49.50it/s]\u001b[A\n",
      "                                                              .50it/s]\u001b[A\n",
      "Image NA3777-02_AB.png:   0%|          | 0/30 [03:04<?, ?it/s]        \n",
      "Image NA4195-02_AB.png:  17%|█▋        | 5/30 [00:00<00:00, 49.50it/s]\u001b[A\n",
      "Image NA4256-02_AB.png:  20%|██        | 6/30 [00:00<00:00, 49.50it/s]\u001b[A\n",
      "                                                              .50it/s]\u001b[A\n",
      "Image NA3777-02_AB.png:   0%|          | 0/30 [03:04<?, ?it/s]        \n",
      "Image NA4256-02_AB.png:  20%|██        | 6/30 [00:00<00:00, 49.50it/s]\u001b[A\n",
      "Image NA4299-02_AB.png:  23%|██▎       | 7/30 [00:00<00:00, 49.50it/s]\u001b[A\n",
      "                                                              .50it/s]\u001b[A\n",
      "Image NA3777-02_AB.png:   0%|          | 0/30 [03:04<?, ?it/s]        \n",
      "Image NA4299-02_AB.png:  23%|██▎       | 7/30 [00:00<00:00, 49.50it/s]\u001b[A\n",
      "Image NA4391-02_AB.png:  27%|██▋       | 8/30 [00:00<00:00, 49.50it/s]\u001b[A\n",
      "                                                              .50it/s]\u001b[A\n",
      "Image NA3777-02_AB.png:   0%|          | 0/30 [03:04<?, ?it/s]        \n",
      "Image NA4391-02_AB.png:  27%|██▋       | 8/30 [00:00<00:00, 49.50it/s]\u001b[A\n",
      "Image NA4450-02_AB.png:  30%|███       | 9/30 [00:00<00:00, 49.50it/s]\u001b[A\n",
      "                                                              .50it/s]\u001b[A\n",
      "Image NA3777-02_AB.png:   0%|          | 0/30 [03:04<?, ?it/s]        \n",
      "Image NA4450-02_AB.png:  30%|███       | 9/30 [00:00<00:00, 49.50it/s]\u001b[A\n",
      "Image NA4463-02_AB.png:  33%|███▎      | 10/30 [00:00<00:00, 49.50it/s]\u001b[A\n",
      "                                                              9.50it/s]\u001b[A\n",
      "Image NA3777-02_AB.png:   0%|          | 0/30 [03:04<?, ?it/s]         \n",
      "Image NA4463-02_AB.png:  33%|███▎      | 10/30 [00:00<00:00, 49.50it/s]\u001b[A\n",
      "Image NA4463-02_AB.png:  37%|███▋      | 11/30 [00:00<00:00, 51.69it/s]\u001b[A\n",
      "Image NA4471-02_AB.png:  37%|███▋      | 11/30 [00:00<00:00, 51.69it/s]\u001b[A\n",
      "Image NA4471-02_AB.png:  37%|███▋      | 11/30 [00:00<00:00, 51.69it/s]\u001b[A"
     ]
    },
    {
     "name": "stdout",
     "output_type": "stream",
     "text": [
      "           "
     ]
    },
    {
     "name": "stderr",
     "output_type": "stream",
     "text": [
      "                                                              \n",
      "Image NA3777-02_AB.png:   0%|          | 0/30 [03:04<?, ?it/s]         \n",
      "Image NA4471-02_AB.png:  37%|███▋      | 11/30 [00:00<00:00, 51.69it/s]\u001b[A\n",
      "Image NA4553-02_AB.png:  40%|████      | 12/30 [00:00<00:00, 51.69it/s]\u001b[A\n",
      "                                                              1.69it/s]\u001b[A\n",
      "Image NA3777-02_AB.png:   0%|          | 0/30 [03:04<?, ?it/s]         \n",
      "Image NA4553-02_AB.png:  40%|████      | 12/30 [00:00<00:00, 51.69it/s]\u001b[A\n",
      "Image NA4626-02_AB.png:  43%|████▎     | 13/30 [00:00<00:00, 51.69it/s]\u001b[A\n",
      "                                                              1.69it/s]\u001b[A\n",
      "Image NA3777-02_AB.png:   0%|          | 0/30 [03:04<?, ?it/s]         \n",
      "Image NA4626-02_AB.png:  43%|████▎     | 13/30 [00:00<00:00, 51.69it/s]\u001b[A\n",
      "Image NA4672-02_AB.png:  47%|████▋     | 14/30 [00:00<00:00, 51.69it/s]\u001b[A\n",
      "                                                              1.69it/s]\u001b[A\n",
      "Image NA3777-02_AB.png:   0%|          | 0/30 [03:04<?, ?it/s]         \n",
      "Image NA4672-02_AB.png:  47%|████▋     | 14/30 [00:00<00:00, 51.69it/s]\u001b[A\n",
      "Image NA4675-02_AB.png:  50%|█████     | 15/30 [00:00<00:00, 51.69it/s]\u001b[A\n",
      "                                                              1.69it/s]\u001b[A\n",
      "Image NA3777-02_AB.png:   0%|          | 0/30 [03:04<?, ?it/s]         \n",
      "Image NA4675-02_AB.png:  50%|█████     | 15/30 [00:00<00:00, 51.69it/s]\u001b[A\n",
      "Image NA4691-02_AB.png:  53%|█████▎    | 16/30 [00:00<00:00, 51.69it/s]\u001b[A\n",
      "                                                              1.69it/s]\u001b[A\n",
      "Image NA3777-02_AB.png:   0%|          | 0/30 [03:04<?, ?it/s]         \n",
      "Image NA4691-02_AB.png:  53%|█████▎    | 16/30 [00:00<00:00, 51.69it/s]\u001b[A\n",
      "Image NA4695-02_AB.png:  57%|█████▋    | 17/30 [00:00<00:00, 51.69it/s]\u001b[A\n",
      "                                                              1.69it/s]\u001b[A\n",
      "Image NA3777-02_AB.png:   0%|          | 0/30 [03:04<?, ?it/s]         \n",
      "Image NA4695-02_AB.png:  57%|█████▋    | 17/30 [00:00<00:00, 51.69it/s]\u001b[A\n",
      "Image NA4695-02_AB.png:  60%|██████    | 18/30 [00:00<00:00, 54.54it/s]\u001b[A\n",
      "Image NA4894-02_AB17-24.png:  60%|██████    | 18/30 [00:00<00:00, 54.54it/s]\u001b[A\n",
      "                                                              00, 54.54it/s]\u001b[A\n",
      "Image NA3777-02_AB.png:   0%|          | 0/30 [03:04<?, ?it/s]              \n",
      "Image NA4894-02_AB17-24.png:  60%|██████    | 18/30 [00:00<00:00, 54.54it/s]\u001b[A\n",
      "Image NA4907-02_AB17-24.png:  63%|██████▎   | 19/30 [00:00<00:00, 54.54it/s]\u001b[A\n",
      "                                                              00, 54.54it/s]\u001b[A\n",
      "Image NA3777-02_AB.png:   0%|          | 0/30 [03:04<?, ?it/s]              \n",
      "Image NA4907-02_AB17-24.png:  63%|██████▎   | 19/30 [00:00<00:00, 54.54it/s]\u001b[A\n",
      "Image NA4944-02_AB17-24.png:  67%|██████▋   | 20/30 [00:00<00:00, 54.54it/s]\u001b[A\n",
      "                                                              00, 54.54it/s]\u001b[A\n",
      "Image NA3777-02_AB.png:   0%|          | 0/30 [03:04<?, ?it/s]              \n",
      "Image NA4944-02_AB17-24.png:  67%|██████▋   | 20/30 [00:00<00:00, 54.54it/s]\u001b[A\n",
      "Image NA4945-02_AB17-24.png:  70%|███████   | 21/30 [00:00<00:00, 54.54it/s]\u001b[A\n",
      "                                                              00, 54.54it/s]\u001b[A\n",
      "Image NA3777-02_AB.png:   0%|          | 0/30 [03:04<?, ?it/s]              \n",
      "Image NA4945-02_AB17-24.png:  70%|███████   | 21/30 [00:00<00:00, 54.54it/s]\u001b[A\n",
      "Image NA4967-02_AB17-24.png:  73%|███████▎  | 22/30 [00:00<00:00, 54.54it/s]\u001b[A\n",
      "                                                              00, 54.54it/s]\u001b[A\n",
      "Image NA3777-02_AB.png:   0%|          | 0/30 [03:04<?, ?it/s]              \n",
      "Image NA4967-02_AB17-24.png:  73%|███████▎  | 22/30 [00:00<00:00, 54.54it/s]\u001b[A\n",
      "Image NA4971-02_AB17-24.png:  77%|███████▋  | 23/30 [00:00<00:00, 54.54it/s]\u001b[A\n",
      "                                                              00, 54.54it/s]\u001b[A\n",
      "Image NA3777-02_AB.png:   0%|          | 0/30 [03:04<?, ?it/s]              \n",
      "Image NA4971-02_AB17-24.png:  77%|███████▋  | 23/30 [00:00<00:00, 54.54it/s]\u001b[A\n",
      "Image NA4972-02_AB17-24.png:  80%|████████  | 24/30 [00:00<00:00, 54.54it/s]\u001b[A\n",
      "                                                              00, 54.54it/s]\u001b[A\n"
     ]
    },
    {
     "name": "stdout",
     "output_type": "stream",
     "text": [
      "             "
     ]
    },
    {
     "name": "stderr",
     "output_type": "stream",
     "text": [
      "Image NA3777-02_AB.png:   0%|          | 0/30 [03:04<?, ?it/s]              \n",
      "Image NA4972-02_AB17-24.png:  80%|████████  | 24/30 [00:00<00:00, 54.54it/s]\u001b[A\n",
      "Image NA4972-02_AB17-24.png:  83%|████████▎ | 25/30 [00:00<00:00, 57.59it/s]\u001b[A\n",
      "Image NA4992-02_AB17-24.png:  83%|████████▎ | 25/30 [00:00<00:00, 57.59it/s]\u001b[A\n",
      "                                                              00, 57.59it/s]\u001b[A\n",
      "Image NA3777-02_AB.png:   0%|          | 0/30 [03:04<?, ?it/s]              \n",
      "Image NA4992-02_AB17-24.png:  83%|████████▎ | 25/30 [00:00<00:00, 57.59it/s]\u001b[A\n",
      "Image NA4993-02_AB17-24.png:  87%|████████▋ | 26/30 [00:00<00:00, 57.59it/s]\u001b[A\n",
      "                                                              00, 57.59it/s]\u001b[A\n",
      "Image NA3777-02_AB.png:   0%|          | 0/30 [03:04<?, ?it/s]              \n",
      "Image NA4993-02_AB17-24.png:  87%|████████▋ | 26/30 [00:00<00:00, 57.59it/s]\u001b[A\n",
      "Image NA5010-02_AB17-24.png:  90%|█████████ | 27/30 [00:00<00:00, 57.59it/s]\u001b[A\n",
      "                                                              00, 57.59it/s]\u001b[A\n",
      "Image NA3777-02_AB.png:   0%|          | 0/30 [03:04<?, ?it/s]              \n",
      "Image NA5010-02_AB17-24.png:  90%|█████████ | 27/30 [00:00<00:00, 57.59it/s]\u001b[A\n",
      "Image NA5015-02_AB17-24.png:  93%|█████████▎| 28/30 [00:00<00:00, 57.59it/s]\u001b[A\n",
      "                                                              00, 57.59it/s]\u001b[A\n",
      "Image NA3777-02_AB.png:   0%|          | 0/30 [03:04<?, ?it/s]              \n",
      "Image NA5015-02_AB17-24.png:  93%|█████████▎| 28/30 [00:00<00:00, 57.59it/s]\u001b[A\n",
      "Image NA5029-02_AB17-24.png:  97%|█████████▋| 29/30 [00:00<00:00, 57.59it/s]\u001b[A\n",
      "                                                              00, 57.59it/s]\u001b[A\n",
      "Image NA3777-02_AB.png:   0%|          | 0/30 [03:04<?, ?it/s]              \n",
      "Image NA5029-02_AB17-24.png: 100%|██████████| 30/30 [00:00<00:00, 59.75it/s]\u001b[A"
     ]
    },
    {
     "name": "stdout",
     "output_type": "stream",
     "text": [
      "      "
     ]
    },
    {
     "name": "stderr",
     "output_type": "stream",
     "text": [
      "\n"
     ]
    }
   ],
   "source": [
    "t = tqdm(total=len(filenames))\n",
    "for filename in filenames:\n",
    "    t.set_description_str(\"Image \" + filename + \": \")\n",
    "    t.refresh()\n",
    "    t.write(\"\", end=' ')\n",
    "\n",
    "    # Load data\n",
    "    data = np.load(SAVE_DATA_DIR + filename.split('.')[-2] + '.npy')\n",
    "\n",
    "    # Create grey white arrays\n",
    "    grey_arr = np.zeros_like(data, dtype='bool')\n",
    "    white_arr = np.zeros_like(data, dtype='bool')\n",
    "\n",
    "    # Set white matter to 1 for white_arr\n",
    "    white_arr[data == 1] = True\n",
    "    # Set grey matter to 2 for grey_arr\n",
    "    grey_arr[data == 2] = True\n",
    "    \n",
    "\n",
    "    # Create save images\n",
    "    save_img_grey = img_frombytes(grey_arr)\n",
    "    save_img_white = img_frombytes(white_arr)\n",
    "\n",
    "    # Save the images\n",
    "    save_img_grey.save(SAVE_IMG_DIR + filename.split('.')[-2] + '-Grey.png')\n",
    "    save_img_white.save(SAVE_IMG_DIR + filename.split('.')[-2] + '-White.png')\n",
    "\n",
    "    t.update()\n",
    "t.close()"
   ]
  },
  {
   "cell_type": "code",
   "execution_count": 11,
   "metadata": {},
   "outputs": [
    {
     "name": "stderr",
     "output_type": "stream",
     "text": [
      "\n",
      "  0%|          | 0/30 [00:00<?, ?it/s]\u001b[A\n",
      "Image NA3777-02_AB.png:   0%|          | 0/30 [00:00<?, ?it/s]\u001b[A\n",
      "                                                              \u001b[A\n",
      "Image NA3777-02_AB.png:   0%|          | 0/30 [03:13<?, ?it/s]\n",
      "Image NA3777-02_AB.png:   0%|          | 0/30 [00:00<?, ?it/s]\u001b[A\n",
      "Image NA4077-02_AB.png:   3%|▎         | 1/30 [00:00<00:00, 62.22it/s]\u001b[A\n",
      "                                                              .38it/s]\u001b[A\n",
      "Image NA3777-02_AB.png:   0%|          | 0/30 [03:13<?, ?it/s]        \n",
      "Image NA4077-02_AB.png:   3%|▎         | 1/30 [00:00<00:00, 43.07it/s]\u001b[A\n",
      "Image NA4092-02_AB.png:   7%|▋         | 2/30 [00:00<00:00, 64.81it/s]\u001b[A\n",
      "                                                              .74it/s]\u001b[A\n",
      "Image NA3777-02_AB.png:   0%|          | 0/30 [03:13<?, ?it/s]        \n",
      "Image NA4092-02_AB.png:   7%|▋         | 2/30 [00:00<00:00, 51.71it/s]\u001b[A\n",
      "Image NA4107-02_AB.png:  10%|█         | 3/30 [00:00<00:00, 67.42it/s]\u001b[A\n",
      "                                                              .99it/s]\u001b[A\n",
      "Image NA3777-02_AB.png:   0%|          | 0/30 [03:13<?, ?it/s]        \n",
      "Image NA4107-02_AB.png:  10%|█         | 3/30 [00:00<00:00, 59.36it/s]\u001b[A\n",
      "Image NA4160-02_AB.png:  13%|█▎        | 4/30 [00:00<00:00, 70.05it/s]\u001b[A\n",
      "                                                              .24it/s]\u001b[A\n",
      "Image NA3777-02_AB.png:   0%|          | 0/30 [03:13<?, ?it/s]        \n",
      "Image NA4160-02_AB.png:  13%|█▎        | 4/30 [00:00<00:00, 62.87it/s]\u001b[A\n",
      "Image NA4195-02_AB.png:  17%|█▋        | 5/30 [00:00<00:00, 72.51it/s]\u001b[A\n",
      "                                                              .08it/s]\u001b[A\n",
      "Image NA3777-02_AB.png:   0%|          | 0/30 [03:13<?, ?it/s]        \n",
      "Image NA4195-02_AB.png:  17%|█▋        | 5/30 [00:00<00:00, 66.46it/s]\u001b[A\n",
      "Image NA4256-02_AB.png:  20%|██        | 6/30 [00:00<00:00, 74.48it/s]\u001b[A\n",
      "                                                              .25it/s]\u001b[A\n",
      "Image NA3777-02_AB.png:   0%|          | 0/30 [03:13<?, ?it/s]        \n",
      "Image NA4256-02_AB.png:  20%|██        | 6/30 [00:00<00:00, 69.43it/s]\u001b[A\n",
      "Image NA4299-02_AB.png:  23%|██▎       | 7/30 [00:00<00:00, 75.53it/s]\u001b[A\n",
      "                                                              .25it/s]\u001b[A\n",
      "Image NA3777-02_AB.png:   0%|          | 0/30 [03:13<?, ?it/s]        \n",
      "Image NA4299-02_AB.png:  23%|██▎       | 7/30 [00:00<00:00, 69.27it/s]\u001b[A\n",
      "Image NA4299-02_AB.png:  27%|██▋       | 8/30 [00:00<00:00, 75.54it/s]\u001b[A\n",
      "Image NA4391-02_AB.png:  27%|██▋       | 8/30 [00:00<00:00, 75.54it/s]\u001b[A\n",
      "                                                              .54it/s]\u001b[A\n",
      "Image NA3777-02_AB.png:   0%|          | 0/30 [03:13<?, ?it/s]        \n",
      "Image NA4391-02_AB.png:  27%|██▋       | 8/30 [00:00<00:00, 75.54it/s]\u001b[A\n",
      "Image NA4450-02_AB.png:  30%|███       | 9/30 [00:00<00:00, 75.54it/s]\u001b[A\n",
      "                                                              .54it/s]\u001b[A\n",
      "Image NA3777-02_AB.png:   0%|          | 0/30 [03:13<?, ?it/s]        \n",
      "Image NA4450-02_AB.png:  30%|███       | 9/30 [00:00<00:00, 75.54it/s]\u001b[A\n",
      "Image NA4463-02_AB.png:  33%|███▎      | 10/30 [00:00<00:00, 75.54it/s]\u001b[A\n",
      "                                                              5.54it/s]\u001b[A\n",
      "Image NA3777-02_AB.png:   0%|          | 0/30 [03:13<?, ?it/s]         \n",
      "Image NA4463-02_AB.png:  33%|███▎      | 10/30 [00:00<00:00, 75.54it/s]\u001b[A\n",
      "Image NA4471-02_AB.png:  37%|███▋      | 11/30 [00:00<00:00, 75.54it/s]\u001b[A\n",
      "                                                              5.54it/s]\u001b[A\n",
      "Image NA3777-02_AB.png:   0%|          | 0/30 [03:13<?, ?it/s]         \n",
      "Image NA4471-02_AB.png:  37%|███▋      | 11/30 [00:00<00:00, 75.54it/s]\u001b[A\n",
      "Image NA4553-02_AB.png:  40%|████      | 12/30 [00:00<00:00, 75.54it/s]\u001b[A\n",
      "                                                              5.54it/s]\u001b[A\n",
      "Image NA3777-02_AB.png:   0%|          | 0/30 [03:13<?, ?it/s]         \n",
      "Image NA4553-02_AB.png:  40%|████      | 12/30 [00:00<00:00, 75.54it/s]\u001b[A\n",
      "Image NA4626-02_AB.png:  43%|████▎     | 13/30 [00:00<00:00, 75.54it/s]\u001b[A\n",
      "                                                              5.54it/s]\u001b[A\n",
      "Image NA3777-02_AB.png:   0%|          | 0/30 [03:13<?, ?it/s]         \n",
      "Image NA4626-02_AB.png:  43%|████▎     | 13/30 [00:00<00:00, 75.54it/s]\u001b[A\n",
      "Image NA4672-02_AB.png:  47%|████▋     | 14/30 [00:00<00:00, 75.54it/s]\u001b[A\n",
      "                                                              5.54it/s]\u001b[A\n",
      "Image NA3777-02_AB.png:   0%|          | 0/30 [03:13<?, ?it/s]         \n",
      "Image NA4672-02_AB.png:  47%|████▋     | 14/30 [00:00<00:00, 75.54it/s]\u001b[A\n",
      "Image NA4675-02_AB.png:  50%|█████     | 15/30 [00:00<00:00, 75.54it/s]\u001b[A\n",
      "                                                              5.54it/s]\u001b[A\n",
      "Image NA3777-02_AB.png:   0%|          | 0/30 [03:13<?, ?it/s]         \n",
      "Image NA4675-02_AB.png:  50%|█████     | 15/30 [00:00<00:00, 75.54it/s]\u001b[A\n",
      "Image NA4675-02_AB.png:  53%|█████▎    | 16/30 [00:00<00:00, 76.57it/s]"
     ]
    },
    {
     "name": "stdout",
     "output_type": "stream",
     "text": [
      "                "
     ]
    },
    {
     "name": "stderr",
     "output_type": "stream",
     "text": [
      "\u001b[A\n",
      "Image NA4691-02_AB.png:  53%|█████▎    | 16/30 [00:00<00:00, 76.57it/s]\u001b[A\n",
      "                                                              6.57it/s]\u001b[A\n",
      "Image NA3777-02_AB.png:   0%|          | 0/30 [03:13<?, ?it/s]         \n",
      "Image NA4691-02_AB.png:  53%|█████▎    | 16/30 [00:00<00:00, 76.57it/s]\u001b[A\n",
      "Image NA4695-02_AB.png:  57%|█████▋    | 17/30 [00:00<00:00, 76.57it/s]\u001b[A\n",
      "                                                              6.57it/s]\u001b[A\n",
      "Image NA3777-02_AB.png:   0%|          | 0/30 [03:13<?, ?it/s]         \n",
      "Image NA4695-02_AB.png:  57%|█████▋    | 17/30 [00:00<00:00, 76.57it/s]\u001b[A\n",
      "Image NA4894-02_AB17-24.png:  60%|██████    | 18/30 [00:00<00:00, 76.57it/s]\u001b[A\n",
      "                                                              00, 76.57it/s]\u001b[A\n",
      "Image NA3777-02_AB.png:   0%|          | 0/30 [03:13<?, ?it/s]              \n",
      "Image NA4894-02_AB17-24.png:  60%|██████    | 18/30 [00:00<00:00, 76.57it/s]\u001b[A\n",
      "Image NA4907-02_AB17-24.png:  63%|██████▎   | 19/30 [00:00<00:00, 76.57it/s]\u001b[A\n",
      "                                                              00, 76.57it/s]\u001b[A\n",
      "Image NA3777-02_AB.png:   0%|          | 0/30 [03:13<?, ?it/s]              \n",
      "Image NA4907-02_AB17-24.png:  63%|██████▎   | 19/30 [00:00<00:00, 76.57it/s]\u001b[A\n",
      "Image NA4944-02_AB17-24.png:  67%|██████▋   | 20/30 [00:00<00:00, 76.57it/s]\u001b[A\n",
      "                                                              00, 76.57it/s]\u001b[A\n",
      "Image NA3777-02_AB.png:   0%|          | 0/30 [03:13<?, ?it/s]              \n",
      "Image NA4944-02_AB17-24.png:  67%|██████▋   | 20/30 [00:00<00:00, 76.57it/s]\u001b[A\n",
      "Image NA4945-02_AB17-24.png:  70%|███████   | 21/30 [00:00<00:00, 76.57it/s]\u001b[A\n",
      "                                                              00, 76.57it/s]\u001b[A\n",
      "Image NA3777-02_AB.png:   0%|          | 0/30 [03:13<?, ?it/s]              \n",
      "Image NA4945-02_AB17-24.png:  70%|███████   | 21/30 [00:00<00:00, 76.57it/s]\u001b[A\n",
      "Image NA4967-02_AB17-24.png:  73%|███████▎  | 22/30 [00:00<00:00, 76.57it/s]\u001b[A\n",
      "                                                              00, 76.57it/s]\u001b[A\n",
      "Image NA3777-02_AB.png:   0%|          | 0/30 [03:13<?, ?it/s]              \n",
      "Image NA4967-02_AB17-24.png:  73%|███████▎  | 22/30 [00:00<00:00, 76.57it/s]\u001b[A\n",
      "Image NA4971-02_AB17-24.png:  77%|███████▋  | 23/30 [00:00<00:00, 76.57it/s]\u001b[A\n",
      "                                                              00, 76.57it/s]\u001b[A\n",
      "Image NA3777-02_AB.png:   0%|          | 0/30 [03:13<?, ?it/s]              \n",
      "Image NA4971-02_AB17-24.png:  77%|███████▋  | 23/30 [00:00<00:00, 76.57it/s]\u001b[A\n",
      "Image NA4971-02_AB17-24.png:  80%|████████  | 24/30 [00:00<00:00, 77.34it/s]\u001b[A\n",
      "Image NA4972-02_AB17-24.png:  80%|████████  | 24/30 [00:00<00:00, 77.34it/s]\u001b[A\n",
      "                                                              00, 77.34it/s]\u001b[A\n",
      "Image NA3777-02_AB.png:   0%|          | 0/30 [03:13<?, ?it/s]              \n",
      "Image NA4972-02_AB17-24.png:  80%|████████  | 24/30 [00:00<00:00, 77.34it/s]\u001b[A\n",
      "Image NA4992-02_AB17-24.png:  83%|████████▎ | 25/30 [00:00<00:00, 77.34it/s]\u001b[A\n",
      "                                                              00, 77.34it/s]\u001b[A\n",
      "Image NA3777-02_AB.png:   0%|          | 0/30 [03:13<?, ?it/s]              \n",
      "Image NA4992-02_AB17-24.png:  83%|████████▎ | 25/30 [00:00<00:00, 77.34it/s]\u001b[A\n",
      "Image NA4993-02_AB17-24.png:  87%|████████▋ | 26/30 [00:00<00:00, 77.34it/s]\u001b[A\n",
      "                                                              00, 77.34it/s]\u001b[A\n",
      "Image NA3777-02_AB.png:   0%|          | 0/30 [03:13<?, ?it/s]              \n",
      "Image NA4993-02_AB17-24.png:  87%|████████▋ | 26/30 [00:00<00:00, 77.34it/s]\u001b[A\n",
      "Image NA5010-02_AB17-24.png:  90%|█████████ | 27/30 [00:00<00:00, 77.34it/s]\u001b[A\n",
      "                                                              00, 77.34it/s]\u001b[A\n",
      "Image NA3777-02_AB.png:   0%|          | 0/30 [03:13<?, ?it/s]              \n",
      "Image NA5010-02_AB17-24.png:  90%|█████████ | 27/30 [00:00<00:00, 77.34it/s]\u001b[A\n",
      "Image NA5015-02_AB17-24.png:  93%|█████████▎| 28/30 [00:00<00:00, 77.34it/s]\u001b[A\n",
      "                                                              00, 77.34it/s]\u001b[A\n",
      "Image NA3777-02_AB.png:   0%|          | 0/30 [03:13<?, ?it/s]              \n",
      "Image NA5015-02_AB17-24.png:  93%|█████████▎| 28/30 [00:00<00:00, 77.34it/s]\u001b[A\n",
      "Image NA5029-02_AB17-24.png:  97%|█████████▋| 29/30 [00:00<00:00, 77.34it/s]\u001b[A\n",
      "                                                              00, 77.34it/s]\u001b[A\n",
      "Image NA3777-02_AB.png:   0%|          | 0/30 [03:13<?, ?it/s]              \n",
      "Image NA5029-02_AB17-24.png: 100%|██████████| 30/30 [00:00<00:00, 82.80it/s]\u001b[A"
     ]
    },
    {
     "name": "stdout",
     "output_type": "stream",
     "text": [
      "              "
     ]
    },
    {
     "name": "stderr",
     "output_type": "stream",
     "text": [
      "\n"
     ]
    }
   ],
   "source": [
    "t = tqdm(total=len(filenames))\n",
    "for filename in filenames:\n",
    "    t.set_description_str(\"Image \" + filename + \": \")\n",
    "    t.refresh()\n",
    "    t.write(\"\", end=' ')\n",
    "\n",
    "    # Load data\n",
    "    data = np.load(SAVE_DATA_DIR + filename.split('.')[-2] + '.npy')\n",
    "\n",
    "    # Create background array\n",
    "    back_arr = np.zeros_like(data, dtype='bool')\n",
    "\n",
    "    # Set background to 1 for back_arr\n",
    "    back_arr[data == 0] = True\n",
    "\n",
    "    # Create save image\n",
    "    save_img_back = img_frombytes(back_arr)\n",
    "\n",
    "    # Save the image\n",
    "    save_img_back.save(SAVE_IMG_DIR + filename.split('.')[-2] + '-Background.png')\n",
    "\n",
    "    t.update()\n",
    "t.close()"
   ]
  },
  {
   "cell_type": "markdown",
   "metadata": {},
   "source": [
    "__Measure__"
   ]
  },
  {
   "cell_type": "code",
   "execution_count": 24,
   "metadata": {},
   "outputs": [],
   "source": [
    "import os\n",
    "import glob\n",
    "import numpy as np\n",
    "import pyvips\n",
    "from tqdm import tqdm\n",
    "import re\n",
    "from PIL import Image\n",
    "Image.MAX_IMAGE_PIXELS = None"
   ]
  },
  {
   "cell_type": "code",
   "execution_count": 25,
   "metadata": {},
   "outputs": [],
   "source": [
    "TRUTH_DIR = '/BrainSeg/ground_truth_masks/'\n",
    "TEST_DIR = '/BrainSeg/Classify_Results/CRF_0914/GMBMasks/'\n",
    "SAVE_FILENAME = 'CRF_July_AccuracyResults.csv' # Under TEST_DIR"
   ]
  },
  {
   "cell_type": "code",
   "execution_count": 15,
   "metadata": {},
   "outputs": [],
   "source": [
    "!rm /BrainSeg/ground_truth_masks/.ipynb_checkpoints -rf"
   ]
  },
  {
   "cell_type": "code",
   "execution_count": 21,
   "metadata": {},
   "outputs": [
    {
     "name": "stdout",
     "output_type": "stream",
     "text": [
      "[[53784 47177]\n",
      " [73704 46200]\n",
      " [65736 45178]\n",
      " [67728 36459]\n",
      " [59760 41787]\n",
      " [55776 39849]\n",
      " [61752 46410]\n",
      " [57768 43740]\n",
      " [49800 47520]\n",
      " [57768 47481]\n",
      " [53784 45142]\n",
      " [71712 47426]\n",
      " [67728 47200]\n",
      " [47808 41668]\n",
      " [49800 36131]\n",
      " [53784 45548]\n",
      " [53784 41073]\n",
      " [55776 41634]\n",
      " [59760 44874]\n",
      " [55776 44644]\n",
      " [47808 36870]\n",
      " [49800 43128]\n",
      " [47808 35729]\n",
      " [61752 38443]\n",
      " [47808 39068]\n",
      " [37848 37641]\n",
      " [39840 41543]\n",
      " [75695 77386]\n",
      " [55776 40419]\n",
      " [53784 43598]]\n",
      "(30, 2)\n"
     ]
    }
   ],
   "source": [
    "truth_images = sorted(os.listdir(TRUTH_DIR))\n",
    "IMAGEDIMNORM = np.zeros((30,2), np.int)\n",
    "for i in range(0, len(truth_images), 3):\n",
    "    img = pyvips.Image.new_from_file(TRUTH_DIR + truth_images[i])\n",
    "    width = img.width\n",
    "    height = img.height\n",
    "    IMAGEDIMNORM[i//3,0] = width\n",
    "    IMAGEDIMNORM[i//3,1] = height\n",
    "print(IMAGEDIMNORM)\n",
    "downscale = 128\n",
    "print(IMAGEDIMNORM.shape)"
   ]
  },
  {
   "cell_type": "code",
   "execution_count": 22,
   "metadata": {},
   "outputs": [
    {
     "name": "stdout",
     "output_type": "stream",
     "text": [
      "30\n"
     ]
    }
   ],
   "source": [
    "image_names = glob.glob(TRUTH_DIR + \"*Grey.png\")\n",
    "image_names = [imagename.split('/')[-1] for imagename in image_names]\n",
    "image_names = [imagename.split('-Grey')[0] for imagename in image_names]\n",
    "image_names = sorted(image_names)\n",
    "print(len(image_names))"
   ]
  },
  {
   "cell_type": "code",
   "execution_count": 10,
   "metadata": {},
   "outputs": [
    {
     "name": "stderr",
     "output_type": "stream",
     "text": [
      "Image NA3777-02_AB, Test ((368, 420)), Ground Truth ((368, 420)):   0%|          | 0/30 [00:03<?, ?it/s]"
     ]
    },
    {
     "name": "stdout",
     "output_type": "stream",
     "text": [
      " "
     ]
    },
    {
     "name": "stderr",
     "output_type": "stream",
     "text": [
      "Image NA4077-02_AB, Test ((360, 575)), Ground Truth ((360, 575)):   3%|▎         | 1/30 [00:10<03:03,  6.32s/it]"
     ]
    },
    {
     "name": "stdout",
     "output_type": "stream",
     "text": [
      " "
     ]
    },
    {
     "name": "stderr",
     "output_type": "stream",
     "text": [
      "Image NA4092-02_AB, Test ((352, 513)), Ground Truth ((352, 513)):   7%|▋         | 2/30 [00:18<03:13,  6.93s/it]"
     ]
    },
    {
     "name": "stdout",
     "output_type": "stream",
     "text": [
      " "
     ]
    },
    {
     "name": "stderr",
     "output_type": "stream",
     "text": [
      "Image NA4107-02_AB, Test ((284, 529)), Ground Truth ((284, 529)):  10%|█         | 3/30 [00:25<03:09,  7.04s/it]"
     ]
    },
    {
     "name": "stdout",
     "output_type": "stream",
     "text": [
      " "
     ]
    },
    {
     "name": "stderr",
     "output_type": "stream",
     "text": [
      "Image NA4160-02_AB, Test ((326, 466)), Ground Truth ((326, 466)):  13%|█▎        | 4/30 [00:31<02:55,  6.75s/it]"
     ]
    },
    {
     "name": "stdout",
     "output_type": "stream",
     "text": [
      " "
     ]
    },
    {
     "name": "stderr",
     "output_type": "stream",
     "text": [
      "Image NA4195-02_AB, Test ((311, 435)), Ground Truth ((311, 435)):  17%|█▋        | 5/30 [00:36<02:44,  6.57s/it]"
     ]
    },
    {
     "name": "stdout",
     "output_type": "stream",
     "text": [
      " "
     ]
    },
    {
     "name": "stderr",
     "output_type": "stream",
     "text": [
      "Image NA4256-02_AB, Test ((362, 482)), Ground Truth ((362, 482)):  20%|██        | 6/30 [00:43<02:29,  6.24s/it]"
     ]
    },
    {
     "name": "stdout",
     "output_type": "stream",
     "text": [
      " "
     ]
    },
    {
     "name": "stderr",
     "output_type": "stream",
     "text": [
      "Image NA4299-02_AB, Test ((341, 451)), Ground Truth ((341, 451)):  23%|██▎       | 7/30 [00:49<02:28,  6.48s/it]"
     ]
    },
    {
     "name": "stdout",
     "output_type": "stream",
     "text": [
      " "
     ]
    },
    {
     "name": "stderr",
     "output_type": "stream",
     "text": [
      "Image NA4391-02_AB, Test ((371, 389)), Ground Truth ((371, 389)):  27%|██▋       | 8/30 [00:55<02:20,  6.40s/it]"
     ]
    },
    {
     "name": "stdout",
     "output_type": "stream",
     "text": [
      " "
     ]
    },
    {
     "name": "stderr",
     "output_type": "stream",
     "text": [
      "Image NA4450-02_AB, Test ((370, 451)), Ground Truth ((370, 451)):  30%|███       | 9/30 [01:02<02:10,  6.23s/it]"
     ]
    },
    {
     "name": "stdout",
     "output_type": "stream",
     "text": [
      " "
     ]
    },
    {
     "name": "stderr",
     "output_type": "stream",
     "text": [
      "Image NA4463-02_AB, Test ((352, 420)), Ground Truth ((352, 420)):  33%|███▎      | 10/30 [01:08<02:07,  6.38s/it]"
     ]
    },
    {
     "name": "stdout",
     "output_type": "stream",
     "text": [
      " "
     ]
    },
    {
     "name": "stderr",
     "output_type": "stream",
     "text": [
      "Image NA4471-02_AB, Test ((370, 560)), Ground Truth ((370, 560)):  37%|███▋      | 11/30 [01:15<01:59,  6.27s/it]"
     ]
    },
    {
     "name": "stdout",
     "output_type": "stream",
     "text": [
      " "
     ]
    },
    {
     "name": "stderr",
     "output_type": "stream",
     "text": [
      "Image NA4553-02_AB, Test ((368, 529)), Ground Truth ((368, 529)):  40%|████      | 12/30 [01:23<02:03,  6.86s/it]"
     ]
    },
    {
     "name": "stdout",
     "output_type": "stream",
     "text": [
      " "
     ]
    },
    {
     "name": "stderr",
     "output_type": "stream",
     "text": [
      "Image NA4626-02_AB, Test ((325, 373)), Ground Truth ((325, 373)):  43%|████▎     | 13/30 [01:29<02:01,  7.14s/it]"
     ]
    },
    {
     "name": "stdout",
     "output_type": "stream",
     "text": [
      " "
     ]
    },
    {
     "name": "stderr",
     "output_type": "stream",
     "text": [
      "Image NA4672-02_AB, Test ((282, 389)), Ground Truth ((282, 389)):  47%|████▋     | 14/30 [01:34<01:43,  6.48s/it]"
     ]
    },
    {
     "name": "stdout",
     "output_type": "stream",
     "text": [
      " "
     ]
    },
    {
     "name": "stderr",
     "output_type": "stream",
     "text": [
      "Image NA4675-02_AB, Test ((355, 420)), Ground Truth ((355, 420)):  50%|█████     | 15/30 [01:39<01:27,  5.86s/it]"
     ]
    },
    {
     "name": "stdout",
     "output_type": "stream",
     "text": [
      " "
     ]
    },
    {
     "name": "stderr",
     "output_type": "stream",
     "text": [
      "Image NA4691-02_AB, Test ((320, 420)), Ground Truth ((320, 420)):  53%|█████▎    | 16/30 [01:45<01:22,  5.91s/it]"
     ]
    },
    {
     "name": "stdout",
     "output_type": "stream",
     "text": [
      " "
     ]
    },
    {
     "name": "stderr",
     "output_type": "stream",
     "text": [
      "Image NA4695-02_AB, Test ((325, 435)), Ground Truth ((325, 435)):  57%|█████▋    | 17/30 [01:51<01:15,  5.80s/it]"
     ]
    },
    {
     "name": "stdout",
     "output_type": "stream",
     "text": [
      " "
     ]
    },
    {
     "name": "stderr",
     "output_type": "stream",
     "text": [
      "Image NA4894-02_AB17-24, Test ((350, 466)), Ground Truth ((350, 466)):  60%|██████    | 18/30 [01:57<01:09,  5.78s/it]"
     ]
    },
    {
     "name": "stdout",
     "output_type": "stream",
     "text": [
      " "
     ]
    },
    {
     "name": "stderr",
     "output_type": "stream",
     "text": [
      "Image NA4907-02_AB17-24, Test ((348, 435)), Ground Truth ((348, 435)):  63%|██████▎   | 19/30 [02:03<01:06,  6.03s/it]"
     ]
    },
    {
     "name": "stdout",
     "output_type": "stream",
     "text": [
      " "
     ]
    },
    {
     "name": "stderr",
     "output_type": "stream",
     "text": [
      "Image NA4944-02_AB17-24, Test ((288, 373)), Ground Truth ((288, 373)):  67%|██████▋   | 20/30 [02:09<01:00,  6.06s/it]"
     ]
    },
    {
     "name": "stdout",
     "output_type": "stream",
     "text": [
      " "
     ]
    },
    {
     "name": "stderr",
     "output_type": "stream",
     "text": [
      "Image NA4945-02_AB17-24, Test ((336, 389)), Ground Truth ((336, 389)):  70%|███████   | 21/30 [02:13<00:49,  5.53s/it]"
     ]
    },
    {
     "name": "stdout",
     "output_type": "stream",
     "text": [
      " "
     ]
    },
    {
     "name": "stderr",
     "output_type": "stream",
     "text": [
      "Image NA4967-02_AB17-24, Test ((279, 373)), Ground Truth ((279, 373)):  73%|███████▎  | 22/30 [02:18<00:43,  5.46s/it]"
     ]
    },
    {
     "name": "stdout",
     "output_type": "stream",
     "text": [
      " "
     ]
    },
    {
     "name": "stderr",
     "output_type": "stream",
     "text": [
      "Image NA4971-02_AB17-24, Test ((300, 482)), Ground Truth ((300, 482)):  77%|███████▋  | 23/30 [02:23<00:35,  5.08s/it]"
     ]
    },
    {
     "name": "stdout",
     "output_type": "stream",
     "text": [
      " "
     ]
    },
    {
     "name": "stderr",
     "output_type": "stream",
     "text": [
      "Image NA4972-02_AB17-24, Test ((305, 373)), Ground Truth ((305, 373)):  80%|████████  | 24/30 [02:28<00:31,  5.31s/it]"
     ]
    },
    {
     "name": "stdout",
     "output_type": "stream",
     "text": [
      " "
     ]
    },
    {
     "name": "stderr",
     "output_type": "stream",
     "text": [
      "Image NA4992-02_AB17-24, Test ((294, 295)), Ground Truth ((294, 295)):  83%|████████▎ | 25/30 [02:32<00:25,  5.08s/it]"
     ]
    },
    {
     "name": "stdout",
     "output_type": "stream",
     "text": [
      " "
     ]
    },
    {
     "name": "stderr",
     "output_type": "stream",
     "text": [
      "Image NA4993-02_AB17-24, Test ((324, 311)), Ground Truth ((324, 311)):  87%|████████▋ | 26/30 [02:36<00:18,  4.61s/it]"
     ]
    },
    {
     "name": "stdout",
     "output_type": "stream",
     "text": [
      " "
     ]
    },
    {
     "name": "stderr",
     "output_type": "stream",
     "text": [
      "Image NA5010-02_AB17-24, Test ((604, 591)), Ground Truth ((604, 591)):  90%|█████████ | 27/30 [02:45<00:13,  4.45s/it]"
     ]
    },
    {
     "name": "stdout",
     "output_type": "stream",
     "text": [
      " "
     ]
    },
    {
     "name": "stderr",
     "output_type": "stream",
     "text": [
      "Image NA5015-02_AB17-24, Test ((315, 435)), Ground Truth ((315, 435)):  93%|█████████▎| 28/30 [02:55<00:14,  7.39s/it]"
     ]
    },
    {
     "name": "stdout",
     "output_type": "stream",
     "text": [
      " "
     ]
    },
    {
     "name": "stderr",
     "output_type": "stream",
     "text": [
      "Image NA5029-02_AB17-24, Test ((340, 420)), Ground Truth ((340, 420)):  97%|█████████▋| 29/30 [03:01<00:06,  6.86s/it]"
     ]
    },
    {
     "name": "stdout",
     "output_type": "stream",
     "text": [
      " "
     ]
    },
    {
     "name": "stderr",
     "output_type": "stream",
     "text": [
      "Image NA5029-02_AB17-24, Test ((340, 420)), Ground Truth ((340, 420)): 100%|██████████| 30/30 [03:04<00:00,  6.15s/it]"
     ]
    },
    {
     "name": "stdout",
     "output_type": "stream",
     "text": [
      "Done!\n"
     ]
    },
    {
     "name": "stderr",
     "output_type": "stream",
     "text": [
      "\n"
     ]
    }
   ],
   "source": [
    "results = np.zeros((len(image_names), 8), dtype='int')\n",
    "\n",
    "t = tqdm(total=len(image_names))\n",
    "for i, imagename in enumerate(image_names):\n",
    "    # Filename for testing and ground truth images\n",
    "    test_grey_img_name = imagename + \"-Grey.png\"\n",
    "    test_white_img_name = imagename + \"-White.png\"\n",
    "    truth_grey_img_name = imagename + \"-Grey.png\"\n",
    "    truth_white_img_name = imagename + \"-White.png\"\n",
    "\n",
    "    ##### Testing Grey Matter Mask #####\n",
    "    # Load images\n",
    "    test_img = np.array(Image.open(TEST_DIR + test_grey_img_name))\n",
    "    truth_img = Image.open(TRUTH_DIR + truth_grey_img_name)\n",
    "    (width, height) = (IMAGEDIMNORM[i, 0] // downscale, IMAGEDIMNORM[i, 1] // downscale)\n",
    "    truth_img = truth_img.resize((width, height), Image.BILINEAR)\n",
    "    truth_img = np.array(truth_img)\n",
    "\n",
    "    # Check dimensions\n",
    "    if not (test_img.shape[0] == IMAGEDIMNORM[i, 1]//downscale and test_img.shape[1] == IMAGEDIMNORM[i, 0]//downscale):\n",
    "        print('\\t' + imagename + ' grey dimension WRONG!!!')\n",
    "\n",
    "    # Update tqdm descriptions\n",
    "    t.set_description_str(\"Image {}, Test ({}), Ground Truth ({})\".format(\n",
    "      imagename, str(test_img.shape), str(truth_img.shape)) )\n",
    "    t.refresh()\n",
    "    t.write(\"\", end=' ')\n",
    "\n",
    "    # Clip test_img to 1\n",
    "    test_img[test_img>=1] = 1\n",
    "\n",
    "    # Calculate true and false segmentations\n",
    "    width = truth_img.shape[1]\n",
    "    height = truth_img.shape[0]\n",
    "    grey_TP = np.multiply(test_img, truth_img).sum()\n",
    "    grey_FP = np.multiply(test_img, np.logical_not(truth_img)).sum()\n",
    "    grey_FN = np.multiply(np.logical_not(test_img), truth_img).sum()\n",
    "    grey_TN = np.multiply(np.logical_not(test_img), np.logical_not(truth_img)).sum()\n",
    "\n",
    "    # Check results\n",
    "    grey_total = width*height\n",
    "    if not (grey_total == grey_TP+grey_FP+grey_FN+grey_TN):\n",
    "        print('\\t' + imagename + ' grey matter results WRONG!!!')\n",
    "\n",
    "    ##### Testing White Matter Mask #####\n",
    "    # Load images\n",
    "    test_img = np.array(Image.open(TEST_DIR + test_white_img_name))\n",
    "    truth_img = Image.open(TRUTH_DIR + truth_white_img_name)\n",
    "    (width, height) = (IMAGEDIMNORM[i, 0] // downscale, IMAGEDIMNORM[i, 1] // downscale)\n",
    "    truth_img = truth_img.resize((width, height), Image.BILINEAR)\n",
    "    truth_img = np.array(truth_img)\n",
    "\n",
    "    # Check dimensions\n",
    "    if not (test_img.shape[0] == IMAGEDIMNORM[i, 1]//downscale and test_img.shape[1] == IMAGEDIMNORM[i, 0]//downscale):\n",
    "        print('\\t' + imagename + ' white dimension WRONG!!!')\n",
    "\n",
    "    # Clip test_img to 1\n",
    "    test_img[test_img>=1] = 1\n",
    "\n",
    "    # Calculate true and false segmentations\n",
    "    width = truth_img.shape[1]\n",
    "    height = truth_img.shape[0]\n",
    "    white_TP = np.multiply(test_img, truth_img).sum()\n",
    "    white_FP = np.multiply(test_img, np.logical_not(truth_img)).sum()\n",
    "    white_FN = np.multiply(np.logical_not(test_img), truth_img).sum()\n",
    "    white_TN = np.multiply(np.logical_not(test_img), np.logical_not(truth_img)).sum()\n",
    "\n",
    "    # Check results\n",
    "    white_total = width*height\n",
    "    if not (white_total == white_TN+white_FP+white_FN+white_TP):\n",
    "        print('\\t' + imagename + ' white matter results WRONG!!!')\n",
    "\n",
    "    # Save results: grey_TN, grey_FP, grey_FN, grey_TP, white_TN, white_FP, white_FN, white_TP\n",
    "    results[i, :] = [grey_TN, grey_FP, grey_FN, grey_TP, white_TN, white_FP, white_FN, white_TP]\n",
    "\n",
    "    t.update()\n",
    "t.close()\n",
    "\n",
    "# Generate results file\n",
    "with open(TEST_DIR + SAVE_FILENAME, \"w\") as f:\n",
    "    f.write('Image Name,Grey_TN (px),Grey_FP (px),Grey_FN (px),Grey_TP (px),' +\n",
    "          'White_TN (px),White_FP (px),White_FN (px),White_TP (px),' + \n",
    "          'G_Accuracy (%),G_Misclassification Rate (%),G_Sensitivity (%),' +\n",
    "          'G_Specificity (%),G_Precision (%),G_Prevalence (%),' + \n",
    "          'W_Accuracy (%),W_Misclassification Rate (%),W_Sensitivity (%),' +\n",
    "          'W_Specificity (%),W_Precision (%),W_Prevalence (%)\\n') \n",
    "    accu_result = np.zeros((len(image_names), 12))\n",
    "    for i, imagename in enumerate(image_names):\n",
    "        total = results[i, 0]+results[i, 1]+results[i, 2]+results[i, 3]\n",
    "        accu_result[i, 0]  = (results[i, 0]+results[i, 3])/total*100\n",
    "        accu_result[i, 1]  = (results[i, 1]+results[i, 2])/total*100\n",
    "        accu_result[i, 2]  = (results[i, 3]/(results[i, 2]+results[i, 3]))*100\n",
    "        accu_result[i, 3]  = (results[i, 0]/(results[i, 0]+results[i, 1]))*100\n",
    "        accu_result[i, 4]  = (results[i, 3]/(results[i, 1]+results[i, 3]))*100\n",
    "        accu_result[i, 5]  = (results[i, 2]+results[i, 3])/total*100\n",
    "        total = results[i, 4]+results[i, 5]+results[i, 6]+results[i, 7]\n",
    "        accu_result[i, 6]  = (results[i, 4]+results[i, 7])/total*100\n",
    "        accu_result[i, 7]  = (results[i, 5]+results[i, 6])/total*100\n",
    "        accu_result[i, 8]  = (results[i, 7]/(results[i, 6]+results[i, 7]))*100\n",
    "        accu_result[i, 9]  = (results[i, 4]/(results[i, 4]+results[i, 5]))*100\n",
    "        accu_result[i, 10] = (results[i, 7]/(results[i, 5]+results[i, 7]))*100\n",
    "        accu_result[i, 11] = (results[i, 6]+results[i, 7])/total*100\n",
    "        f.write('%s,%d,%d,%d,%d,%d,%d,%d,%d,%.2f,%.2f,%.2f,%.2f,%.2f,%.2f,%.2f,%.2f,%.2f,%.2f,%.2f,%.2f\\n' % \n",
    "            (imagename, results[i, 0], results[i, 1], results[i, 2], results[i, 3], \n",
    "                results[i, 4], results[i, 5], results[i, 6], results[i, 7], \n",
    "                accu_result[i, 0], accu_result[i, 1], accu_result[i, 2], \n",
    "                accu_result[i, 3], accu_result[i, 4], accu_result[i, 5], \n",
    "                accu_result[i, 6], accu_result[i, 7], accu_result[i, 8], \n",
    "                accu_result[i, 9], accu_result[i, 10], accu_result[i, 11]))\n",
    "    f.write('-' * 230 + '\\n')\n",
    "    f.write('Average,%d,%d,%d,%d,%d,%d,%d,%d,%.2f,%.2f,%.2f,%.2f,%.2f,%.2f,%.2f,%.2f,%.2f,%.2f,%.2f,%.2f\\n' % \n",
    "          (np.mean(results[:, 0]), np.mean(results[:, 1]), np.mean(results[:, 2]), np.mean(results[:, 3]), \n",
    "              np.mean(results[:, 4]), np.mean(results[:, 5]), np.mean(results[:, 6]), np.mean(results[:, 7]), \n",
    "              np.mean(accu_result[:, 0]), np.mean(accu_result[:, 1]), np.mean(accu_result[:, 2]), \n",
    "              np.mean(accu_result[:, 3]), np.mean(accu_result[:, 4]), np.mean(accu_result[:, 5]), \n",
    "              np.mean(accu_result[:, 6]), np.mean(accu_result[:, 7]), np.mean(accu_result[:, 8]), \n",
    "              np.mean(accu_result[:, 9]), np.mean(accu_result[:, 10]), np.mean(accu_result[:, 11])))\n",
    "\n",
    "print('Done!')"
   ]
  },
  {
   "cell_type": "code",
   "execution_count": 11,
   "metadata": {},
   "outputs": [
    {
     "name": "stderr",
     "output_type": "stream",
     "text": [
      "Image NA3777-02_AB, Test ((47177, 53784)), Ground Truth ((47177, 53784)):   0%|          | 0/30 [00:08<?, ?it/s]"
     ]
    },
    {
     "name": "stdout",
     "output_type": "stream",
     "text": [
      " "
     ]
    },
    {
     "name": "stderr",
     "output_type": "stream",
     "text": [
      "Image NA4077-02_AB, Test ((46200, 73704)), Ground Truth ((46200, 73704)):   3%|▎         | 1/30 [01:05<26:46, 55.39s/it]"
     ]
    },
    {
     "name": "stdout",
     "output_type": "stream",
     "text": [
      " "
     ]
    },
    {
     "name": "stderr",
     "output_type": "stream",
     "text": [
      "Image NA4092-02_AB, Test ((45178, 65736)), Ground Truth ((45178, 65736)):   7%|▋         | 2/30 [02:14<27:58, 59.93s/it]"
     ]
    },
    {
     "name": "stdout",
     "output_type": "stream",
     "text": [
      " "
     ]
    },
    {
     "name": "stderr",
     "output_type": "stream",
     "text": [
      "Image NA4107-02_AB, Test ((36459, 67728)), Ground Truth ((36459, 67728)):  10%|█         | 3/30 [03:14<27:04, 60.15s/it]"
     ]
    },
    {
     "name": "stdout",
     "output_type": "stream",
     "text": [
      " "
     ]
    },
    {
     "name": "stderr",
     "output_type": "stream",
     "text": [
      "Image NA4160-02_AB, Test ((41787, 59760)), Ground Truth ((41787, 59760)):  13%|█▎        | 4/30 [04:05<24:56, 57.56s/it]"
     ]
    },
    {
     "name": "stdout",
     "output_type": "stream",
     "text": [
      " "
     ]
    },
    {
     "name": "stderr",
     "output_type": "stream",
     "text": [
      "Image NA4195-02_AB, Test ((39849, 55776)), Ground Truth ((39849, 55776)):  17%|█▋        | 5/30 [04:56<23:17, 55.90s/it]"
     ]
    },
    {
     "name": "stdout",
     "output_type": "stream",
     "text": [
      " "
     ]
    },
    {
     "name": "stderr",
     "output_type": "stream",
     "text": [
      "Image NA4256-02_AB, Test ((46410, 61752)), Ground Truth ((46410, 61752)):  20%|██        | 6/30 [05:45<21:15, 53.14s/it]"
     ]
    },
    {
     "name": "stdout",
     "output_type": "stream",
     "text": [
      " "
     ]
    },
    {
     "name": "stderr",
     "output_type": "stream",
     "text": [
      "Image NA4299-02_AB, Test ((43740, 57768)), Ground Truth ((43740, 57768)):  23%|██▎       | 7/30 [06:43<20:59, 54.76s/it]"
     ]
    },
    {
     "name": "stdout",
     "output_type": "stream",
     "text": [
      " "
     ]
    },
    {
     "name": "stderr",
     "output_type": "stream",
     "text": [
      "Image NA4391-02_AB, Test ((47520, 49800)), Ground Truth ((47520, 49800)):  27%|██▋       | 8/30 [07:35<19:50, 54.10s/it]"
     ]
    },
    {
     "name": "stdout",
     "output_type": "stream",
     "text": [
      " "
     ]
    },
    {
     "name": "stderr",
     "output_type": "stream",
     "text": [
      "Image NA4450-02_AB, Test ((47481, 57768)), Ground Truth ((47481, 57768)):  30%|███       | 9/30 [08:25<18:27, 52.71s/it]"
     ]
    },
    {
     "name": "stdout",
     "output_type": "stream",
     "text": [
      " "
     ]
    },
    {
     "name": "stderr",
     "output_type": "stream",
     "text": [
      "Image NA4463-02_AB, Test ((45142, 53784)), Ground Truth ((45142, 53784)):  33%|███▎      | 10/30 [09:20<17:53, 53.67s/it]"
     ]
    },
    {
     "name": "stdout",
     "output_type": "stream",
     "text": [
      " "
     ]
    },
    {
     "name": "stderr",
     "output_type": "stream",
     "text": [
      "Image NA4471-02_AB, Test ((47426, 71712)), Ground Truth ((47426, 71712)):  37%|███▋      | 11/30 [10:14<16:44, 52.88s/it]"
     ]
    },
    {
     "name": "stdout",
     "output_type": "stream",
     "text": [
      " "
     ]
    },
    {
     "name": "stderr",
     "output_type": "stream",
     "text": [
      "Image NA4553-02_AB, Test ((47200, 67728)), Ground Truth ((47200, 67728)):  40%|████      | 12/30 [11:25<17:29, 58.30s/it]"
     ]
    },
    {
     "name": "stdout",
     "output_type": "stream",
     "text": [
      " "
     ]
    },
    {
     "name": "stderr",
     "output_type": "stream",
     "text": [
      "Image NA4626-02_AB, Test ((41668, 47808)), Ground Truth ((41668, 47808)):  43%|████▎     | 13/30 [12:28<17:14, 60.85s/it]"
     ]
    },
    {
     "name": "stdout",
     "output_type": "stream",
     "text": [
      " "
     ]
    },
    {
     "name": "stderr",
     "output_type": "stream",
     "text": [
      "Image NA4672-02_AB, Test ((36131, 49800)), Ground Truth ((36131, 49800)):  47%|████▋     | 14/30 [13:08<14:39, 54.99s/it]"
     ]
    },
    {
     "name": "stdout",
     "output_type": "stream",
     "text": [
      " "
     ]
    },
    {
     "name": "stderr",
     "output_type": "stream",
     "text": [
      "Image NA4675-02_AB, Test ((45548, 53784)), Ground Truth ((45548, 53784)):  50%|█████     | 15/30 [13:48<12:24, 49.63s/it]"
     ]
    },
    {
     "name": "stdout",
     "output_type": "stream",
     "text": [
      " "
     ]
    },
    {
     "name": "stderr",
     "output_type": "stream",
     "text": [
      "Image NA4691-02_AB, Test ((41073, 53784)), Ground Truth ((41073, 53784)):  53%|█████▎    | 16/30 [14:38<11:41, 50.14s/it]"
     ]
    },
    {
     "name": "stdout",
     "output_type": "stream",
     "text": [
      " "
     ]
    },
    {
     "name": "stderr",
     "output_type": "stream",
     "text": [
      "Image NA4695-02_AB, Test ((41634, 55776)), Ground Truth ((41634, 55776)):  57%|█████▋    | 17/30 [15:24<10:34, 48.84s/it]"
     ]
    },
    {
     "name": "stdout",
     "output_type": "stream",
     "text": [
      " "
     ]
    },
    {
     "name": "stderr",
     "output_type": "stream",
     "text": [
      "Image NA4894-02_AB17-24, Test ((44874, 59760)), Ground Truth ((44874, 59760)):  60%|██████    | 18/30 [16:13<09:43, 48.62s/it]"
     ]
    },
    {
     "name": "stdout",
     "output_type": "stream",
     "text": [
      " "
     ]
    },
    {
     "name": "stderr",
     "output_type": "stream",
     "text": [
      "Image NA4907-02_AB17-24, Test ((44644, 55776)), Ground Truth ((44644, 55776)):  63%|██████▎   | 19/30 [17:07<09:14, 50.38s/it]"
     ]
    },
    {
     "name": "stdout",
     "output_type": "stream",
     "text": [
      " "
     ]
    },
    {
     "name": "stderr",
     "output_type": "stream",
     "text": [
      "Image NA4944-02_AB17-24, Test ((36870, 47808)), Ground Truth ((36870, 47808)):  67%|██████▋   | 20/30 [17:57<08:26, 50.67s/it]"
     ]
    },
    {
     "name": "stdout",
     "output_type": "stream",
     "text": [
      " "
     ]
    },
    {
     "name": "stderr",
     "output_type": "stream",
     "text": [
      "Image NA4945-02_AB17-24, Test ((43128, 49800)), Ground Truth ((43128, 49800)):  70%|███████   | 21/30 [18:36<07:01, 46.82s/it]"
     ]
    },
    {
     "name": "stdout",
     "output_type": "stream",
     "text": [
      " "
     ]
    },
    {
     "name": "stderr",
     "output_type": "stream",
     "text": [
      "Image NA4967-02_AB17-24, Test ((35729, 47808)), Ground Truth ((35729, 47808)):  73%|███████▎  | 22/30 [19:18<06:08, 46.02s/it]"
     ]
    },
    {
     "name": "stdout",
     "output_type": "stream",
     "text": [
      " "
     ]
    },
    {
     "name": "stderr",
     "output_type": "stream",
     "text": [
      "Image NA4971-02_AB17-24, Test ((38443, 61752)), Ground Truth ((38443, 61752)):  77%|███████▋  | 23/30 [19:55<04:59, 42.73s/it]"
     ]
    },
    {
     "name": "stdout",
     "output_type": "stream",
     "text": [
      " "
     ]
    },
    {
     "name": "stderr",
     "output_type": "stream",
     "text": [
      "Image NA4972-02_AB17-24, Test ((39068, 47808)), Ground Truth ((39068, 47808)):  80%|████████  | 24/30 [20:43<04:27, 44.56s/it]"
     ]
    },
    {
     "name": "stdout",
     "output_type": "stream",
     "text": [
      " "
     ]
    },
    {
     "name": "stderr",
     "output_type": "stream",
     "text": [
      "Image NA4992-02_AB17-24, Test ((37641, 37848)), Ground Truth ((37641, 37848)):  83%|████████▎ | 25/30 [21:19<03:32, 42.59s/it]"
     ]
    },
    {
     "name": "stdout",
     "output_type": "stream",
     "text": [
      " "
     ]
    },
    {
     "name": "stderr",
     "output_type": "stream",
     "text": [
      "Image NA4993-02_AB17-24, Test ((41543, 39840)), Ground Truth ((41543, 39840)):  87%|████████▋ | 26/30 [21:50<02:34, 38.68s/it]"
     ]
    },
    {
     "name": "stdout",
     "output_type": "stream",
     "text": [
      " "
     ]
    },
    {
     "name": "stderr",
     "output_type": "stream",
     "text": [
      "Image NA5010-02_AB17-24, Test ((77386, 75695)), Ground Truth ((77386, 75695)):  90%|█████████ | 27/30 [22:37<01:52, 37.56s/it]"
     ]
    },
    {
     "name": "stdout",
     "output_type": "stream",
     "text": [
      " "
     ]
    },
    {
     "name": "stderr",
     "output_type": "stream",
     "text": [
      "Image NA5015-02_AB17-24, Test ((40419, 55776)), Ground Truth ((40419, 55776)):  93%|█████████▎| 28/30 [24:28<02:05, 62.63s/it]"
     ]
    },
    {
     "name": "stdout",
     "output_type": "stream",
     "text": [
      " "
     ]
    },
    {
     "name": "stderr",
     "output_type": "stream",
     "text": [
      "Image NA5029-02_AB17-24, Test ((43598, 53784)), Ground Truth ((43598, 53784)):  97%|█████████▋| 29/30 [25:14<00:57, 57.64s/it]"
     ]
    },
    {
     "name": "stdout",
     "output_type": "stream",
     "text": [
      " "
     ]
    },
    {
     "name": "stderr",
     "output_type": "stream",
     "text": [
      "Image NA5029-02_AB17-24, Test ((43598, 53784)), Ground Truth ((43598, 53784)): 100%|██████████| 30/30 [25:55<00:00, 51.84s/it]\n"
     ]
    }
   ],
   "source": [
    "SAVE_FILENAME = 'CRF_July_AccuracyResults_pixel.csv' # Under TEST_DIR\n",
    "results = np.zeros((len(image_names), 8), dtype='int')\n",
    "\n",
    "t = tqdm(total=len(image_names))\n",
    "for i, imagename in enumerate(image_names):\n",
    "    # Filename for testing and ground truth images\n",
    "    test_grey_img_name = imagename + \"-Grey.png\"\n",
    "    test_white_img_name = imagename + \"-White.png\"\n",
    "    truth_grey_img_name = imagename + \"-Grey.png\"\n",
    "    truth_white_img_name = imagename + \"-White.png\"\n",
    "\n",
    "    ##### Testing Grey Matter Mask #####\n",
    "    # Load images\n",
    "    TEST_img = np.array(Image.open(TEST_DIR + test_grey_img_name))\n",
    "    truth_img = Image.open(TRUTH_DIR + truth_grey_img_name)\n",
    "#     (width, height) = (IMAGEDIMNORM[i, 0] // downscale, IMAGEDIMNORM[i, 1] // downscale)\n",
    "#     truth_img = truth_img.resize((width, height), Image.BILINEAR)\n",
    "    truth_img = np.array(truth_img)\n",
    "    truth_width = truth_img.shape[0]\n",
    "    truth_height = truth_img.shape[1]\n",
    "    \n",
    "    test_img = np.zeros([truth_width,truth_height], bool)\n",
    "    for w in range(0,truth_width-128,128):\n",
    "        for h in range(0,truth_height-128,128):\n",
    "            test_img[w:w+128, h:h+128] = TEST_img[w//128,h//128]\n",
    "    \n",
    "    # Check dimensions\n",
    "    if not (test_img.shape[0] == IMAGEDIMNORM[i, 1] and test_img.shape[1] == IMAGEDIMNORM[i, 0]):\n",
    "        print('\\t' + imagename + ' grey dimension WRONG!!!')\n",
    "\n",
    "    # Update tqdm descriptions\n",
    "    t.set_description_str(\"Image {}, Test ({}), Ground Truth ({})\".format(\n",
    "      imagename, str(test_img.shape), str(truth_img.shape)) )\n",
    "    t.refresh()\n",
    "    t.write(\"\", end=' ')\n",
    "\n",
    "    # Clip test_img to 1\n",
    "    test_img[test_img>=1] = 1\n",
    "\n",
    "    # Calculate true and false segmentations\n",
    "    width = truth_img.shape[1]\n",
    "    height = truth_img.shape[0]\n",
    "    grey_TP = np.multiply(test_img, truth_img).sum()\n",
    "    grey_FP = np.multiply(test_img, np.logical_not(truth_img)).sum()\n",
    "    grey_FN = np.multiply(np.logical_not(test_img), truth_img).sum()\n",
    "    grey_TN = np.multiply(np.logical_not(test_img), np.logical_not(truth_img)).sum()\n",
    "\n",
    "    # Check results\n",
    "    grey_total = width*height\n",
    "    if not (grey_total == grey_TP+grey_FP+grey_FN+grey_TN):\n",
    "        print('\\t' + imagename + ' grey matter results WRONG!!!')\n",
    "\n",
    "    ##### Testing White Matter Mask #####\n",
    "    # Load images\n",
    "    TEST_img = np.array(Image.open(TEST_DIR + test_white_img_name))\n",
    "    truth_img = Image.open(TRUTH_DIR + truth_white_img_name)\n",
    "    truth_img = np.array(truth_img)\n",
    "    \n",
    "    truth_img = np.array(truth_img)\n",
    "    truth_width = truth_img.shape[0]\n",
    "    truth_height = truth_img.shape[1]\n",
    "    \n",
    "    test_img = np.zeros([truth_width,truth_height], bool)\n",
    "    for w in range(0,truth_width-128,128):\n",
    "        for h in range(0,truth_height-128,128):\n",
    "            test_img[w:w+128, h:h+128] = TEST_img[w//128,h//128]\n",
    "\n",
    "    # Check dimensions\n",
    "    if not (test_img.shape[0] == IMAGEDIMNORM[i, 1] and test_img.shape[1] == IMAGEDIMNORM[i, 0]):\n",
    "        print('\\t' + imagename + ' white dimension WRONG!!!')\n",
    "\n",
    "    # Clip test_img to 1\n",
    "    test_img[test_img>=1] = 1\n",
    "\n",
    "    # Calculate true and false segmentations\n",
    "    width = truth_img.shape[1]\n",
    "    height = truth_img.shape[0]\n",
    "    white_TP = np.multiply(test_img, truth_img).sum()\n",
    "    white_FP = np.multiply(test_img, np.logical_not(truth_img)).sum()\n",
    "    white_FN = np.multiply(np.logical_not(test_img), truth_img).sum()\n",
    "    white_TN = np.multiply(np.logical_not(test_img), np.logical_not(truth_img)).sum()\n",
    "\n",
    "    # Check results\n",
    "    white_total = width*height\n",
    "    if not (white_total == white_TN+white_FP+white_FN+white_TP):\n",
    "        print('\\t' + imagename + ' white matter results WRONG!!!')\n",
    "\n",
    "    # Save results: grey_TN, grey_FP, grey_FN, grey_TP, white_TN, white_FP, white_FN, white_TP\n",
    "    results[i, :] = [grey_TN, grey_FP, grey_FN, grey_TP, white_TN, white_FP, white_FN, white_TP]\n",
    "\n",
    "    t.update()\n",
    "t.close()\n",
    "\n",
    "with open(TEST_DIR + SAVE_FILENAME, \"w\") as f:\n",
    "    f.write('Image Name,Grey_TN (px),Grey_FP (px),Grey_FN (px),Grey_TP (px),' +\n",
    "          'White_TN (px),White_FP (px),White_FN (px),White_TP (px),' + \n",
    "          'G_Accuracy (%),G_Misclassification Rate (%),G_Sensitivity (%),' +\n",
    "          'G_Specificity (%),G_Precision (%),G_Prevalence (%),' + \n",
    "          'W_Accuracy (%),W_Misclassification Rate (%),W_Sensitivity (%),' +\n",
    "          'W_Specificity (%),W_Precision (%),W_Prevalence (%)\\n') \n",
    "    accu_result = np.zeros((len(image_names), 12))\n",
    "    for i, imagename in enumerate(image_names):\n",
    "        total = results[i, 0]+results[i, 1]+results[i, 2]+results[i, 3]\n",
    "        accu_result[i, 0]  = (results[i, 0]+results[i, 3])/total*100\n",
    "        accu_result[i, 1]  = (results[i, 1]+results[i, 2])/total*100\n",
    "        accu_result[i, 2]  = (results[i, 3]/(results[i, 2]+results[i, 3]))*100\n",
    "        accu_result[i, 3]  = (results[i, 0]/(results[i, 0]+results[i, 1]))*100\n",
    "        accu_result[i, 4]  = (results[i, 3]/(results[i, 1]+results[i, 3]))*100\n",
    "        accu_result[i, 5]  = (results[i, 2]+results[i, 3])/total*100\n",
    "        total = results[i, 4]+results[i, 5]+results[i, 6]+results[i, 7]\n",
    "        accu_result[i, 6]  = (results[i, 4]+results[i, 7])/total*100\n",
    "        accu_result[i, 7]  = (results[i, 5]+results[i, 6])/total*100\n",
    "        accu_result[i, 8]  = (results[i, 7]/(results[i, 6]+results[i, 7]))*100\n",
    "        accu_result[i, 9]  = (results[i, 4]/(results[i, 4]+results[i, 5]))*100\n",
    "        accu_result[i, 10] = (results[i, 7]/(results[i, 5]+results[i, 7]))*100\n",
    "        accu_result[i, 11] = (results[i, 6]+results[i, 7])/total*100\n",
    "        f.write('%s,%d,%d,%d,%d,%d,%d,%d,%d,%.2f,%.2f,%.2f,%.2f,%.2f,%.2f,%.2f,%.2f,%.2f,%.2f,%.2f,%.2f\\n' % \n",
    "            (imagename, results[i, 0], results[i, 1], results[i, 2], results[i, 3], \n",
    "                results[i, 4], results[i, 5], results[i, 6], results[i, 7], \n",
    "                accu_result[i, 0], accu_result[i, 1], accu_result[i, 2], \n",
    "                accu_result[i, 3], accu_result[i, 4], accu_result[i, 5], \n",
    "                accu_result[i, 6], accu_result[i, 7], accu_result[i, 8], \n",
    "                accu_result[i, 9], accu_result[i, 10], accu_result[i, 11]))\n",
    "    f.write('-' * 230 + '\\n')\n",
    "    f.write('Average,%d,%d,%d,%d,%d,%d,%d,%d,%.2f,%.2f,%.2f,%.2f,%.2f,%.2f,%.2f,%.2f,%.2f,%.2f,%.2f,%.2f\\n' % \n",
    "          (np.mean(results[:, 0]), np.mean(results[:, 1]), np.mean(results[:, 2]), np.mean(results[:, 3]), \n",
    "              np.mean(results[:, 4]), np.mean(results[:, 5]), np.mean(results[:, 6]), np.mean(results[:, 7]), \n",
    "              np.mean(accu_result[:, 0]), np.mean(accu_result[:, 1]), np.mean(accu_result[:, 2]), \n",
    "              np.mean(accu_result[:, 3]), np.mean(accu_result[:, 4]), np.mean(accu_result[:, 5]), \n",
    "              np.mean(accu_result[:, 6]), np.mean(accu_result[:, 7]), np.mean(accu_result[:, 8]), \n",
    "              np.mean(accu_result[:, 9]), np.mean(accu_result[:, 10]), np.mean(accu_result[:, 11])))\n"
   ]
  },
  {
   "cell_type": "markdown",
   "metadata": {},
   "source": [
    "## IoU"
   ]
  },
  {
   "cell_type": "code",
   "execution_count": null,
   "metadata": {},
   "outputs": [
    {
     "name": "stderr",
     "output_type": "stream",
     "text": [
      "\n",
      "\n",
      "  0%|          | 0/30 [00:00<?, ?it/s]\u001b[A\u001b[A\n",
      "\n",
      "Image NA3777-02_AB, Test ((47177, 53784)), Ground Truth ((47177, 53784)):   0%|          | 0/30 [00:08<?, ?it/s]\u001b[A\u001b[A\n",
      "\n",
      "Image NA3777-02_AB, Test ((47177, 53784)), Ground Truth ((47177, 53784)):   0%|          | 0/30 [00:08<?, ?it/s]\u001b[A\u001b[A\n",
      "\n",
      "                                                                                                                \n",
      "\u001b[A                                   \n",
      "\n",
      "Image NA3777-02_AB.png:   0%|          | 0/30 [08:22<?, ?it/s]7, 53784)):   0%|          | 0/30 [00:08<?, ?it/s]\u001b[A\u001b[A\n",
      "  0%|          | 0/30 [01:56<?, ?it/s]\u001b[A"
     ]
    },
    {
     "name": "stdout",
     "output_type": "stream",
     "text": [
      " "
     ]
    },
    {
     "name": "stderr",
     "output_type": "stream",
     "text": [
      "\n",
      "\n",
      "Image NA3777-02_AB, Test ((47177, 53784)), Ground Truth ((47177, 53784)):   3%|▎         | 1/30 [05:26<2:37:58, 326.84s/it]\u001b[A\u001b[A\n",
      "\n",
      "Image NA4077-02_AB, Test ((46200, 73704)), Ground Truth ((46200, 73704)):   3%|▎         | 1/30 [05:40<2:37:58, 326.84s/it]\u001b[A\u001b[A\n",
      "\n",
      "Image NA4077-02_AB, Test ((46200, 73704)), Ground Truth ((46200, 73704)):   3%|▎         | 1/30 [05:40<2:37:58, 326.84s/it]\u001b[A\u001b[A\n",
      "\n",
      "                                                                                                                           \n",
      "\u001b[A                                   \n",
      "\n",
      "Image NA3777-02_AB.png:   0%|          | 0/30 [13:54<?, ?it/s]0, 73704)):   3%|▎         | 1/30 [05:40<2:37:58, 326.84s/it]\u001b[A\u001b[A\n",
      "  0%|          | 0/30 [07:29<?, ?it/s]\u001b[A"
     ]
    },
    {
     "name": "stdout",
     "output_type": "stream",
     "text": [
      " "
     ]
    },
    {
     "name": "stderr",
     "output_type": "stream",
     "text": [
      "\n",
      "\n",
      "Image NA4077-02_AB, Test ((46200, 73704)), Ground Truth ((46200, 73704)):   7%|▋         | 2/30 [16:58<3:23:35, 436.25s/it]\u001b[A\u001b[A\n",
      "\n",
      "Image NA4092-02_AB, Test ((45178, 65736)), Ground Truth ((45178, 65736)):   7%|▋         | 2/30 [17:07<3:23:35, 436.25s/it]\u001b[A\u001b[A\n",
      "\n",
      "Image NA4092-02_AB, Test ((45178, 65736)), Ground Truth ((45178, 65736)):   7%|▋         | 2/30 [17:07<3:23:35, 436.25s/it]\u001b[A\u001b[A\n",
      "\n",
      "                                                                                                                           \n",
      "\u001b[A                                   \n",
      "\n",
      "Image NA3777-02_AB.png:   0%|          | 0/30 [25:21<?, ?it/s]8, 65736)):   7%|▋         | 2/30 [17:07<3:23:35, 436.25s/it]\u001b[A\u001b[A\n",
      "  0%|          | 0/30 [18:56<?, ?it/s]\u001b[A"
     ]
    },
    {
     "name": "stdout",
     "output_type": "stream",
     "text": [
      " "
     ]
    },
    {
     "name": "stderr",
     "output_type": "stream",
     "text": [
      "\n",
      "\n",
      "Image NA4092-02_AB, Test ((45178, 65736)), Ground Truth ((45178, 65736)):  10%|█         | 3/30 [27:52<3:45:42, 501.56s/it]\u001b[A\u001b[A\n",
      "\n",
      "Image NA4107-02_AB, Test ((36459, 67728)), Ground Truth ((36459, 67728)):  10%|█         | 3/30 [28:00<3:45:42, 501.56s/it]\u001b[A\u001b[A\n",
      "\n",
      "Image NA4107-02_AB, Test ((36459, 67728)), Ground Truth ((36459, 67728)):  10%|█         | 3/30 [28:00<3:45:42, 501.56s/it]\u001b[A\u001b[A\n",
      "\n",
      "                                                                                                                           \n",
      "\u001b[A                                   \n",
      "\n",
      "Image NA3777-02_AB.png:   0%|          | 0/30 [36:14<?, ?it/s]9, 67728)):  10%|█         | 3/30 [28:00<3:45:42, 501.56s/it]\u001b[A\u001b[A\n",
      "  0%|          | 0/30 [29:49<?, ?it/s]\u001b[A"
     ]
    },
    {
     "name": "stdout",
     "output_type": "stream",
     "text": [
      " "
     ]
    },
    {
     "name": "stderr",
     "output_type": "stream",
     "text": [
      "\n",
      "\n",
      "Image NA4107-02_AB, Test ((36459, 67728)), Ground Truth ((36459, 67728)):  13%|█▎        | 4/30 [37:19<3:45:50, 521.17s/it]\u001b[A\u001b[A\n",
      "\n",
      "Image NA4160-02_AB, Test ((41787, 59760)), Ground Truth ((41787, 59760)):  13%|█▎        | 4/30 [37:30<3:45:50, 521.17s/it]\u001b[A\u001b[A\n",
      "\n",
      "Image NA4160-02_AB, Test ((41787, 59760)), Ground Truth ((41787, 59760)):  13%|█▎        | 4/30 [37:30<3:45:50, 521.17s/it]\u001b[A\u001b[A\n",
      "\n",
      "                                                                                                                           \n",
      "\u001b[A                                   \n",
      "\n",
      "Image NA3777-02_AB.png:   0%|          | 0/30 [45:44<?, ?it/s]7, 59760)):  13%|█▎        | 4/30 [37:30<3:45:50, 521.17s/it]\u001b[A\u001b[A\n",
      "  0%|          | 0/30 [39:19<?, ?it/s]\u001b[A"
     ]
    },
    {
     "name": "stdout",
     "output_type": "stream",
     "text": [
      " "
     ]
    },
    {
     "name": "stderr",
     "output_type": "stream",
     "text": [
      "\n",
      "\n",
      "Image NA4160-02_AB, Test ((41787, 59760)), Ground Truth ((41787, 59760)):  17%|█▋        | 5/30 [42:41<3:12:20, 461.62s/it]\u001b[A\u001b[A\n",
      "\n",
      "Image NA4195-02_AB, Test ((39849, 55776)), Ground Truth ((39849, 55776)):  17%|█▋        | 5/30 [42:48<3:12:20, 461.62s/it]\u001b[A\u001b[A\n",
      "\n",
      "Image NA4195-02_AB, Test ((39849, 55776)), Ground Truth ((39849, 55776)):  17%|█▋        | 5/30 [42:48<3:12:20, 461.62s/it]\u001b[A\u001b[A\n",
      "\n",
      "                                                                                                                           \n",
      "\u001b[A                                   \n",
      "\n",
      "Image NA3777-02_AB.png:   0%|          | 0/30 [51:03<?, ?it/s]9, 55776)):  17%|█▋        | 5/30 [42:48<3:12:20, 461.62s/it]\u001b[A\u001b[A\n",
      "  0%|          | 0/30 [44:37<?, ?it/s]\u001b[A"
     ]
    },
    {
     "name": "stdout",
     "output_type": "stream",
     "text": [
      " "
     ]
    },
    {
     "name": "stderr",
     "output_type": "stream",
     "text": [
      "\n",
      "\n",
      "Image NA4195-02_AB, Test ((39849, 55776)), Ground Truth ((39849, 55776)):  20%|██        | 6/30 [45:11<2:27:11, 367.97s/it]\u001b[A\u001b[A\n",
      "\n",
      "Image NA4256-02_AB, Test ((46410, 61752)), Ground Truth ((46410, 61752)):  20%|██        | 6/30 [45:20<2:27:11, 367.97s/it]\u001b[A\u001b[A\n",
      "\n",
      "Image NA4256-02_AB, Test ((46410, 61752)), Ground Truth ((46410, 61752)):  20%|██        | 6/30 [45:20<2:27:11, 367.97s/it]\u001b[A\u001b[A\n",
      "\n",
      "                                                                                                                           \n",
      "\u001b[A                                   \n",
      "\n",
      "Image NA3777-02_AB.png:   0%|          | 0/30 [53:34<?, ?it/s]0, 61752)):  20%|██        | 6/30 [45:20<2:27:11, 367.97s/it]\u001b[A\u001b[A\n",
      "  0%|          | 0/30 [47:08<?, ?it/s]\u001b[A"
     ]
    },
    {
     "name": "stdout",
     "output_type": "stream",
     "text": [
      " "
     ]
    },
    {
     "name": "stderr",
     "output_type": "stream",
     "text": [
      "\n",
      "\n",
      "Image NA4256-02_AB, Test ((46410, 61752)), Ground Truth ((46410, 61752)):  23%|██▎       | 7/30 [53:35<2:36:45, 408.92s/it]\u001b[A\u001b[A\n",
      "\n",
      "Image NA4299-02_AB, Test ((43740, 57768)), Ground Truth ((43740, 57768)):  23%|██▎       | 7/30 [53:55<2:36:45, 408.92s/it]\u001b[A\u001b[A\n",
      "\n",
      "Image NA4299-02_AB, Test ((43740, 57768)), Ground Truth ((43740, 57768)):  23%|██▎       | 7/30 [53:55<2:36:45, 408.92s/it]\u001b[A\u001b[A\n",
      "\n",
      "                                                                                                                           \n",
      "\u001b[A                                   \n",
      "\n",
      "Image NA3777-02_AB.png:   0%|          | 0/30 [1:02:09<?, ?it/s] 57768)):  23%|██▎       | 7/30 [53:55<2:36:45, 408.92s/it]\u001b[A\u001b[A\n",
      "  0%|          | 0/30 [55:44<?, ?it/s]\u001b[A"
     ]
    },
    {
     "name": "stdout",
     "output_type": "stream",
     "text": [
      " "
     ]
    },
    {
     "name": "stderr",
     "output_type": "stream",
     "text": [
      "\n",
      "\n",
      "Image NA4299-02_AB, Test ((43740, 57768)), Ground Truth ((43740, 57768)):  27%|██▋       | 8/30 [1:01:12<2:35:09, 423.14s/it]\u001b[A\u001b[A\n",
      "\n",
      "Image NA4391-02_AB, Test ((47520, 49800)), Ground Truth ((47520, 49800)):  27%|██▋       | 8/30 [1:01:32<2:35:09, 423.14s/it]\u001b[A\u001b[A\n",
      "\n",
      "Image NA4391-02_AB, Test ((47520, 49800)), Ground Truth ((47520, 49800)):  27%|██▋       | 8/30 [1:01:32<2:35:09, 423.14s/it]\u001b[A\u001b[A\n",
      "\n",
      "                                                                                                                             \n",
      "\u001b[A                                   \n",
      "\n",
      "Image NA3777-02_AB.png:   0%|          | 0/30 [1:09:46<?, ?it/s] 49800)):  27%|██▋       | 8/30 [1:01:32<2:35:09, 423.14s/it]\u001b[A\u001b[A\n",
      "  0%|          | 0/30 [1:03:21<?, ?it/s]\u001b[A"
     ]
    },
    {
     "name": "stdout",
     "output_type": "stream",
     "text": [
      " "
     ]
    },
    {
     "name": "stderr",
     "output_type": "stream",
     "text": [
      "\n",
      "\n",
      "Image NA4391-02_AB, Test ((47520, 49800)), Ground Truth ((47520, 49800)):  30%|███       | 9/30 [1:08:29<2:29:36, 427.45s/it]\u001b[A\u001b[A\n",
      "\n",
      "Image NA4450-02_AB, Test ((47481, 57768)), Ground Truth ((47481, 57768)):  30%|███       | 9/30 [1:08:54<2:29:36, 427.45s/it]\u001b[A\u001b[A\n",
      "\n",
      "Image NA4450-02_AB, Test ((47481, 57768)), Ground Truth ((47481, 57768)):  30%|███       | 9/30 [1:08:54<2:29:36, 427.45s/it]\u001b[A\u001b[A\n",
      "\n",
      "                                                                                                                             \n",
      "\u001b[A                                     \n",
      "\n",
      "Image NA3777-02_AB.png:   0%|          | 0/30 [1:17:08<?, ?it/s] 57768)):  30%|███       | 9/30 [1:08:54<2:29:36, 427.45s/it]\u001b[A\u001b[A\n",
      "  0%|          | 0/30 [1:10:43<?, ?it/s]\u001b[A"
     ]
    },
    {
     "name": "stdout",
     "output_type": "stream",
     "text": [
      " "
     ]
    },
    {
     "name": "stderr",
     "output_type": "stream",
     "text": [
      "\n",
      "\n",
      "Image NA4450-02_AB, Test ((47481, 57768)), Ground Truth ((47481, 57768)):  33%|███▎      | 10/30 [1:16:56<2:30:27, 451.36s/it]\u001b[A\u001b[A\n",
      "\n",
      "Image NA4463-02_AB, Test ((45142, 53784)), Ground Truth ((45142, 53784)):  33%|███▎      | 10/30 [1:17:04<2:30:27, 451.36s/it]\u001b[A\u001b[A\n",
      "\n",
      "Image NA4463-02_AB, Test ((45142, 53784)), Ground Truth ((45142, 53784)):  33%|███▎      | 10/30 [1:17:04<2:30:27, 451.36s/it]\u001b[A\u001b[A\n",
      "\n",
      "                                                                                                                              \n",
      "\u001b[A                                     \n",
      "\n",
      "Image NA3777-02_AB.png:   0%|          | 0/30 [1:25:18<?, ?it/s] 53784)):  33%|███▎      | 10/30 [1:17:04<2:30:27, 451.36s/it]\u001b[A\u001b[A\n",
      "  0%|          | 0/30 [1:18:53<?, ?it/s]\u001b[A"
     ]
    },
    {
     "name": "stdout",
     "output_type": "stream",
     "text": [
      " "
     ]
    },
    {
     "name": "stderr",
     "output_type": "stream",
     "text": [
      "\n",
      "\n",
      "Image NA4463-02_AB, Test ((45142, 53784)), Ground Truth ((45142, 53784)):  37%|███▋      | 11/30 [1:24:16<2:21:48, 447.81s/it]\u001b[A\u001b[A\n",
      "\n",
      "Image NA4471-02_AB, Test ((47426, 71712)), Ground Truth ((47426, 71712)):  37%|███▋      | 11/30 [1:24:47<2:21:48, 447.81s/it]\u001b[A\u001b[A\n",
      "\n",
      "Image NA4471-02_AB, Test ((47426, 71712)), Ground Truth ((47426, 71712)):  37%|███▋      | 11/30 [1:24:47<2:21:48, 447.81s/it]\u001b[A\u001b[A\n",
      "\n",
      "                                                                                                                              \n",
      "\u001b[A                                     \n",
      "\n",
      "Image NA3777-02_AB.png:   0%|          | 0/30 [1:33:02<?, ?it/s] 71712)):  37%|███▋      | 11/30 [1:24:47<2:21:48, 447.81s/it]\u001b[A\u001b[A\n",
      "  0%|          | 0/30 [1:26:36<?, ?it/s]\u001b[A"
     ]
    },
    {
     "name": "stdout",
     "output_type": "stream",
     "text": [
      " "
     ]
    },
    {
     "name": "stderr",
     "output_type": "stream",
     "text": [
      "\n",
      "\n",
      "Image NA4471-02_AB, Test ((47426, 71712)), Ground Truth ((47426, 71712)):  40%|████      | 12/30 [1:36:56<2:42:27, 541.50s/it]\u001b[A\u001b[A\n",
      "\n",
      "Image NA4553-02_AB, Test ((47200, 67728)), Ground Truth ((47200, 67728)):  40%|████      | 12/30 [1:37:26<2:42:27, 541.50s/it]\u001b[A\u001b[A\n",
      "\n",
      "Image NA4553-02_AB, Test ((47200, 67728)), Ground Truth ((47200, 67728)):  40%|████      | 12/30 [1:37:26<2:42:27, 541.50s/it]\u001b[A\u001b[A\n",
      "\n",
      "                                                                                                                              \n",
      "\u001b[A                                     \n",
      "\n",
      "Image NA3777-02_AB.png:   0%|          | 0/30 [1:45:40<?, ?it/s] 67728)):  40%|████      | 12/30 [1:37:26<2:42:27, 541.50s/it]\u001b[A\u001b[A\n",
      "  0%|          | 0/30 [1:39:14<?, ?it/s]\u001b[A"
     ]
    },
    {
     "name": "stdout",
     "output_type": "stream",
     "text": [
      " "
     ]
    },
    {
     "name": "stderr",
     "output_type": "stream",
     "text": [
      "\n",
      "\n",
      "Image NA4553-02_AB, Test ((47200, 67728)), Ground Truth ((47200, 67728)):  43%|████▎     | 13/30 [1:47:53<2:43:14, 576.14s/it]\u001b[A\u001b[A\n",
      "\n",
      "Image NA4626-02_AB, Test ((41668, 47808)), Ground Truth ((41668, 47808)):  43%|████▎     | 13/30 [1:47:59<2:43:14, 576.14s/it]\u001b[A\u001b[A\n",
      "\n",
      "Image NA4626-02_AB, Test ((41668, 47808)), Ground Truth ((41668, 47808)):  43%|████▎     | 13/30 [1:47:59<2:43:14, 576.14s/it]\u001b[A\u001b[A\n",
      "\n",
      "                                                                                                                              \n",
      "\u001b[A                                     \n",
      "\n",
      "Image NA3777-02_AB.png:   0%|          | 0/30 [1:56:13<?, ?it/s] 47808)):  43%|████▎     | 13/30 [1:47:59<2:43:14, 576.14s/it]\u001b[A\u001b[A\n",
      "  0%|          | 0/30 [1:49:48<?, ?it/s]\u001b[A"
     ]
    },
    {
     "name": "stdout",
     "output_type": "stream",
     "text": [
      " "
     ]
    },
    {
     "name": "stderr",
     "output_type": "stream",
     "text": [
      "\n",
      "\n",
      "Image NA4626-02_AB, Test ((41668, 47808)), Ground Truth ((41668, 47808)):  47%|████▋     | 14/30 [1:53:48<2:15:55, 509.73s/it]\u001b[A\u001b[A\n",
      "\n",
      "Image NA4672-02_AB, Test ((36131, 49800)), Ground Truth ((36131, 49800)):  47%|████▋     | 14/30 [1:53:54<2:15:55, 509.73s/it]\u001b[A\u001b[A\n",
      "\n",
      "Image NA4672-02_AB, Test ((36131, 49800)), Ground Truth ((36131, 49800)):  47%|████▋     | 14/30 [1:53:54<2:15:55, 509.73s/it]\u001b[A\u001b[A\n",
      "\n",
      "                                                                                                                              \n",
      "\u001b[A                                     \n",
      "\n",
      "Image NA3777-02_AB.png:   0%|          | 0/30 [2:02:08<?, ?it/s] 49800)):  47%|████▋     | 14/30 [1:53:54<2:15:55, 509.73s/it]\u001b[A\u001b[A\n",
      "  0%|          | 0/30 [1:55:42<?, ?it/s]\u001b[A"
     ]
    },
    {
     "name": "stdout",
     "output_type": "stream",
     "text": [
      " "
     ]
    },
    {
     "name": "stderr",
     "output_type": "stream",
     "text": [
      "\n",
      "\n",
      "Image NA4672-02_AB, Test ((36131, 49800)), Ground Truth ((36131, 49800)):  50%|█████     | 15/30 [1:55:20<1:36:08, 384.59s/it]\u001b[A\u001b[A\n",
      "\n",
      "Image NA4675-02_AB, Test ((45548, 53784)), Ground Truth ((45548, 53784)):  50%|█████     | 15/30 [1:55:28<1:36:08, 384.59s/it]\u001b[A\u001b[A\n",
      "\n",
      "Image NA4675-02_AB, Test ((45548, 53784)), Ground Truth ((45548, 53784)):  50%|█████     | 15/30 [1:55:28<1:36:08, 384.59s/it]\u001b[A\u001b[A\n",
      "\n",
      "                                                                                                                              \n",
      "\u001b[A                                     \n",
      "\n",
      "Image NA3777-02_AB.png:   0%|          | 0/30 [2:03:42<?, ?it/s] 53784)):  50%|█████     | 15/30 [1:55:28<1:36:08, 384.59s/it]\u001b[A\u001b[A\n",
      "  0%|          | 0/30 [1:57:17<?, ?it/s]\u001b[A"
     ]
    },
    {
     "name": "stdout",
     "output_type": "stream",
     "text": [
      " "
     ]
    },
    {
     "name": "stderr",
     "output_type": "stream",
     "text": [
      "\n",
      "\n",
      "Image NA4675-02_AB, Test ((45548, 53784)), Ground Truth ((45548, 53784)):  53%|█████▎    | 16/30 [1:57:25<1:11:33, 306.69s/it]\u001b[A\u001b[A\n",
      "\n",
      "Image NA4691-02_AB, Test ((41073, 53784)), Ground Truth ((41073, 53784)):  53%|█████▎    | 16/30 [1:57:32<1:11:33, 306.69s/it]\u001b[A\u001b[A\n",
      "\n",
      "Image NA4691-02_AB, Test ((41073, 53784)), Ground Truth ((41073, 53784)):  53%|█████▎    | 16/30 [1:57:32<1:11:33, 306.69s/it]\u001b[A\u001b[A\n",
      "\n",
      "                                                                                                                              \n",
      "\u001b[A                                     \n",
      "\n",
      "Image NA3777-02_AB.png:   0%|          | 0/30 [2:05:46<?, ?it/s] 53784)):  53%|█████▎    | 16/30 [1:57:32<1:11:33, 306.69s/it]\u001b[A\u001b[A\n",
      "  0%|          | 0/30 [1:59:21<?, ?it/s]\u001b[A"
     ]
    },
    {
     "name": "stdout",
     "output_type": "stream",
     "text": [
      " "
     ]
    }
   ],
   "source": [
    "#@title\n",
    "TESTT_DIR = '/BrainSeg/Classify_Results/CRF_0914/'\n",
    "SAVE_FILENAME = 'CRF_0914_IoUResults.csv' # Under TEST_DIR\n",
    "SAVE_FILENAME_LATEX = 'CRF_0914_IoUResults.txt' # Under TEST_DIR\n",
    "\n",
    "# Stores results: back_TN, back_FP, back_FN, back_TP, grey_TN, grey_FP, grey_FN, grey_TP, white_TN, white_FP, white_FN, white_TP\n",
    "conf_mat = np.zeros((len(image_names), 12), dtype='int')\n",
    "# Stores accuracy results: back_IoU, back_F1, grey_IoU, grey_F1, white_IoU, white_F1\n",
    "results = np.zeros((len(image_names), 6))\n",
    "# Stores accuracy results: back_IoU_conf, back_F1_conf, grey_IoU_conf, grey_F1_conf, white_IoU_conf, white_F1_conf\n",
    "results_conf = np.zeros((len(image_names), 6))\n",
    "\n",
    "t = tqdm(total=len(image_names))\n",
    "for i, imagename in enumerate(image_names):\n",
    "    # Filename for testing and ground truth images\n",
    "    test_grey_img_name = imagename + \"-Grey.png\"\n",
    "    test_white_img_name = imagename + \"-White.png\"\n",
    "    test_back_img_name = imagename + \"-Background.png\"\n",
    "    truth_grey_img_name = imagename + \"-Grey.png\"\n",
    "    truth_white_img_name = imagename + \"-White.png\"\n",
    "    truth_back_img_name = imagename + \"-Background.png\"\n",
    "\n",
    "    ##### Testing Background Mask #####\n",
    "    # Load images\n",
    "    TEST_img = np.array(Image.open(TEST_DIR + test_back_img_name))\n",
    "    truth_img = Image.open(TRUTH_DIR + truth_back_img_name)\n",
    "    (width, height) = (IMAGEDIMNORM[i, 0], IMAGEDIMNORM[i, 1])\n",
    "    truth_img = np.array(truth_img)\n",
    "    truth_width = truth_img.shape[0]\n",
    "    truth_height = truth_img.shape[1]\n",
    "    \n",
    "    test_img = np.zeros([truth_width,truth_height], bool)\n",
    "    for w in range(0,truth_width-128,128):\n",
    "        for h in range(0,truth_height-128,128):\n",
    "            test_img[w:w+128, h:h+128] = TEST_img[w//128,h//128]\n",
    "    \n",
    "    # Check dimensions and dtype\n",
    "    if not (test_img.shape[0] == IMAGEDIMNORM[i, 1] and test_img.shape[1] == IMAGEDIMNORM[i, 0]):\n",
    "        print('\\t' + imagename + ' background dimension WRONG!!!')\n",
    "    assert(truth_img.dtype == np.bool)\n",
    "\n",
    "  # Update tqdm descriptions\n",
    "    t.set_description_str(\"Image {}, Test ({}), Ground Truth ({})\".format(\n",
    "        imagename, str(test_img.shape), str(truth_img.shape)) )\n",
    "    t.refresh()\n",
    "    t.write(\"\", end=' ')\n",
    "\n",
    "    # Clip test_img to 1\n",
    "    test_img[test_img>=1] = 1\n",
    "\n",
    "    # Calculate true and false segmentations\n",
    "    width = truth_img.shape[1]\n",
    "    height = truth_img.shape[0]\n",
    "    back_TP = np.multiply(test_img, truth_img).sum()\n",
    "    back_FP = np.multiply(test_img, np.logical_not(truth_img)).sum()\n",
    "    back_FN = np.multiply(np.logical_not(test_img), truth_img).sum()\n",
    "    back_TN = np.multiply(np.logical_not(test_img), np.logical_not(truth_img)).sum()\n",
    "\n",
    "    # Check results\n",
    "    back_total = width*height\n",
    "    if not (back_total == back_TP+back_FP+back_FN+back_TN):\n",
    "        print('\\t' + imagename + ' background results WRONG!!!')\n",
    "\n",
    "    # Calculate IoU and F1 score\n",
    "    back_IoU = np.logical_and(test_img, truth_img).sum() / np.logical_or(test_img, truth_img).sum()\n",
    "    back_F1 = np.logical_and(test_img, truth_img).sum() * 2 / (test_img.sum() + truth_img.sum())\n",
    "\n",
    "    # Calculate IoU and F1 score using TP FP FN\n",
    "    back_IoU_conf = back_TP / (back_TP+back_FP+back_FN)\n",
    "    back_F1_conf = 2*back_TP / (2*back_TP+back_FP+back_FN)\n",
    "\n",
    "    ##### Testing Grey Matter Mask #####\n",
    "    # Load images\n",
    "    TEST_img = np.array(Image.open(TEST_DIR + test_grey_img_name))\n",
    "    truth_img = Image.open(TRUTH_DIR + truth_grey_img_name)\n",
    "    (width, height) = (IMAGEDIMNORM[i, 0], IMAGEDIMNORM[i, 1])\n",
    "    truth_img = np.array(truth_img)\n",
    "    \n",
    "    truth_width = truth_img.shape[0]\n",
    "    truth_height = truth_img.shape[1]\n",
    "    \n",
    "    test_img = np.zeros([truth_width,truth_height], bool)\n",
    "    for w in range(0,truth_width-128,128):\n",
    "        for h in range(0,truth_height-128,128):\n",
    "            test_img[w:w+128, h:h+128] = TEST_img[w//128,h//128]\n",
    "\n",
    "    # Check dimensions and dtype\n",
    "    if not (test_img.shape[0] == IMAGEDIMNORM[i, 1] and test_img.shape[1] == IMAGEDIMNORM[i, 0]):\n",
    "        print('\\t' + imagename + ' grey dimension WRONG!!!')\n",
    "    assert(truth_img.dtype == np.bool)\n",
    "\n",
    "    # Clip test_img to 1\n",
    "    test_img[test_img>=1] = 1\n",
    "\n",
    "    # Calculate true and false segmentations\n",
    "    width = truth_img.shape[1]\n",
    "    height = truth_img.shape[0]\n",
    "    grey_TP = np.multiply(test_img, truth_img).sum()\n",
    "    grey_FP = np.multiply(test_img, np.logical_not(truth_img)).sum()\n",
    "    grey_FN = np.multiply(np.logical_not(test_img), truth_img).sum()\n",
    "    grey_TN = np.multiply(np.logical_not(test_img), np.logical_not(truth_img)).sum()\n",
    "\n",
    "    # Check results\n",
    "    grey_total = width*height\n",
    "    if not (grey_total == grey_TP+grey_FP+grey_FN+grey_TN):\n",
    "        print('\\t' + imagename + ' grey matter results WRONG!!!')\n",
    "\n",
    "    # Calculate IoU and F1 score\n",
    "    grey_IoU = np.logical_and(test_img, truth_img).sum() / np.logical_or(test_img, truth_img).sum()\n",
    "    grey_F1 = np.logical_and(test_img, truth_img).sum() * 2 / (test_img.sum() + truth_img.sum())\n",
    "\n",
    "    # Calculate IoU and F1 score using TP FP FN\n",
    "    grey_IoU_conf = grey_TP / (grey_TP+grey_FP+grey_FN)\n",
    "    grey_F1_conf = 2*grey_TP / (2*grey_TP+grey_FP+grey_FN)\n",
    "\n",
    "    ##### Testing White Matter Mask #####\n",
    "    # Load images\n",
    "    TEST_img = np.array(Image.open(TEST_DIR + test_white_img_name))\n",
    "    truth_img = Image.open(TRUTH_DIR + truth_white_img_name)\n",
    "    (width, height) = (IMAGEDIMNORM[i, 0], IMAGEDIMNORM[i, 1])\n",
    "    truth_img = np.array(truth_img)\n",
    "\n",
    "    truth_width = truth_img.shape[0]\n",
    "    truth_height = truth_img.shape[1]\n",
    "    \n",
    "    test_img = np.zeros([truth_width,truth_height], bool)\n",
    "    for w in range(0,truth_width-128,128):\n",
    "        for h in range(0,truth_height-128,128):\n",
    "            test_img[w:w+128, h:h+128] = TEST_img[w//128,h//128]\n",
    "            \n",
    "    # Check dimensions and dtype\n",
    "    if not (test_img.shape[0] == IMAGEDIMNORM[i, 1] and test_img.shape[1] == IMAGEDIMNORM[i, 0]):\n",
    "        print('\\t' + imagename + ' white dimension WRONG!!!')\n",
    "    assert(truth_img.dtype == np.bool)\n",
    "\n",
    "    # Clip test_img to 1\n",
    "    test_img[test_img>=1] = 1\n",
    "\n",
    "    # Calculate true and false segmentations\n",
    "    width = truth_img.shape[1]\n",
    "    height = truth_img.shape[0]\n",
    "    white_TP = np.multiply(test_img, truth_img).sum()\n",
    "    white_FP = np.multiply(test_img, np.logical_not(truth_img)).sum()\n",
    "    white_FN = np.multiply(np.logical_not(test_img), truth_img).sum()\n",
    "    white_TN = np.multiply(np.logical_not(test_img), np.logical_not(truth_img)).sum()\n",
    "\n",
    "    # Check results\n",
    "    white_total = width*height\n",
    "    if not (white_total == white_TN+white_FP+white_FN+white_TP):\n",
    "        print('\\t' + imagename + ' white matter results WRONG!!!')\n",
    "\n",
    "    # Calculate IoU and F1 score\n",
    "    white_IoU = np.logical_and(test_img, truth_img).sum() / np.logical_or(test_img, truth_img).sum()\n",
    "    white_F1 = np.logical_and(test_img, truth_img).sum() * 2 / (test_img.sum() + truth_img.sum())\n",
    "\n",
    "    # Calculate IoU and F1 score using TP FP FN\n",
    "    white_IoU_conf = white_TP / (white_TP+white_FP+white_FN)\n",
    "    white_F1_conf = 2*white_TP / (2*white_TP+white_FP+white_FN)\n",
    "\n",
    "    # Save results: back_TN, back_FP, back_FN, back_TP, grey_TN, grey_FP, grey_FN, grey_TP, white_TN, white_FP, white_FN, white_TP\n",
    "    conf_mat[i, :] = [back_TN, back_FP, back_FN, back_TP, grey_TN, grey_FP, grey_FN, grey_TP, white_TN, white_FP, white_FN, white_TP]\n",
    "    # Stores accuracy results: back_IoU, back_F1, grey_IoU, grey_F1, white_IoU, white_F1\n",
    "    results[i, :] = [back_IoU, back_F1, grey_IoU, grey_F1, white_IoU, white_F1]\n",
    "    # Stores accuracy results: back_IoU_conf, back_F1_conf, grey_IoU_conf, grey_F1_conf, white_IoU_conf, white_F1_conf\n",
    "    results_conf[i, :] = [back_IoU_conf, back_F1_conf, grey_IoU_conf, grey_F1_conf, white_IoU_conf, white_F1_conf]\n",
    "\n",
    "    t.update()\n",
    "t.close()\n",
    "\n",
    "################################################################################\n",
    "# Multiply results and results_conf by 100 (%)\n",
    "results *= 100\n",
    "results_conf *= 100\n",
    "\n",
    "# Average results: Avg_IoU (%),Avg_IoU_conf (%),Avg_F1 (%),Avg_F1_conf (%)\n",
    "avg_result = np.zeros((len(image_names), 4))\n",
    "avg_result[:, 0] = np.mean(results[:, 0:6:2], axis=1)\n",
    "avg_result[:, 1] = np.mean(results_conf[:, 0:6:2], axis=1)\n",
    "avg_result[:, 2] = np.mean(results[:, 1:6:2], axis=1)\n",
    "avg_result[:, 3] = np.mean(results_conf[:, 1:6:2], axis=1)\n",
    "\n",
    "# Generate results file\n",
    "with open(TESTT_DIR + SAVE_FILENAME, \"w\") as f:\n",
    "    f.write('Image Name,Back_TN (px),Back_FP (px),Back_FN (px),Back_TP (px),' +\n",
    "          'Grey_TN (px),Grey_FP (px),Grey_FN (px),Grey_TP (px),' +\n",
    "          'White_TN (px),White_FP (px),White_FN (px),White_TP (px),' + \n",
    "          'Back_IoU (%),Back_IoU_conf (%),Back_F1 (%),Back_F1_conf (%),' +\n",
    "          'Grey_IoU (%),Grey_IoU_conf (%),Grey_F1 (%),Grey_F1_conf (%),' +\n",
    "          'White_IoU (%),White_IoU_conf (%),White_F1 (%),White_F1_conf (%),' +\n",
    "          'Avg_IoU (%),Avg_IoU_conf (%),Avg_F1 (%),Avg_F1_conf (%)\\n') \n",
    "\n",
    "    for i, imagename in enumerate(image_names):\n",
    "        f.write('%s,%d,%d,%d,%d,%d,%d,%d,%d,%d,%d,%d,%d,%.2f,%.2f,%.2f,%.2f,%.2f,%.2f,%.2f,%.2f,%.2f,%.2f,%.2f,%.2f,%.2f,%.2f,%.2f,%.2f\\n' % \n",
    "            (imagename, conf_mat[i, 0], conf_mat[i, 1], conf_mat[i, 2], conf_mat[i, 3], \n",
    "                conf_mat[i, 4], conf_mat[i, 5], conf_mat[i, 6], conf_mat[i, 7], \n",
    "                conf_mat[i, 8], conf_mat[i, 9], conf_mat[i, 10], conf_mat[i, 11], \n",
    "                results[i, 0], results_conf[i, 0], results[i, 1], results_conf[i, 1], \n",
    "                results[i, 2], results_conf[i, 2], results[i, 3], results_conf[i, 3], \n",
    "                results[i, 4], results_conf[i, 4], results[i, 5], results_conf[i, 5],\n",
    "                avg_result[i, 0], avg_result[i, 1], avg_result[i, 2], avg_result[i, 3])) \n",
    "    f.write('-' * 230 + '\\n')\n",
    "    f.write('Average,%d,%d,%d,%d,%d,%d,%d,%d,%d,%d,%d,%d,%.2f,%.2f,%.2f,%.2f,%.2f,%.2f,%.2f,%.2f,%.2f,%.2f,%.2f,%.2f,%.2f,%.2f,%.2f,%.2f\\n' % \n",
    "          (np.mean(conf_mat[:, 0]), np.mean(conf_mat[:, 1]), np.mean(conf_mat[:, 2]), np.mean(conf_mat[:, 3]), \n",
    "              np.mean(conf_mat[:, 4]), np.mean(conf_mat[:, 5]), np.mean(conf_mat[:, 6]), np.mean(conf_mat[:, 7]), \n",
    "              np.mean(conf_mat[:, 8]), np.mean(conf_mat[:, 9]), np.mean(conf_mat[:, 10]), np.mean(conf_mat[:, 11]), \n",
    "              np.mean(results[:, 0]), np.mean(results_conf[:, 0]), np.mean(results[:, 1]), np.mean(results_conf[:, 1]), \n",
    "              np.mean(results[:, 2]), np.mean(results_conf[:, 2]), np.mean(results[:, 3]), np.mean(results_conf[:, 3]), \n",
    "              np.mean(results[:, 4]), np.mean(results_conf[:, 4]), np.mean(results[:, 5]), np.mean(results_conf[:, 5]),\n",
    "              np.mean(avg_result[:, 0]), np.mean(avg_result[:, 1]), np.mean(avg_result[:, 2]), np.mean(avg_result[:, 3])))\n",
    "\n",
    "# Generate results file for LaTeX\n",
    "# with open(TEST_DIR + SAVE_FILENAME_LATEX, \"w\") as f:\n",
    "#     f.write('Image Name,Back_IoU (%),Back_F1 (%),Grey_IoU (%),Grey_F1 (%),White_IoU (%),White_F1 (%),Avg_IoU (%),Avg_F1 (%)\\n')\n",
    "#     for i, imagename in enumerate(image_names):\n",
    "#         f.write('%s & %.2f\\\\%% & %.2f\\\\%% & %.2f\\\\%% & %.2f\\\\%% & %.2f\\\\%% & %.2f\\\\%% & %.2f\\\\%% & %.2f\\\\%%\\\\\\\\\\n\\\\hline\\n' % \n",
    "#             (imagename.split('-')[0], results[i, 0], results[i, 1], results[i, 2], \n",
    "#                 results[i, 3], results[i, 4], results[i, 5], \n",
    "#                 avg_result[i, 0], avg_result[i, 2]))\n",
    "#     f.write('Average & %.2f\\\\%% & %.2f\\\\%% & %.2f\\\\%% & %.2f\\\\%% & %.2f\\\\%% & %.2f\\\\%% & %.2f\\\\%% & %.2f\\\\%%\\\\\\\\\\n\\n' % \n",
    "#             (np.mean(results[:, 0]), np.mean(results[:, 1]), np.mean(results[:, 2]), \n",
    "#              np.mean(results[:, 3]), np.mean(results[:, 4]), np.mean(results[:, 5]),\n",
    "#              np.mean(avg_result[:, 0]), np.mean(avg_result[:, 2])))\n",
    "print('Done!')"
   ]
  },
  {
   "cell_type": "code",
   "execution_count": null,
   "metadata": {},
   "outputs": [],
   "source": []
  }
 ],
 "metadata": {
  "kernelspec": {
   "display_name": "Python 3",
   "language": "python",
   "name": "python3"
  },
  "language_info": {
   "codemirror_mode": {
    "name": "ipython",
    "version": 3
   },
   "file_extension": ".py",
   "mimetype": "text/x-python",
   "name": "python",
   "nbconvert_exporter": "python",
   "pygments_lexer": "ipython3",
   "version": "3.6.9"
  }
 },
 "nbformat": 4,
 "nbformat_minor": 4
}
